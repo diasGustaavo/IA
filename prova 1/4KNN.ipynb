{
 "cells": [
  {
   "cell_type": "markdown",
   "id": "d9cdae05-2c52-4797-8e88-3f611322f186",
   "metadata": {},
   "source": [
    "Importando módulos necessários"
   ]
  },
  {
   "cell_type": "code",
   "execution_count": 1,
   "id": "61ff99e3-f076-4b04-8c4f-1964453ae7d8",
   "metadata": {
    "tags": []
   },
   "outputs": [],
   "source": [
    "import pandas as pd\n",
    "import numpy as np\n",
    "from sklearn import neighbors, metrics, preprocessing\n",
    "np.set_printoptions(suppress=True)"
   ]
  },
  {
   "cell_type": "markdown",
   "id": "89d2eb55-64be-494b-bd43-5b9bdb34f368",
   "metadata": {},
   "source": [
    "Abrindo o arquivo penguins_size.csv como dataframe chamado originalDF"
   ]
  },
  {
   "cell_type": "code",
   "execution_count": 2,
   "id": "42a6faa2-7841-41aa-9dec-4406b81bf581",
   "metadata": {
    "scrolled": true,
    "tags": []
   },
   "outputs": [],
   "source": [
    "originalDF = pd.read_csv('penguins_size.csv', encoding = \"ISO-8859-1\")"
   ]
  },
  {
   "cell_type": "markdown",
   "id": "33741746-a6a5-46a3-ac2e-18af2102756a",
   "metadata": {},
   "source": [
    "Codificando os campos que não eram compostos por números"
   ]
  },
  {
   "cell_type": "code",
   "execution_count": 3,
   "id": "09d94f9d-1fc3-48e1-a0c1-11b83da23f0b",
   "metadata": {},
   "outputs": [
    {
     "data": {
      "text/html": [
       "<div>\n",
       "<style scoped>\n",
       "    .dataframe tbody tr th:only-of-type {\n",
       "        vertical-align: middle;\n",
       "    }\n",
       "\n",
       "    .dataframe tbody tr th {\n",
       "        vertical-align: top;\n",
       "    }\n",
       "\n",
       "    .dataframe thead th {\n",
       "        text-align: right;\n",
       "    }\n",
       "</style>\n",
       "<table border=\"1\" class=\"dataframe\">\n",
       "  <thead>\n",
       "    <tr style=\"text-align: right;\">\n",
       "      <th></th>\n",
       "      <th>species</th>\n",
       "      <th>island</th>\n",
       "      <th>culmen_length_mm</th>\n",
       "      <th>culmen_depth_mm</th>\n",
       "      <th>flipper_length_mm</th>\n",
       "      <th>body_mass_g</th>\n",
       "      <th>sex</th>\n",
       "    </tr>\n",
       "  </thead>\n",
       "  <tbody>\n",
       "    <tr>\n",
       "      <th>0</th>\n",
       "      <td>0</td>\n",
       "      <td>2</td>\n",
       "      <td>39.1</td>\n",
       "      <td>18.7</td>\n",
       "      <td>181.0</td>\n",
       "      <td>3750.0</td>\n",
       "      <td>2</td>\n",
       "    </tr>\n",
       "    <tr>\n",
       "      <th>1</th>\n",
       "      <td>0</td>\n",
       "      <td>2</td>\n",
       "      <td>39.5</td>\n",
       "      <td>17.4</td>\n",
       "      <td>186.0</td>\n",
       "      <td>3800.0</td>\n",
       "      <td>1</td>\n",
       "    </tr>\n",
       "    <tr>\n",
       "      <th>2</th>\n",
       "      <td>0</td>\n",
       "      <td>2</td>\n",
       "      <td>40.3</td>\n",
       "      <td>18.0</td>\n",
       "      <td>195.0</td>\n",
       "      <td>3250.0</td>\n",
       "      <td>1</td>\n",
       "    </tr>\n",
       "    <tr>\n",
       "      <th>3</th>\n",
       "      <td>0</td>\n",
       "      <td>2</td>\n",
       "      <td>36.7</td>\n",
       "      <td>19.3</td>\n",
       "      <td>193.0</td>\n",
       "      <td>3450.0</td>\n",
       "      <td>1</td>\n",
       "    </tr>\n",
       "    <tr>\n",
       "      <th>4</th>\n",
       "      <td>0</td>\n",
       "      <td>2</td>\n",
       "      <td>39.3</td>\n",
       "      <td>20.6</td>\n",
       "      <td>190.0</td>\n",
       "      <td>3650.0</td>\n",
       "      <td>2</td>\n",
       "    </tr>\n",
       "    <tr>\n",
       "      <th>...</th>\n",
       "      <td>...</td>\n",
       "      <td>...</td>\n",
       "      <td>...</td>\n",
       "      <td>...</td>\n",
       "      <td>...</td>\n",
       "      <td>...</td>\n",
       "      <td>...</td>\n",
       "    </tr>\n",
       "    <tr>\n",
       "      <th>337</th>\n",
       "      <td>2</td>\n",
       "      <td>0</td>\n",
       "      <td>47.2</td>\n",
       "      <td>13.7</td>\n",
       "      <td>214.0</td>\n",
       "      <td>4925.0</td>\n",
       "      <td>1</td>\n",
       "    </tr>\n",
       "    <tr>\n",
       "      <th>338</th>\n",
       "      <td>2</td>\n",
       "      <td>0</td>\n",
       "      <td>46.8</td>\n",
       "      <td>14.3</td>\n",
       "      <td>215.0</td>\n",
       "      <td>4850.0</td>\n",
       "      <td>1</td>\n",
       "    </tr>\n",
       "    <tr>\n",
       "      <th>339</th>\n",
       "      <td>2</td>\n",
       "      <td>0</td>\n",
       "      <td>50.4</td>\n",
       "      <td>15.7</td>\n",
       "      <td>222.0</td>\n",
       "      <td>5750.0</td>\n",
       "      <td>2</td>\n",
       "    </tr>\n",
       "    <tr>\n",
       "      <th>340</th>\n",
       "      <td>2</td>\n",
       "      <td>0</td>\n",
       "      <td>45.2</td>\n",
       "      <td>14.8</td>\n",
       "      <td>212.0</td>\n",
       "      <td>5200.0</td>\n",
       "      <td>1</td>\n",
       "    </tr>\n",
       "    <tr>\n",
       "      <th>341</th>\n",
       "      <td>2</td>\n",
       "      <td>0</td>\n",
       "      <td>49.9</td>\n",
       "      <td>16.1</td>\n",
       "      <td>213.0</td>\n",
       "      <td>5400.0</td>\n",
       "      <td>2</td>\n",
       "    </tr>\n",
       "  </tbody>\n",
       "</table>\n",
       "<p>342 rows × 7 columns</p>\n",
       "</div>"
      ],
      "text/plain": [
       "     species  island  culmen_length_mm  culmen_depth_mm  flipper_length_mm  \\\n",
       "0          0       2              39.1             18.7              181.0   \n",
       "1          0       2              39.5             17.4              186.0   \n",
       "2          0       2              40.3             18.0              195.0   \n",
       "3          0       2              36.7             19.3              193.0   \n",
       "4          0       2              39.3             20.6              190.0   \n",
       "..       ...     ...               ...              ...                ...   \n",
       "337        2       0              47.2             13.7              214.0   \n",
       "338        2       0              46.8             14.3              215.0   \n",
       "339        2       0              50.4             15.7              222.0   \n",
       "340        2       0              45.2             14.8              212.0   \n",
       "341        2       0              49.9             16.1              213.0   \n",
       "\n",
       "     body_mass_g  sex  \n",
       "0         3750.0    2  \n",
       "1         3800.0    1  \n",
       "2         3250.0    1  \n",
       "3         3450.0    1  \n",
       "4         3650.0    2  \n",
       "..           ...  ...  \n",
       "337       4925.0    1  \n",
       "338       4850.0    1  \n",
       "339       5750.0    2  \n",
       "340       5200.0    1  \n",
       "341       5400.0    2  \n",
       "\n",
       "[342 rows x 7 columns]"
      ]
     },
     "execution_count": 3,
     "metadata": {},
     "output_type": "execute_result"
    }
   ],
   "source": [
    "label_encoder = preprocessing.LabelEncoder()\n",
    "\n",
    "encodedDF = originalDF.copy()\n",
    "encodedDF['island']= label_encoder.fit_transform(encodedDF['island'])\n",
    "encodedDF['sex']= label_encoder.fit_transform(encodedDF['sex'])\n",
    "encodedDF['species']= label_encoder.fit_transform(encodedDF['species'])\n",
    "\n",
    "encodedDF = encodedDF[~np.isnan(encodedDF).any(axis=1)]\n",
    "encodedDF.reset_index(drop=True, inplace=True)\n",
    "encodedDF"
   ]
  },
  {
   "cell_type": "markdown",
   "id": "39fb47d6-18df-4e31-adcf-f4987c78288b",
   "metadata": {},
   "source": [
    "Criando um dataframe padronizado"
   ]
  },
  {
   "cell_type": "code",
   "execution_count": 4,
   "id": "b483c8a3-87ac-4c7e-a14e-999881d53db0",
   "metadata": {},
   "outputs": [
    {
     "data": {
      "text/html": [
       "<div>\n",
       "<style scoped>\n",
       "    .dataframe tbody tr th:only-of-type {\n",
       "        vertical-align: middle;\n",
       "    }\n",
       "\n",
       "    .dataframe tbody tr th {\n",
       "        vertical-align: top;\n",
       "    }\n",
       "\n",
       "    .dataframe thead th {\n",
       "        text-align: right;\n",
       "    }\n",
       "</style>\n",
       "<table border=\"1\" class=\"dataframe\">\n",
       "  <thead>\n",
       "    <tr style=\"text-align: right;\">\n",
       "      <th></th>\n",
       "      <th>island</th>\n",
       "      <th>culmen_length_mm</th>\n",
       "      <th>culmen_depth_mm</th>\n",
       "      <th>flipper_length_mm</th>\n",
       "      <th>body_mass_g</th>\n",
       "      <th>sex</th>\n",
       "    </tr>\n",
       "  </thead>\n",
       "  <tbody>\n",
       "    <tr>\n",
       "      <th>0</th>\n",
       "      <td>1.852870</td>\n",
       "      <td>-0.884499</td>\n",
       "      <td>0.785449</td>\n",
       "      <td>-1.418347</td>\n",
       "      <td>-0.564142</td>\n",
       "      <td>0.846836</td>\n",
       "    </tr>\n",
       "    <tr>\n",
       "      <th>1</th>\n",
       "      <td>1.852870</td>\n",
       "      <td>-0.811126</td>\n",
       "      <td>0.126188</td>\n",
       "      <td>-1.062250</td>\n",
       "      <td>-0.501703</td>\n",
       "      <td>-0.974660</td>\n",
       "    </tr>\n",
       "    <tr>\n",
       "      <th>2</th>\n",
       "      <td>1.852870</td>\n",
       "      <td>-0.664380</td>\n",
       "      <td>0.430462</td>\n",
       "      <td>-0.421277</td>\n",
       "      <td>-1.188532</td>\n",
       "      <td>-0.974660</td>\n",
       "    </tr>\n",
       "    <tr>\n",
       "      <th>3</th>\n",
       "      <td>1.852870</td>\n",
       "      <td>-1.324737</td>\n",
       "      <td>1.089724</td>\n",
       "      <td>-0.563715</td>\n",
       "      <td>-0.938776</td>\n",
       "      <td>-0.974660</td>\n",
       "    </tr>\n",
       "    <tr>\n",
       "      <th>4</th>\n",
       "      <td>1.852870</td>\n",
       "      <td>-0.847812</td>\n",
       "      <td>1.748985</td>\n",
       "      <td>-0.777373</td>\n",
       "      <td>-0.689020</td>\n",
       "      <td>0.846836</td>\n",
       "    </tr>\n",
       "    <tr>\n",
       "      <th>...</th>\n",
       "      <td>...</td>\n",
       "      <td>...</td>\n",
       "      <td>...</td>\n",
       "      <td>...</td>\n",
       "      <td>...</td>\n",
       "      <td>...</td>\n",
       "    </tr>\n",
       "    <tr>\n",
       "      <th>337</th>\n",
       "      <td>-0.914298</td>\n",
       "      <td>0.601305</td>\n",
       "      <td>-1.750171</td>\n",
       "      <td>0.931890</td>\n",
       "      <td>0.903175</td>\n",
       "      <td>-0.974660</td>\n",
       "    </tr>\n",
       "    <tr>\n",
       "      <th>338</th>\n",
       "      <td>-0.914298</td>\n",
       "      <td>0.527932</td>\n",
       "      <td>-1.445897</td>\n",
       "      <td>1.003109</td>\n",
       "      <td>0.809516</td>\n",
       "      <td>-0.974660</td>\n",
       "    </tr>\n",
       "    <tr>\n",
       "      <th>339</th>\n",
       "      <td>-0.914298</td>\n",
       "      <td>1.188289</td>\n",
       "      <td>-0.735923</td>\n",
       "      <td>1.501644</td>\n",
       "      <td>1.933419</td>\n",
       "      <td>0.846836</td>\n",
       "    </tr>\n",
       "    <tr>\n",
       "      <th>340</th>\n",
       "      <td>-0.914298</td>\n",
       "      <td>0.234440</td>\n",
       "      <td>-1.192335</td>\n",
       "      <td>0.789451</td>\n",
       "      <td>1.246590</td>\n",
       "      <td>-0.974660</td>\n",
       "    </tr>\n",
       "    <tr>\n",
       "      <th>341</th>\n",
       "      <td>-0.914298</td>\n",
       "      <td>1.096572</td>\n",
       "      <td>-0.533073</td>\n",
       "      <td>0.860670</td>\n",
       "      <td>1.496346</td>\n",
       "      <td>0.846836</td>\n",
       "    </tr>\n",
       "  </tbody>\n",
       "</table>\n",
       "<p>342 rows × 6 columns</p>\n",
       "</div>"
      ],
      "text/plain": [
       "       island  culmen_length_mm  culmen_depth_mm  flipper_length_mm  \\\n",
       "0    1.852870         -0.884499         0.785449          -1.418347   \n",
       "1    1.852870         -0.811126         0.126188          -1.062250   \n",
       "2    1.852870         -0.664380         0.430462          -0.421277   \n",
       "3    1.852870         -1.324737         1.089724          -0.563715   \n",
       "4    1.852870         -0.847812         1.748985          -0.777373   \n",
       "..        ...               ...              ...                ...   \n",
       "337 -0.914298          0.601305        -1.750171           0.931890   \n",
       "338 -0.914298          0.527932        -1.445897           1.003109   \n",
       "339 -0.914298          1.188289        -0.735923           1.501644   \n",
       "340 -0.914298          0.234440        -1.192335           0.789451   \n",
       "341 -0.914298          1.096572        -0.533073           0.860670   \n",
       "\n",
       "     body_mass_g       sex  \n",
       "0      -0.564142  0.846836  \n",
       "1      -0.501703 -0.974660  \n",
       "2      -1.188532 -0.974660  \n",
       "3      -0.938776 -0.974660  \n",
       "4      -0.689020  0.846836  \n",
       "..           ...       ...  \n",
       "337     0.903175 -0.974660  \n",
       "338     0.809516 -0.974660  \n",
       "339     1.933419  0.846836  \n",
       "340     1.246590 -0.974660  \n",
       "341     1.496346  0.846836  \n",
       "\n",
       "[342 rows x 6 columns]"
      ]
     },
     "execution_count": 4,
     "metadata": {},
     "output_type": "execute_result"
    }
   ],
   "source": [
    "from sklearn.preprocessing import StandardScaler\n",
    "\n",
    "scaledArr = StandardScaler().fit_transform(encodedDF.loc[:, ['island','culmen_length_mm','culmen_depth_mm', 'flipper_length_mm', 'body_mass_g', 'sex']].values)\n",
    "scaledDF = pd.DataFrame(data = scaledArr, columns = ['island','culmen_length_mm','culmen_depth_mm', 'flipper_length_mm', 'body_mass_g', 'sex'])\n",
    "scaledDF"
   ]
  },
  {
   "cell_type": "markdown",
   "id": "e79467ca-6a17-44e6-a9cc-057655d1e2d9",
   "metadata": {},
   "source": [
    "Incluindo no dataframe padronizado a espécie"
   ]
  },
  {
   "cell_type": "code",
   "execution_count": 5,
   "id": "e6fb17bd-83b3-4318-b3ea-e340d7028384",
   "metadata": {},
   "outputs": [
    {
     "data": {
      "text/html": [
       "<div>\n",
       "<style scoped>\n",
       "    .dataframe tbody tr th:only-of-type {\n",
       "        vertical-align: middle;\n",
       "    }\n",
       "\n",
       "    .dataframe tbody tr th {\n",
       "        vertical-align: top;\n",
       "    }\n",
       "\n",
       "    .dataframe thead th {\n",
       "        text-align: right;\n",
       "    }\n",
       "</style>\n",
       "<table border=\"1\" class=\"dataframe\">\n",
       "  <thead>\n",
       "    <tr style=\"text-align: right;\">\n",
       "      <th></th>\n",
       "      <th>island</th>\n",
       "      <th>culmen_length_mm</th>\n",
       "      <th>culmen_depth_mm</th>\n",
       "      <th>flipper_length_mm</th>\n",
       "      <th>body_mass_g</th>\n",
       "      <th>sex</th>\n",
       "      <th>species</th>\n",
       "    </tr>\n",
       "  </thead>\n",
       "  <tbody>\n",
       "    <tr>\n",
       "      <th>0</th>\n",
       "      <td>1.852870</td>\n",
       "      <td>-0.884499</td>\n",
       "      <td>0.785449</td>\n",
       "      <td>-1.418347</td>\n",
       "      <td>-0.564142</td>\n",
       "      <td>0.846836</td>\n",
       "      <td>0</td>\n",
       "    </tr>\n",
       "    <tr>\n",
       "      <th>1</th>\n",
       "      <td>1.852870</td>\n",
       "      <td>-0.811126</td>\n",
       "      <td>0.126188</td>\n",
       "      <td>-1.062250</td>\n",
       "      <td>-0.501703</td>\n",
       "      <td>-0.974660</td>\n",
       "      <td>0</td>\n",
       "    </tr>\n",
       "    <tr>\n",
       "      <th>2</th>\n",
       "      <td>1.852870</td>\n",
       "      <td>-0.664380</td>\n",
       "      <td>0.430462</td>\n",
       "      <td>-0.421277</td>\n",
       "      <td>-1.188532</td>\n",
       "      <td>-0.974660</td>\n",
       "      <td>0</td>\n",
       "    </tr>\n",
       "    <tr>\n",
       "      <th>3</th>\n",
       "      <td>1.852870</td>\n",
       "      <td>-1.324737</td>\n",
       "      <td>1.089724</td>\n",
       "      <td>-0.563715</td>\n",
       "      <td>-0.938776</td>\n",
       "      <td>-0.974660</td>\n",
       "      <td>0</td>\n",
       "    </tr>\n",
       "    <tr>\n",
       "      <th>4</th>\n",
       "      <td>1.852870</td>\n",
       "      <td>-0.847812</td>\n",
       "      <td>1.748985</td>\n",
       "      <td>-0.777373</td>\n",
       "      <td>-0.689020</td>\n",
       "      <td>0.846836</td>\n",
       "      <td>0</td>\n",
       "    </tr>\n",
       "    <tr>\n",
       "      <th>...</th>\n",
       "      <td>...</td>\n",
       "      <td>...</td>\n",
       "      <td>...</td>\n",
       "      <td>...</td>\n",
       "      <td>...</td>\n",
       "      <td>...</td>\n",
       "      <td>...</td>\n",
       "    </tr>\n",
       "    <tr>\n",
       "      <th>337</th>\n",
       "      <td>-0.914298</td>\n",
       "      <td>0.601305</td>\n",
       "      <td>-1.750171</td>\n",
       "      <td>0.931890</td>\n",
       "      <td>0.903175</td>\n",
       "      <td>-0.974660</td>\n",
       "      <td>2</td>\n",
       "    </tr>\n",
       "    <tr>\n",
       "      <th>338</th>\n",
       "      <td>-0.914298</td>\n",
       "      <td>0.527932</td>\n",
       "      <td>-1.445897</td>\n",
       "      <td>1.003109</td>\n",
       "      <td>0.809516</td>\n",
       "      <td>-0.974660</td>\n",
       "      <td>2</td>\n",
       "    </tr>\n",
       "    <tr>\n",
       "      <th>339</th>\n",
       "      <td>-0.914298</td>\n",
       "      <td>1.188289</td>\n",
       "      <td>-0.735923</td>\n",
       "      <td>1.501644</td>\n",
       "      <td>1.933419</td>\n",
       "      <td>0.846836</td>\n",
       "      <td>2</td>\n",
       "    </tr>\n",
       "    <tr>\n",
       "      <th>340</th>\n",
       "      <td>-0.914298</td>\n",
       "      <td>0.234440</td>\n",
       "      <td>-1.192335</td>\n",
       "      <td>0.789451</td>\n",
       "      <td>1.246590</td>\n",
       "      <td>-0.974660</td>\n",
       "      <td>2</td>\n",
       "    </tr>\n",
       "    <tr>\n",
       "      <th>341</th>\n",
       "      <td>-0.914298</td>\n",
       "      <td>1.096572</td>\n",
       "      <td>-0.533073</td>\n",
       "      <td>0.860670</td>\n",
       "      <td>1.496346</td>\n",
       "      <td>0.846836</td>\n",
       "      <td>2</td>\n",
       "    </tr>\n",
       "  </tbody>\n",
       "</table>\n",
       "<p>342 rows × 7 columns</p>\n",
       "</div>"
      ],
      "text/plain": [
       "       island  culmen_length_mm  culmen_depth_mm  flipper_length_mm  \\\n",
       "0    1.852870         -0.884499         0.785449          -1.418347   \n",
       "1    1.852870         -0.811126         0.126188          -1.062250   \n",
       "2    1.852870         -0.664380         0.430462          -0.421277   \n",
       "3    1.852870         -1.324737         1.089724          -0.563715   \n",
       "4    1.852870         -0.847812         1.748985          -0.777373   \n",
       "..        ...               ...              ...                ...   \n",
       "337 -0.914298          0.601305        -1.750171           0.931890   \n",
       "338 -0.914298          0.527932        -1.445897           1.003109   \n",
       "339 -0.914298          1.188289        -0.735923           1.501644   \n",
       "340 -0.914298          0.234440        -1.192335           0.789451   \n",
       "341 -0.914298          1.096572        -0.533073           0.860670   \n",
       "\n",
       "     body_mass_g       sex  species  \n",
       "0      -0.564142  0.846836        0  \n",
       "1      -0.501703 -0.974660        0  \n",
       "2      -1.188532 -0.974660        0  \n",
       "3      -0.938776 -0.974660        0  \n",
       "4      -0.689020  0.846836        0  \n",
       "..           ...       ...      ...  \n",
       "337     0.903175 -0.974660        2  \n",
       "338     0.809516 -0.974660        2  \n",
       "339     1.933419  0.846836        2  \n",
       "340     1.246590 -0.974660        2  \n",
       "341     1.496346  0.846836        2  \n",
       "\n",
       "[342 rows x 7 columns]"
      ]
     },
     "execution_count": 5,
     "metadata": {},
     "output_type": "execute_result"
    }
   ],
   "source": [
    "scaledDF = pd.concat([scaledDF, encodedDF[['species']]], axis = 1)\n",
    "scaledDF"
   ]
  },
  {
   "cell_type": "markdown",
   "id": "bdbb9b51-d72d-4c3f-9b1b-e48b8238edd0",
   "metadata": {},
   "source": [
    "Separando o rótulo dos componentes, sendo y o rótulo"
   ]
  },
  {
   "cell_type": "code",
   "execution_count": 6,
   "id": "fae0cba0-77e6-4674-b383-40af511f8251",
   "metadata": {},
   "outputs": [
    {
     "data": {
      "text/plain": [
       "array([[ 1.85286967, -0.88449874,  0.78544923, -1.41834665, -0.56414208,\n",
       "         0.84683555],\n",
       "       [ 1.85286967, -0.81112573,  0.1261879 , -1.06225022, -0.50170305,\n",
       "        -0.97465979],\n",
       "       [ 1.85286967, -0.66437972,  0.43046236, -0.42127665, -1.18853234,\n",
       "        -0.97465979],\n",
       "       ...,\n",
       "       [-0.91429814,  1.18828874, -0.73592307,  1.50164406,  1.93341896,\n",
       "         0.84683555],\n",
       "       [-0.91429814,  0.23443963, -1.19233476,  0.7894512 ,  1.24658968,\n",
       "        -0.97465979],\n",
       "       [-0.91429814,  1.09657248, -0.53307343,  0.86067049,  1.49634578,\n",
       "         0.84683555]])"
      ]
     },
     "execution_count": 6,
     "metadata": {},
     "output_type": "execute_result"
    }
   ],
   "source": [
    "y = scaledDF.loc[:, ['species']].values\n",
    "X = scaledDF.loc[:, ['island','culmen_length_mm','culmen_depth_mm', 'flipper_length_mm', 'body_mass_g', 'sex']].values\n",
    "X"
   ]
  },
  {
   "cell_type": "markdown",
   "id": "02165e24-9972-4ecb-ad51-c661ef4b5c1a",
   "metadata": {},
   "source": [
    "Aplicando oversampling na base para balancear o número de classes"
   ]
  },
  {
   "cell_type": "code",
   "execution_count": 7,
   "id": "7dda4b8b-a22f-4ece-8c99-945eeea3df4a",
   "metadata": {},
   "outputs": [],
   "source": [
    "from imblearn.over_sampling import RandomOverSampler\n",
    "\n",
    "OverResampler = RandomOverSampler()\n",
    "\n",
    "X, y = OverResampler.fit_resample(X, y)"
   ]
  },
  {
   "cell_type": "markdown",
   "id": "84a5ac2e-2908-4d02-b303-17e25074b789",
   "metadata": {},
   "source": [
    "Dividindo X e y, compondo 20% como teste e 80% como restante do dado a ser utilizado para treinar o modelo"
   ]
  },
  {
   "cell_type": "code",
   "execution_count": 8,
   "id": "877042b0-b080-47bc-8291-a2787d648976",
   "metadata": {},
   "outputs": [],
   "source": [
    "from sklearn.model_selection import train_test_split\n",
    "X_train, X_test, y_train, y_test = train_test_split(X, y, test_size=0.20)"
   ]
  },
  {
   "cell_type": "markdown",
   "id": "280d77ba-48e7-4b51-af4d-c35c0aea211f",
   "metadata": {},
   "source": [
    "Usando K como 1:"
   ]
  },
  {
   "cell_type": "code",
   "execution_count": 9,
   "id": "2db38adb-66a2-420c-b4e5-753bc69ed2b2",
   "metadata": {},
   "outputs": [
    {
     "data": {
      "text/plain": [
       "KNeighborsClassifier(n_neighbors=1)"
      ]
     },
     "execution_count": 9,
     "metadata": {},
     "output_type": "execute_result"
    }
   ],
   "source": [
    "from sklearn.neighbors import KNeighborsClassifier\n",
    "classifier = KNeighborsClassifier(n_neighbors=1)\n",
    "classifier.fit(X_train, y_train)"
   ]
  },
  {
   "cell_type": "code",
   "execution_count": 10,
   "id": "a311ffb9-48a5-4202-8928-65980eb44d2a",
   "metadata": {},
   "outputs": [],
   "source": [
    "y_pred = classifier.predict(X_test)"
   ]
  },
  {
   "cell_type": "markdown",
   "id": "a9f1b575-d13e-45a1-a1cd-8769e1bed523",
   "metadata": {},
   "source": [
    "Matriz de confusão com K = 1:"
   ]
  },
  {
   "cell_type": "code",
   "execution_count": 11,
   "id": "49202b76-69c1-452d-a5fd-72b3062c971d",
   "metadata": {},
   "outputs": [
    {
     "name": "stdout",
     "output_type": "stream",
     "text": [
      "[[28  0  0]\n",
      " [ 0 33  0]\n",
      " [ 0  0 30]]\n"
     ]
    }
   ],
   "source": [
    "from sklearn.metrics import classification_report, confusion_matrix\n",
    "print(confusion_matrix(y_test, y_pred))"
   ]
  },
  {
   "cell_type": "markdown",
   "id": "54bae204-5985-469e-aaf2-e72773d60abb",
   "metadata": {},
   "source": [
    "Métricas de avaliação precision, recall e f1-score com K = 1:"
   ]
  },
  {
   "cell_type": "code",
   "execution_count": 12,
   "id": "385d82bc-1a20-4cd7-b099-40a19138d2e5",
   "metadata": {},
   "outputs": [
    {
     "name": "stdout",
     "output_type": "stream",
     "text": [
      "              precision    recall  f1-score   support\n",
      "\n",
      "           0       1.00      1.00      1.00        28\n",
      "           1       1.00      1.00      1.00        33\n",
      "           2       1.00      1.00      1.00        30\n",
      "\n",
      "    accuracy                           1.00        91\n",
      "   macro avg       1.00      1.00      1.00        91\n",
      "weighted avg       1.00      1.00      1.00        91\n",
      "\n"
     ]
    }
   ],
   "source": [
    "print(classification_report(y_test, y_pred))"
   ]
  },
  {
   "cell_type": "markdown",
   "id": "206b4ec5-7566-43d9-a4dd-b52fdc30c72f",
   "metadata": {},
   "source": [
    "Usando K como 2:"
   ]
  },
  {
   "cell_type": "code",
   "execution_count": 13,
   "id": "9c53faf0-423d-4a3f-896d-3de3dc8eb277",
   "metadata": {},
   "outputs": [
    {
     "data": {
      "text/plain": [
       "KNeighborsClassifier(n_neighbors=2)"
      ]
     },
     "execution_count": 13,
     "metadata": {},
     "output_type": "execute_result"
    }
   ],
   "source": [
    "from sklearn.neighbors import KNeighborsClassifier\n",
    "classifier = KNeighborsClassifier(n_neighbors=2)\n",
    "classifier.fit(X_train, y_train)"
   ]
  },
  {
   "cell_type": "code",
   "execution_count": 14,
   "id": "be7bc86a-8156-4c91-b026-dcd7ce960670",
   "metadata": {},
   "outputs": [],
   "source": [
    "y_pred = classifier.predict(X_test)"
   ]
  },
  {
   "cell_type": "markdown",
   "id": "855e4142-51b9-4d2b-a881-8bb20bf639a1",
   "metadata": {},
   "source": [
    "Matriz de confusão com K = 2:"
   ]
  },
  {
   "cell_type": "code",
   "execution_count": 15,
   "id": "9179f788-186f-4dfe-b718-ce39e1dbbf84",
   "metadata": {},
   "outputs": [
    {
     "name": "stdout",
     "output_type": "stream",
     "text": [
      "[[28  0  0]\n",
      " [ 0 33  0]\n",
      " [ 0  0 30]]\n"
     ]
    }
   ],
   "source": [
    "from sklearn.metrics import classification_report, confusion_matrix\n",
    "print(confusion_matrix(y_test, y_pred))"
   ]
  },
  {
   "cell_type": "markdown",
   "id": "d4e5bc18-a0e0-4e9a-acc9-92191cff9950",
   "metadata": {},
   "source": [
    "Métricas de avaliação precision, recall e f1-score com K = 2:"
   ]
  },
  {
   "cell_type": "code",
   "execution_count": 16,
   "id": "ea6d41d2-98de-44a4-bb45-85795ebb9a1f",
   "metadata": {},
   "outputs": [
    {
     "name": "stdout",
     "output_type": "stream",
     "text": [
      "              precision    recall  f1-score   support\n",
      "\n",
      "           0       1.00      1.00      1.00        28\n",
      "           1       1.00      1.00      1.00        33\n",
      "           2       1.00      1.00      1.00        30\n",
      "\n",
      "    accuracy                           1.00        91\n",
      "   macro avg       1.00      1.00      1.00        91\n",
      "weighted avg       1.00      1.00      1.00        91\n",
      "\n"
     ]
    }
   ],
   "source": [
    "print(classification_report(y_test, y_pred))"
   ]
  },
  {
   "cell_type": "markdown",
   "id": "30e30f68-ce4f-4a4c-9840-0c3b31eea683",
   "metadata": {},
   "source": [
    "Usando K como 3:"
   ]
  },
  {
   "cell_type": "code",
   "execution_count": 17,
   "id": "c2fccfac-ab90-4635-b06d-597fa09ad038",
   "metadata": {},
   "outputs": [
    {
     "data": {
      "text/plain": [
       "KNeighborsClassifier(n_neighbors=3)"
      ]
     },
     "execution_count": 17,
     "metadata": {},
     "output_type": "execute_result"
    }
   ],
   "source": [
    "from sklearn.neighbors import KNeighborsClassifier\n",
    "classifier = KNeighborsClassifier(n_neighbors=3)\n",
    "classifier.fit(X_train, y_train)"
   ]
  },
  {
   "cell_type": "code",
   "execution_count": 18,
   "id": "84e66210-301b-4eb5-a043-26e293790d4f",
   "metadata": {},
   "outputs": [],
   "source": [
    "y_pred = classifier.predict(X_test)"
   ]
  },
  {
   "cell_type": "markdown",
   "id": "81017c6f-b2aa-47c9-870e-d2c81427e5f6",
   "metadata": {},
   "source": [
    "Matriz de confusão com K = 3:"
   ]
  },
  {
   "cell_type": "code",
   "execution_count": 19,
   "id": "b241d620-85ea-494e-8510-c8d61089ad70",
   "metadata": {},
   "outputs": [
    {
     "name": "stdout",
     "output_type": "stream",
     "text": [
      "[[28  0  0]\n",
      " [ 0 33  0]\n",
      " [ 0  0 30]]\n"
     ]
    }
   ],
   "source": [
    "from sklearn.metrics import classification_report, confusion_matrix\n",
    "print(confusion_matrix(y_test, y_pred))"
   ]
  },
  {
   "cell_type": "markdown",
   "id": "5df78650-1209-483e-9e30-594881ab711c",
   "metadata": {},
   "source": [
    "Métricas de avaliação precision, recall e f1-score com K = 3:"
   ]
  },
  {
   "cell_type": "code",
   "execution_count": 20,
   "id": "7c188054-50e2-4711-9941-02aa1bce6808",
   "metadata": {},
   "outputs": [
    {
     "name": "stdout",
     "output_type": "stream",
     "text": [
      "              precision    recall  f1-score   support\n",
      "\n",
      "           0       1.00      1.00      1.00        28\n",
      "           1       1.00      1.00      1.00        33\n",
      "           2       1.00      1.00      1.00        30\n",
      "\n",
      "    accuracy                           1.00        91\n",
      "   macro avg       1.00      1.00      1.00        91\n",
      "weighted avg       1.00      1.00      1.00        91\n",
      "\n"
     ]
    }
   ],
   "source": [
    "print(classification_report(y_test, y_pred))"
   ]
  },
  {
   "cell_type": "markdown",
   "id": "6c2c5f43-6d63-48a6-acde-145b11c06acf",
   "metadata": {},
   "source": [
    "Usando K como 4:"
   ]
  },
  {
   "cell_type": "code",
   "execution_count": 21,
   "id": "26910da6-09e8-4d94-96e9-0d12abaa1815",
   "metadata": {},
   "outputs": [
    {
     "data": {
      "text/plain": [
       "KNeighborsClassifier(n_neighbors=4)"
      ]
     },
     "execution_count": 21,
     "metadata": {},
     "output_type": "execute_result"
    }
   ],
   "source": [
    "from sklearn.neighbors import KNeighborsClassifier\n",
    "classifier = KNeighborsClassifier(n_neighbors=4)\n",
    "classifier.fit(X_train, y_train)"
   ]
  },
  {
   "cell_type": "code",
   "execution_count": 22,
   "id": "f86d703e-41d8-4a04-b5dc-0f8eed4c07d3",
   "metadata": {},
   "outputs": [],
   "source": [
    "y_pred = classifier.predict(X_test)"
   ]
  },
  {
   "cell_type": "markdown",
   "id": "2697f282-2d8e-4584-91f5-f47d8360bb04",
   "metadata": {},
   "source": [
    "Matriz de confusão com K = 4:"
   ]
  },
  {
   "cell_type": "code",
   "execution_count": 23,
   "id": "396f6ac6-5b98-4070-bbdc-34cd4a96c925",
   "metadata": {},
   "outputs": [
    {
     "name": "stdout",
     "output_type": "stream",
     "text": [
      "[[28  0  0]\n",
      " [ 0 33  0]\n",
      " [ 0  0 30]]\n"
     ]
    }
   ],
   "source": [
    "from sklearn.metrics import classification_report, confusion_matrix\n",
    "print(confusion_matrix(y_test, y_pred))"
   ]
  },
  {
   "cell_type": "markdown",
   "id": "56fde374-35e0-4b22-8711-d8548ac0680b",
   "metadata": {},
   "source": [
    "Métricas de avaliação precision, recall e f1-score com K = 4:"
   ]
  },
  {
   "cell_type": "code",
   "execution_count": 24,
   "id": "b389b83b-5674-47d6-a127-1e5a684273ec",
   "metadata": {},
   "outputs": [
    {
     "name": "stdout",
     "output_type": "stream",
     "text": [
      "              precision    recall  f1-score   support\n",
      "\n",
      "           0       1.00      1.00      1.00        28\n",
      "           1       1.00      1.00      1.00        33\n",
      "           2       1.00      1.00      1.00        30\n",
      "\n",
      "    accuracy                           1.00        91\n",
      "   macro avg       1.00      1.00      1.00        91\n",
      "weighted avg       1.00      1.00      1.00        91\n",
      "\n"
     ]
    }
   ],
   "source": [
    "print(classification_report(y_test, y_pred))"
   ]
  },
  {
   "cell_type": "markdown",
   "id": "c21ee738-8fa5-470f-a1d5-f05b8563085f",
   "metadata": {},
   "source": [
    "Usando K como 5:"
   ]
  },
  {
   "cell_type": "code",
   "execution_count": 25,
   "id": "687b80dd-09bd-41a9-8cff-9496b14de3d7",
   "metadata": {},
   "outputs": [
    {
     "data": {
      "text/plain": [
       "KNeighborsClassifier()"
      ]
     },
     "execution_count": 25,
     "metadata": {},
     "output_type": "execute_result"
    }
   ],
   "source": [
    "from sklearn.neighbors import KNeighborsClassifier\n",
    "classifier = KNeighborsClassifier(n_neighbors=5)\n",
    "classifier.fit(X_train, y_train)"
   ]
  },
  {
   "cell_type": "code",
   "execution_count": 26,
   "id": "692d215e-3c0e-48bc-aae3-e00712e3c366",
   "metadata": {},
   "outputs": [],
   "source": [
    "y_pred = classifier.predict(X_test)"
   ]
  },
  {
   "cell_type": "markdown",
   "id": "6a307684-908f-4bb5-a8bf-7e3b85568f6d",
   "metadata": {},
   "source": [
    "Matriz de confusão com K = 5:"
   ]
  },
  {
   "cell_type": "code",
   "execution_count": 27,
   "id": "15d3718e-c9c0-475f-8a31-ab9f4a6a0dc3",
   "metadata": {},
   "outputs": [
    {
     "name": "stdout",
     "output_type": "stream",
     "text": [
      "[[28  0  0]\n",
      " [ 0 33  0]\n",
      " [ 0  0 30]]\n"
     ]
    }
   ],
   "source": [
    "from sklearn.metrics import classification_report, confusion_matrix\n",
    "print(confusion_matrix(y_test, y_pred))"
   ]
  },
  {
   "cell_type": "markdown",
   "id": "d4b5d8d0-6041-4ae5-8cfb-633af59a01fb",
   "metadata": {},
   "source": [
    "Métricas de avaliação precision, recall e f1-score com K = 5:"
   ]
  },
  {
   "cell_type": "code",
   "execution_count": 28,
   "id": "ded82757-a9b1-4880-94c8-d4f292ada41a",
   "metadata": {},
   "outputs": [
    {
     "name": "stdout",
     "output_type": "stream",
     "text": [
      "              precision    recall  f1-score   support\n",
      "\n",
      "           0       1.00      1.00      1.00        28\n",
      "           1       1.00      1.00      1.00        33\n",
      "           2       1.00      1.00      1.00        30\n",
      "\n",
      "    accuracy                           1.00        91\n",
      "   macro avg       1.00      1.00      1.00        91\n",
      "weighted avg       1.00      1.00      1.00        91\n",
      "\n"
     ]
    }
   ],
   "source": [
    "print(classification_report(y_test, y_pred))"
   ]
  },
  {
   "cell_type": "markdown",
   "id": "accfedd3-756d-4ca8-bf8f-d350cd3469a8",
   "metadata": {},
   "source": [
    "Usando distância de minkowski e K = 1"
   ]
  },
  {
   "cell_type": "code",
   "execution_count": 29,
   "id": "b3a14b5b-30d6-42ca-b568-a686e1213728",
   "metadata": {},
   "outputs": [
    {
     "data": {
      "text/plain": [
       "KNeighborsClassifier(n_neighbors=1)"
      ]
     },
     "execution_count": 29,
     "metadata": {},
     "output_type": "execute_result"
    }
   ],
   "source": [
    "from sklearn.neighbors import KNeighborsClassifier\n",
    "classifier = KNeighborsClassifier(n_neighbors=1, metric='minkowski')\n",
    "classifier.fit(X_train, y_train)"
   ]
  },
  {
   "cell_type": "code",
   "execution_count": 30,
   "id": "002f4235-9e3f-4976-aa57-0eab1c2b4cd5",
   "metadata": {},
   "outputs": [],
   "source": [
    "y_pred = classifier.predict(X_test)"
   ]
  },
  {
   "cell_type": "markdown",
   "id": "fae33bbf-4f24-406c-a71e-7e345a19d016",
   "metadata": {},
   "source": [
    "Matriz de confusão com distância de minkowski e K = 1"
   ]
  },
  {
   "cell_type": "code",
   "execution_count": 31,
   "id": "ea816fc0-6b3a-4f05-ad0d-685227d37b36",
   "metadata": {},
   "outputs": [
    {
     "name": "stdout",
     "output_type": "stream",
     "text": [
      "[[28  0  0]\n",
      " [ 0 33  0]\n",
      " [ 0  0 30]]\n"
     ]
    }
   ],
   "source": [
    "from sklearn.metrics import classification_report, confusion_matrix\n",
    "print(confusion_matrix(y_test, y_pred))"
   ]
  },
  {
   "cell_type": "markdown",
   "id": "882718a7-8d98-49e0-931e-1ac884a01282",
   "metadata": {},
   "source": [
    "Métricas de avaliação precision, recall e f1-score com distância de minkowski e K = 1"
   ]
  },
  {
   "cell_type": "code",
   "execution_count": 32,
   "id": "3f73374d-cacb-4a14-88b4-98ade28e60fe",
   "metadata": {},
   "outputs": [
    {
     "name": "stdout",
     "output_type": "stream",
     "text": [
      "              precision    recall  f1-score   support\n",
      "\n",
      "           0       1.00      1.00      1.00        28\n",
      "           1       1.00      1.00      1.00        33\n",
      "           2       1.00      1.00      1.00        30\n",
      "\n",
      "    accuracy                           1.00        91\n",
      "   macro avg       1.00      1.00      1.00        91\n",
      "weighted avg       1.00      1.00      1.00        91\n",
      "\n"
     ]
    }
   ],
   "source": [
    "print(classification_report(y_test, y_pred))"
   ]
  },
  {
   "cell_type": "markdown",
   "id": "9e46a709-d328-4d49-b5f0-2a24f632d093",
   "metadata": {},
   "source": [
    "Usando distância de chebyshev e K = 1"
   ]
  },
  {
   "cell_type": "code",
   "execution_count": 33,
   "id": "91387c47-11cc-4b75-bd50-c7ca854dae8e",
   "metadata": {},
   "outputs": [
    {
     "data": {
      "text/plain": [
       "KNeighborsClassifier(metric='chebyshev', n_neighbors=1)"
      ]
     },
     "execution_count": 33,
     "metadata": {},
     "output_type": "execute_result"
    }
   ],
   "source": [
    "from sklearn.neighbors import KNeighborsClassifier\n",
    "classifier = KNeighborsClassifier(n_neighbors=1, metric='chebyshev')\n",
    "classifier.fit(X_train, y_train)"
   ]
  },
  {
   "cell_type": "code",
   "execution_count": 34,
   "id": "94ba6bb1-b937-4fb3-b5d6-44c2a8a72abc",
   "metadata": {},
   "outputs": [],
   "source": [
    "y_pred = classifier.predict(X_test)"
   ]
  },
  {
   "cell_type": "markdown",
   "id": "69b9aa9d-2daf-4b46-a3fd-7facff3a8a37",
   "metadata": {},
   "source": [
    "Matriz de confusão com distância de chebyshev e K = 1"
   ]
  },
  {
   "cell_type": "code",
   "execution_count": 35,
   "id": "d34112ca-9dfe-4331-b41a-b6cee0371962",
   "metadata": {},
   "outputs": [
    {
     "name": "stdout",
     "output_type": "stream",
     "text": [
      "[[28  0  0]\n",
      " [ 0 33  0]\n",
      " [ 0  1 29]]\n"
     ]
    }
   ],
   "source": [
    "from sklearn.metrics import classification_report, confusion_matrix\n",
    "print(confusion_matrix(y_test, y_pred))"
   ]
  },
  {
   "cell_type": "markdown",
   "id": "cf6582c3-3ea0-4c80-b123-4543b690b041",
   "metadata": {},
   "source": [
    "Métricas de avaliação precision, recall e f1-score com distância de chebyshev e K = 1"
   ]
  },
  {
   "cell_type": "code",
   "execution_count": 36,
   "id": "9658a7a8-f4b4-4da0-b67c-fcb653e701f8",
   "metadata": {},
   "outputs": [
    {
     "name": "stdout",
     "output_type": "stream",
     "text": [
      "              precision    recall  f1-score   support\n",
      "\n",
      "           0       1.00      1.00      1.00        28\n",
      "           1       0.97      1.00      0.99        33\n",
      "           2       1.00      0.97      0.98        30\n",
      "\n",
      "    accuracy                           0.99        91\n",
      "   macro avg       0.99      0.99      0.99        91\n",
      "weighted avg       0.99      0.99      0.99        91\n",
      "\n"
     ]
    }
   ],
   "source": [
    "print(classification_report(y_test, y_pred))"
   ]
  },
  {
   "cell_type": "markdown",
   "id": "62745433-0784-4ed6-b73d-40427268c706",
   "metadata": {},
   "source": [
    "Como podemos observar, usando como K = 1 e 2, o modelo de classificação teve uma performance levemente superior. Além disso, mudando a métrica de distância para minkowski e chebyshev, não foi possível observar uma melhora ou piora."
   ]
  },
  {
   "cell_type": "markdown",
   "id": "6db62bd5-bdc5-4f4f-b67a-c869d4ea4cf5",
   "metadata": {},
   "source": [
    "Redefinindo y e X para fazer a regressao, usando y como body_mass_g"
   ]
  },
  {
   "cell_type": "code",
   "execution_count": 37,
   "id": "bced2a84-1f88-4594-b309-759ca2159f17",
   "metadata": {},
   "outputs": [],
   "source": [
    "y = scaledDF.loc[:, ['body_mass_g']].values\n",
    "X = scaledDF.loc[:, ['island','culmen_length_mm','culmen_depth_mm', 'flipper_length_mm', 'sex', 'species']].values"
   ]
  },
  {
   "cell_type": "markdown",
   "id": "e2802a3e-2785-40ee-aa4e-9d5a9e3dc3c1",
   "metadata": {},
   "source": [
    "Dividindo o modelo entre train e test:"
   ]
  },
  {
   "cell_type": "code",
   "execution_count": 38,
   "id": "dd6f9d38-1c6a-40c8-964e-8b6bd11c81eb",
   "metadata": {},
   "outputs": [],
   "source": [
    "from sklearn.model_selection import train_test_split\n",
    "X_train, X_test, y_train, y_test = train_test_split(X, y, test_size=0.20)"
   ]
  },
  {
   "cell_type": "markdown",
   "id": "e0e7b847-573c-4454-a860-35ae66c6f29e",
   "metadata": {},
   "source": [
    "Treinando o modelo com K = 1:"
   ]
  },
  {
   "cell_type": "code",
   "execution_count": 39,
   "id": "5ac9f0e1-537f-4703-9e4e-92924f5e5e62",
   "metadata": {},
   "outputs": [
    {
     "data": {
      "text/plain": [
       "KNeighborsRegressor(n_neighbors=1)"
      ]
     },
     "execution_count": 39,
     "metadata": {},
     "output_type": "execute_result"
    }
   ],
   "source": [
    "from sklearn.neighbors import KNeighborsRegressor\n",
    "regressor = KNeighborsRegressor(n_neighbors=1)\n",
    "regressor.fit(X_train, y_train)"
   ]
  },
  {
   "cell_type": "code",
   "execution_count": 40,
   "id": "d751e946-305f-45b9-90c3-0a089274aa1d",
   "metadata": {},
   "outputs": [],
   "source": [
    "y_pred = regressor.predict(X_test)"
   ]
  },
  {
   "cell_type": "markdown",
   "id": "b97d1cfb-4b82-454c-bb86-d3eaf53264e9",
   "metadata": {},
   "source": [
    "Obtendo score da regressao:"
   ]
  },
  {
   "cell_type": "code",
   "execution_count": 41,
   "id": "ab54c5ce-81ee-4e2f-a44d-c77f5c2cdea0",
   "metadata": {},
   "outputs": [
    {
     "data": {
      "text/plain": [
       "0.7499429591851539"
      ]
     },
     "execution_count": 41,
     "metadata": {},
     "output_type": "execute_result"
    }
   ],
   "source": [
    "regressor.score(X_test, y_test)"
   ]
  },
  {
   "cell_type": "markdown",
   "id": "ba96c813-15c2-4a2e-9c53-b39c6bf4bf72",
   "metadata": {},
   "source": [
    "Treinando o modelo com K = 2:"
   ]
  },
  {
   "cell_type": "code",
   "execution_count": 42,
   "id": "0058ef79-592f-4197-a4ae-72aa647cbb22",
   "metadata": {},
   "outputs": [
    {
     "data": {
      "text/plain": [
       "KNeighborsRegressor(n_neighbors=2)"
      ]
     },
     "execution_count": 42,
     "metadata": {},
     "output_type": "execute_result"
    }
   ],
   "source": [
    "from sklearn.neighbors import KNeighborsRegressor\n",
    "regressor = KNeighborsRegressor(n_neighbors=2)\n",
    "regressor.fit(X_train, y_train)"
   ]
  },
  {
   "cell_type": "code",
   "execution_count": 43,
   "id": "c6bafa28-b0d1-4457-b1b3-98769b41407a",
   "metadata": {},
   "outputs": [],
   "source": [
    "y_pred = regressor.predict(X_test)"
   ]
  },
  {
   "cell_type": "markdown",
   "id": "74e0fb59-9b9e-4401-a5ba-2eb7a8b2ed0d",
   "metadata": {},
   "source": [
    "Obtendo score da regressao:"
   ]
  },
  {
   "cell_type": "code",
   "execution_count": 44,
   "id": "87ef9073-e97a-426d-9ea2-fb70cbb429dc",
   "metadata": {},
   "outputs": [
    {
     "data": {
      "text/plain": [
       "0.7835490663111013"
      ]
     },
     "execution_count": 44,
     "metadata": {},
     "output_type": "execute_result"
    }
   ],
   "source": [
    "regressor.score(X_test, y_test)"
   ]
  },
  {
   "cell_type": "markdown",
   "id": "aef54e18-5981-4431-a2d9-f9314a9851c7",
   "metadata": {},
   "source": [
    "Treinando o modelo com K = 3:"
   ]
  },
  {
   "cell_type": "code",
   "execution_count": 45,
   "id": "99cff81e-b183-475a-8207-c4bb89f48009",
   "metadata": {},
   "outputs": [
    {
     "data": {
      "text/plain": [
       "KNeighborsRegressor(n_neighbors=3)"
      ]
     },
     "execution_count": 45,
     "metadata": {},
     "output_type": "execute_result"
    }
   ],
   "source": [
    "from sklearn.neighbors import KNeighborsRegressor\n",
    "regressor = KNeighborsRegressor(n_neighbors=3)\n",
    "regressor.fit(X_train, y_train)"
   ]
  },
  {
   "cell_type": "code",
   "execution_count": 46,
   "id": "85f93360-c8d4-4a56-93ee-7370f8349ca2",
   "metadata": {},
   "outputs": [],
   "source": [
    "y_pred = regressor.predict(X_test)"
   ]
  },
  {
   "cell_type": "markdown",
   "id": "c5650c91-7422-4447-893f-e8da17084f73",
   "metadata": {},
   "source": [
    "Obtendo score da regressao:"
   ]
  },
  {
   "cell_type": "code",
   "execution_count": 47,
   "id": "5b196721-2a05-48be-a33d-1f54f81bf146",
   "metadata": {},
   "outputs": [
    {
     "data": {
      "text/plain": [
       "0.8132614875511811"
      ]
     },
     "execution_count": 47,
     "metadata": {},
     "output_type": "execute_result"
    }
   ],
   "source": [
    "regressor.score(X_test, y_test)"
   ]
  },
  {
   "cell_type": "markdown",
   "id": "127c26e9-487f-4c72-9f2f-cf1f5d6ec3bb",
   "metadata": {},
   "source": [
    "Treinando o modelo com K = 4:"
   ]
  },
  {
   "cell_type": "code",
   "execution_count": 48,
   "id": "4e016dd6-b8dc-409d-a6c1-a28121437073",
   "metadata": {},
   "outputs": [
    {
     "data": {
      "text/plain": [
       "KNeighborsRegressor(n_neighbors=4)"
      ]
     },
     "execution_count": 48,
     "metadata": {},
     "output_type": "execute_result"
    }
   ],
   "source": [
    "from sklearn.neighbors import KNeighborsRegressor\n",
    "regressor = KNeighborsRegressor(n_neighbors=4)\n",
    "regressor.fit(X_train, y_train)"
   ]
  },
  {
   "cell_type": "code",
   "execution_count": 49,
   "id": "f1015600-3c6c-4867-9734-6b69fb7d0306",
   "metadata": {},
   "outputs": [],
   "source": [
    "y_pred = regressor.predict(X_test)"
   ]
  },
  {
   "cell_type": "markdown",
   "id": "87c2b23f-a0f6-4da1-83fb-690dff9f77b2",
   "metadata": {},
   "source": [
    "Obtendo score da regressao:"
   ]
  },
  {
   "cell_type": "code",
   "execution_count": 50,
   "id": "8651f011-8c07-4202-8060-fe7616025cbc",
   "metadata": {},
   "outputs": [
    {
     "data": {
      "text/plain": [
       "0.8120903694662167"
      ]
     },
     "execution_count": 50,
     "metadata": {},
     "output_type": "execute_result"
    }
   ],
   "source": [
    "regressor.score(X_test, y_test)"
   ]
  },
  {
   "cell_type": "markdown",
   "id": "a1d48310-6150-45a0-91f7-561fe93374ad",
   "metadata": {},
   "source": [
    "Treinando o modelo com K = 5:"
   ]
  },
  {
   "cell_type": "code",
   "execution_count": 51,
   "id": "4bed8a43-f888-4ca1-b251-a0cca8e83434",
   "metadata": {},
   "outputs": [
    {
     "data": {
      "text/plain": [
       "KNeighborsRegressor()"
      ]
     },
     "execution_count": 51,
     "metadata": {},
     "output_type": "execute_result"
    }
   ],
   "source": [
    "from sklearn.neighbors import KNeighborsRegressor\n",
    "regressor = KNeighborsRegressor(n_neighbors=5)\n",
    "regressor.fit(X_train, y_train)"
   ]
  },
  {
   "cell_type": "code",
   "execution_count": 52,
   "id": "47b313c8-39a4-4fd6-b052-a6691eef2648",
   "metadata": {},
   "outputs": [],
   "source": [
    "y_pred = regressor.predict(X_test)"
   ]
  },
  {
   "cell_type": "markdown",
   "id": "48fc2076-9d68-41f2-a14c-95ff29d1d8f8",
   "metadata": {},
   "source": [
    "Obtendo score da regressao:"
   ]
  },
  {
   "cell_type": "code",
   "execution_count": 53,
   "id": "b8839060-5253-43ee-b78e-a41573528173",
   "metadata": {},
   "outputs": [
    {
     "data": {
      "text/plain": [
       "0.8242560229165595"
      ]
     },
     "execution_count": 53,
     "metadata": {},
     "output_type": "execute_result"
    }
   ],
   "source": [
    "regressor.score(X_test, y_test)"
   ]
  },
  {
   "cell_type": "markdown",
   "id": "5826e5e8-90ff-4a48-b4f4-c26110ab0181",
   "metadata": {},
   "source": [
    "Treinando o modelo com K = 5 e usando metrica minkowski:"
   ]
  },
  {
   "cell_type": "code",
   "execution_count": 54,
   "id": "bd6a8211-5753-4745-8b8e-296561aad3ed",
   "metadata": {},
   "outputs": [
    {
     "data": {
      "text/plain": [
       "KNeighborsRegressor()"
      ]
     },
     "execution_count": 54,
     "metadata": {},
     "output_type": "execute_result"
    }
   ],
   "source": [
    "from sklearn.neighbors import KNeighborsRegressor\n",
    "regressor = KNeighborsRegressor(n_neighbors=5, metric='minkowski')\n",
    "regressor.fit(X_train, y_train)"
   ]
  },
  {
   "cell_type": "code",
   "execution_count": 55,
   "id": "fcc824cc-c4a0-412f-b2cf-491009989dea",
   "metadata": {},
   "outputs": [],
   "source": [
    "y_pred = regressor.predict(X_test)"
   ]
  },
  {
   "cell_type": "markdown",
   "id": "cbf8f08d-63d8-49cd-9216-295cfcab2c66",
   "metadata": {},
   "source": [
    "Obtendo score da regressao:"
   ]
  },
  {
   "cell_type": "code",
   "execution_count": 56,
   "id": "ad74233d-aa08-4f1f-8059-7f1b39e235e3",
   "metadata": {},
   "outputs": [
    {
     "data": {
      "text/plain": [
       "0.8242560229165595"
      ]
     },
     "execution_count": 56,
     "metadata": {},
     "output_type": "execute_result"
    }
   ],
   "source": [
    "regressor.score(X_test, y_test)"
   ]
  },
  {
   "cell_type": "markdown",
   "id": "d2c40318-fdcf-4673-88b3-81611ba139bf",
   "metadata": {},
   "source": [
    "Treinando o modelo com K = 5 e usando metrica chebyshev:"
   ]
  },
  {
   "cell_type": "code",
   "execution_count": 57,
   "id": "7a7b303e-3f60-4f54-8058-bc9b9d67c0fb",
   "metadata": {},
   "outputs": [
    {
     "data": {
      "text/plain": [
       "KNeighborsRegressor(metric='chebyshev')"
      ]
     },
     "execution_count": 57,
     "metadata": {},
     "output_type": "execute_result"
    }
   ],
   "source": [
    "from sklearn.neighbors import KNeighborsRegressor\n",
    "regressor = KNeighborsRegressor(n_neighbors=5, metric='chebyshev')\n",
    "regressor.fit(X_train, y_train)"
   ]
  },
  {
   "cell_type": "code",
   "execution_count": 58,
   "id": "5cd569b2-9ee4-41dc-97a0-704d42b853ae",
   "metadata": {},
   "outputs": [],
   "source": [
    "y_pred = regressor.predict(X_test)"
   ]
  },
  {
   "cell_type": "markdown",
   "id": "529adf17-58b8-4e51-b209-20e8de28e6ac",
   "metadata": {},
   "source": [
    "Obtendo score da regressao:"
   ]
  },
  {
   "cell_type": "code",
   "execution_count": 59,
   "id": "1437d521-e0df-46e0-8201-a4be2de3f0d2",
   "metadata": {},
   "outputs": [
    {
     "data": {
      "text/plain": [
       "0.8029094904046139"
      ]
     },
     "execution_count": 59,
     "metadata": {},
     "output_type": "execute_result"
    }
   ],
   "source": [
    "regressor.score(X_test, y_test)"
   ]
  },
  {
   "cell_type": "markdown",
   "id": "9ea8c600-b114-45c0-a5ff-4c1b1aae63a9",
   "metadata": {},
   "source": [
    "Como podemos observar, usando como K = 5 e 4 e métrica de minkowski, o modelo de regressão teve uma performance levemente superior."
   ]
  }
 ],
 "metadata": {
  "kernelspec": {
   "display_name": "Python 3 (ipykernel)",
   "language": "python",
   "name": "python3"
  },
  "language_info": {
   "codemirror_mode": {
    "name": "ipython",
    "version": 3
   },
   "file_extension": ".py",
   "mimetype": "text/x-python",
   "name": "python",
   "nbconvert_exporter": "python",
   "pygments_lexer": "ipython3",
   "version": "3.9.1"
  }
 },
 "nbformat": 4,
 "nbformat_minor": 5
}

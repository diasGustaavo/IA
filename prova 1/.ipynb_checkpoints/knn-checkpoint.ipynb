{
 "cells": [
  {
   "cell_type": "code",
   "execution_count": 31,
   "id": "1c629e33-4434-4906-b849-c0cf0a76362f",
   "metadata": {},
   "outputs": [],
   "source": [
    "# baseado em https://stackabuse.com/k-nearest-neighbors-algorithm-in-python-and-scikit-learn/\n",
    "# https://www.codigofluente.com.br/aula-06-scikit-learn-vizinhos-mais-proximos-knn/"
   ]
  },
  {
   "cell_type": "code",
   "execution_count": 32,
   "id": "61ff99e3-f076-4b04-8c4f-1964453ae7d8",
   "metadata": {},
   "outputs": [],
   "source": [
    "import pandas as pd\n",
    "import matplotlib.pyplot as plt\n",
    "import numpy as np\n",
    "from sklearn import cluster, neighbors, svm, metrics, preprocessing\n",
    "import math"
   ]
  },
  {
   "cell_type": "code",
   "execution_count": 33,
   "id": "42a6faa2-7841-41aa-9dec-4406b81bf581",
   "metadata": {
    "scrolled": true,
    "tags": []
   },
   "outputs": [],
   "source": [
    "df = pd.read_csv('winequalityN.csv', encoding = \"ISO-8859-1\")"
   ]
  },
  {
   "cell_type": "code",
   "execution_count": 34,
   "id": "3de4995b-20bb-41fc-b96b-57d00768431e",
   "metadata": {},
   "outputs": [],
   "source": [
    "df = df.iloc[:, 1:].values\n",
    "df = df[~np.isnan(df).any(axis=1)]"
   ]
  },
  {
   "cell_type": "code",
   "execution_count": 35,
   "id": "fae0cba0-77e6-4674-b383-40af511f8251",
   "metadata": {},
   "outputs": [],
   "source": [
    "X = df[:, :-1]\n",
    "y = df[:, 11]"
   ]
  },
  {
   "cell_type": "code",
   "execution_count": 36,
   "id": "970a59e8-6539-4c84-8578-68c5efc1ee74",
   "metadata": {},
   "outputs": [
    {
     "data": {
      "text/plain": [
       "array([[ 7.   ,  0.27 ,  0.36 , ...,  3.   ,  0.45 ,  8.8  ],\n",
       "       [ 6.3  ,  0.3  ,  0.34 , ...,  3.3  ,  0.49 ,  9.5  ],\n",
       "       [ 8.1  ,  0.28 ,  0.4  , ...,  3.26 ,  0.44 , 10.1  ],\n",
       "       ...,\n",
       "       [ 6.3  ,  0.51 ,  0.13 , ...,  3.42 ,  0.75 , 11.   ],\n",
       "       [ 5.9  ,  0.645,  0.12 , ...,  3.57 ,  0.71 , 10.2  ],\n",
       "       [ 6.   ,  0.31 ,  0.47 , ...,  3.39 ,  0.66 , 11.   ]])"
      ]
     },
     "execution_count": 36,
     "metadata": {},
     "output_type": "execute_result"
    }
   ],
   "source": [
    "X"
   ]
  },
  {
   "cell_type": "code",
   "execution_count": 37,
   "id": "9a409178-08b7-48e1-b9ee-b7e980b93faa",
   "metadata": {},
   "outputs": [
    {
     "data": {
      "text/plain": [
       "array([6., 6., 6., ..., 6., 5., 6.])"
      ]
     },
     "execution_count": 37,
     "metadata": {},
     "output_type": "execute_result"
    }
   ],
   "source": [
    "y"
   ]
  },
  {
   "cell_type": "code",
   "execution_count": 38,
   "id": "f6a226ce-07cb-4884-980f-d72f15932d60",
   "metadata": {},
   "outputs": [],
   "source": [
    "from sklearn.model_selection import train_test_split\n",
    "X_train, X_test, y_train, y_test = train_test_split(X, y, test_size=0.20)"
   ]
  },
  {
   "cell_type": "code",
   "execution_count": 39,
   "id": "0e545885-9663-4884-b2c8-b34346b5fb42",
   "metadata": {},
   "outputs": [
    {
     "data": {
      "text/plain": [
       "array([[ 7.2  ,  0.21 ,  0.35 , ...,  3.05 ,  0.47 ,  8.9  ],\n",
       "       [ 6.3  ,  0.305,  0.22 , ...,  3.08 ,  0.5  ,  9.1  ],\n",
       "       [ 7.4  ,  0.25 ,  0.36 , ...,  3.19 ,  0.44 , 10.8  ],\n",
       "       ...,\n",
       "       [ 6.4  ,  0.37 ,  0.25 , ...,  3.57 ,  0.62 ,  9.8  ],\n",
       "       [ 6.1  ,  0.34 ,  0.27 , ...,  3.4  ,  0.67 , 12.2  ],\n",
       "       [ 6.4  ,  0.3  ,  0.3  , ...,  3.2  ,  0.62 ,  9.9  ]])"
      ]
     },
     "execution_count": 39,
     "metadata": {},
     "output_type": "execute_result"
    }
   ],
   "source": [
    "X_train"
   ]
  },
  {
   "cell_type": "code",
   "execution_count": 40,
   "id": "8386763f-3564-4cc9-a005-7e1820876ca3",
   "metadata": {},
   "outputs": [],
   "source": [
    "from sklearn.preprocessing import StandardScaler\n",
    "scaler = StandardScaler()\n",
    "scaler.fit(X_train)\n",
    "\n",
    "X_train = scaler.transform(X_train)\n",
    "X_test = scaler.transform(X_test)"
   ]
  },
  {
   "cell_type": "code",
   "execution_count": 41,
   "id": "06afa04c-ee41-47b3-a458-d411dabdaca6",
   "metadata": {},
   "outputs": [
    {
     "name": "stdout",
     "output_type": "stream",
     "text": [
      "False\n"
     ]
    }
   ],
   "source": [
    "X_train\n",
    "array_sum = np.sum(X_train)\n",
    "array_has_nan = np.isnan(array_sum)\n",
    "print(array_has_nan)"
   ]
  },
  {
   "cell_type": "code",
   "execution_count": 42,
   "id": "995f9f83-ed1c-4946-b820-c56eb0e91703",
   "metadata": {},
   "outputs": [
    {
     "name": "stdout",
     "output_type": "stream",
     "text": [
      "False\n"
     ]
    }
   ],
   "source": [
    "y_train\n",
    "array_sum = np.sum(y_train)\n",
    "array_has_nan = np.isnan(array_sum)\n",
    "print(array_has_nan)"
   ]
  },
  {
   "cell_type": "code",
   "execution_count": 43,
   "id": "cf9d4f7d-fb5b-46a9-a5d2-ceb49cea0252",
   "metadata": {},
   "outputs": [
    {
     "data": {
      "text/plain": [
       "KNeighborsClassifier()"
      ]
     },
     "execution_count": 43,
     "metadata": {},
     "output_type": "execute_result"
    }
   ],
   "source": [
    "from sklearn.neighbors import KNeighborsClassifier\n",
    "classifier = KNeighborsClassifier(n_neighbors=5)\n",
    "classifier.fit(X_train, y_train)"
   ]
  },
  {
   "cell_type": "code",
   "execution_count": 44,
   "id": "ee5964fa-c245-4775-992a-71b92c7c9569",
   "metadata": {},
   "outputs": [],
   "source": [
    "y_pred = classifier.predict(X_test)"
   ]
  },
  {
   "cell_type": "code",
   "execution_count": 45,
   "id": "0c4e46a7-0aee-4170-b913-3f2a42013cca",
   "metadata": {},
   "outputs": [
    {
     "name": "stdout",
     "output_type": "stream",
     "text": [
      "              precision    recall  f1-score   support\n",
      "\n",
      "         3.0       1.00      0.17      0.29         6\n",
      "         4.0       0.26      0.14      0.18        49\n",
      "         5.0       0.59      0.62      0.61       437\n",
      "         6.0       0.57      0.64      0.60       554\n",
      "         7.0       0.53      0.44      0.48       211\n",
      "         8.0       0.23      0.09      0.13        34\n",
      "         9.0       0.00      0.00      0.00         2\n",
      "\n",
      "    accuracy                           0.56      1293\n",
      "   macro avg       0.46      0.30      0.33      1293\n",
      "weighted avg       0.55      0.56      0.55      1293\n",
      "\n"
     ]
    },
    {
     "name": "stderr",
     "output_type": "stream",
     "text": [
      "C:\\Python39\\lib\\site-packages\\sklearn\\metrics\\_classification.py:1248: UndefinedMetricWarning: Precision and F-score are ill-defined and being set to 0.0 in labels with no predicted samples. Use `zero_division` parameter to control this behavior.\n",
      "  _warn_prf(average, modifier, msg_start, len(result))\n",
      "C:\\Python39\\lib\\site-packages\\sklearn\\metrics\\_classification.py:1248: UndefinedMetricWarning: Precision and F-score are ill-defined and being set to 0.0 in labels with no predicted samples. Use `zero_division` parameter to control this behavior.\n",
      "  _warn_prf(average, modifier, msg_start, len(result))\n",
      "C:\\Python39\\lib\\site-packages\\sklearn\\metrics\\_classification.py:1248: UndefinedMetricWarning: Precision and F-score are ill-defined and being set to 0.0 in labels with no predicted samples. Use `zero_division` parameter to control this behavior.\n",
      "  _warn_prf(average, modifier, msg_start, len(result))\n"
     ]
    }
   ],
   "source": [
    "from sklearn.metrics import classification_report, confusion_matrix\n",
    "#print(confusion_matrix(y_test, y_pred))\n",
    "print(classification_report(y_test, y_pred))"
   ]
  },
  {
   "cell_type": "code",
   "execution_count": null,
   "id": "c409f480-74f5-42df-bc30-54aabb3f2976",
   "metadata": {},
   "outputs": [],
   "source": []
  },
  {
   "cell_type": "code",
   "execution_count": null,
   "id": "043cb442-fea8-46e7-8842-8ba9e7c588e6",
   "metadata": {},
   "outputs": [],
   "source": []
  }
 ],
 "metadata": {
  "kernelspec": {
   "display_name": "Python 3 (ipykernel)",
   "language": "python",
   "name": "python3"
  },
  "language_info": {
   "codemirror_mode": {
    "name": "ipython",
    "version": 3
   },
   "file_extension": ".py",
   "mimetype": "text/x-python",
   "name": "python",
   "nbconvert_exporter": "python",
   "pygments_lexer": "ipython3",
   "version": "3.9.7"
  }
 },
 "nbformat": 4,
 "nbformat_minor": 5
}

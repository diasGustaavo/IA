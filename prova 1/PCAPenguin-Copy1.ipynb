{
 "cells": [
  {
   "cell_type": "code",
   "execution_count": 1,
   "id": "1c629e33-4434-4906-b849-c0cf0a76362f",
   "metadata": {},
   "outputs": [],
   "source": [
    "# baseado em https://stackabuse.com/k-nearest-neighbors-algorithm-in-python-and-scikit-learn/\n",
    "# https://www.codigofluente.com.br/aula-06-scikit-learn-vizinhos-mais-proximos-knn/\n",
    "# https://colab.research.google.com/github/littlecolumns/ds4j-notebooks/blob/master/classification/notebooks/Correcting%20for%20imbalanced%20datasets.ipynb#scrollTo=jq9376MGvTa7"
   ]
  },
  {
   "cell_type": "code",
   "execution_count": 2,
   "id": "61ff99e3-f076-4b04-8c4f-1964453ae7d8",
   "metadata": {},
   "outputs": [],
   "source": [
    "import pandas as pd\n",
    "import matplotlib.pyplot as plt\n",
    "import numpy as np\n",
    "from sklearn import cluster, neighbors, svm, metrics, preprocessing\n",
    "import math\n",
    "np.set_printoptions(suppress=True)"
   ]
  },
  {
   "cell_type": "code",
   "execution_count": 3,
   "id": "42a6faa2-7841-41aa-9dec-4406b81bf581",
   "metadata": {
    "scrolled": true,
    "tags": []
   },
   "outputs": [],
   "source": [
    "df = pd.read_csv('penguins_size.csv', encoding = \"ISO-8859-1\")"
   ]
  },
  {
   "cell_type": "code",
   "execution_count": 4,
   "id": "09d94f9d-1fc3-48e1-a0c1-11b83da23f0b",
   "metadata": {},
   "outputs": [],
   "source": [
    "# Import label encoder\n",
    "from sklearn import preprocessing\n",
    " \n",
    "# label_encoder object knows how to understand word labels.\n",
    "label_encoder = preprocessing.LabelEncoder()\n",
    " \n",
    "# Encode labels in column 'species'.\n",
    "df['species']= label_encoder.fit_transform(df['species'])\n",
    "df['island']= label_encoder.fit_transform(df['island'])\n",
    "df['sex']= label_encoder.fit_transform(df['sex'])"
   ]
  },
  {
   "cell_type": "code",
   "execution_count": 5,
   "id": "3de4995b-20bb-41fc-b96b-57d00768431e",
   "metadata": {},
   "outputs": [],
   "source": [
    "# df = df.iloc[:, 1:].values\n",
    "df = df[~np.isnan(df).any(axis=1)]\n",
    "df = df.to_numpy()"
   ]
  },
  {
   "cell_type": "code",
   "execution_count": 6,
   "id": "fae0cba0-77e6-4674-b383-40af511f8251",
   "metadata": {},
   "outputs": [],
   "source": [
    "y = df[:, :1]\n",
    "X = df[:, 1:]"
   ]
  },
  {
   "cell_type": "code",
   "execution_count": 7,
   "id": "c58b216c-dea1-4413-9496-2b44e60eec45",
   "metadata": {},
   "outputs": [],
   "source": [
    "# db oversampled:        macro avg       0.92      0.92      0.92\n",
    "# db undersampled:\t\t macro avg       0.62      0.63      0.6\n",
    "\n",
    "from imblearn.over_sampling import RandomOverSampler\n",
    "\n",
    "OverResampler = RandomOverSampler()\n",
    "\n",
    "X, y = OverResampler.fit_resample(X, y)"
   ]
  },
  {
   "cell_type": "code",
   "execution_count": 8,
   "id": "b483c8a3-87ac-4c7e-a14e-999881d53db0",
   "metadata": {},
   "outputs": [
    {
     "data": {
      "text/html": [
       "<style  type=\"text/css\" >\n",
       "#T_c0a37_row0_col0,#T_c0a37_row1_col1,#T_c0a37_row2_col2,#T_c0a37_row3_col3,#T_c0a37_row4_col4,#T_c0a37_row5_col5{\n",
       "            background-color:  #b40426;\n",
       "            color:  #f1f1f1;\n",
       "        }#T_c0a37_row0_col1,#T_c0a37_row0_col3,#T_c0a37_row0_col4,#T_c0a37_row0_col5,#T_c0a37_row3_col0,#T_c0a37_row3_col2,#T_c0a37_row4_col0{\n",
       "            background-color:  #3b4cc0;\n",
       "            color:  #f1f1f1;\n",
       "        }#T_c0a37_row0_col2{\n",
       "            background-color:  #f59c7d;\n",
       "            color:  #000000;\n",
       "        }#T_c0a37_row1_col0{\n",
       "            background-color:  #84a7fc;\n",
       "            color:  #000000;\n",
       "        }#T_c0a37_row1_col2{\n",
       "            background-color:  #a7c5fe;\n",
       "            color:  #000000;\n",
       "        }#T_c0a37_row1_col3{\n",
       "            background-color:  #f7aa8c;\n",
       "            color:  #000000;\n",
       "        }#T_c0a37_row1_col4{\n",
       "            background-color:  #f7ba9f;\n",
       "            color:  #000000;\n",
       "        }#T_c0a37_row1_col5{\n",
       "            background-color:  #9dbdff;\n",
       "            color:  #000000;\n",
       "        }#T_c0a37_row2_col0{\n",
       "            background-color:  #f4987a;\n",
       "            color:  #000000;\n",
       "        }#T_c0a37_row2_col1{\n",
       "            background-color:  #6b8df0;\n",
       "            color:  #000000;\n",
       "        }#T_c0a37_row2_col3{\n",
       "            background-color:  #4257c9;\n",
       "            color:  #f1f1f1;\n",
       "        }#T_c0a37_row2_col4{\n",
       "            background-color:  #536edd;\n",
       "            color:  #000000;\n",
       "        }#T_c0a37_row2_col5{\n",
       "            background-color:  #9ebeff;\n",
       "            color:  #000000;\n",
       "        }#T_c0a37_row3_col1{\n",
       "            background-color:  #f4c6af;\n",
       "            color:  #000000;\n",
       "        }#T_c0a37_row3_col4,#T_c0a37_row4_col3{\n",
       "            background-color:  #d1493f;\n",
       "            color:  #f1f1f1;\n",
       "        }#T_c0a37_row3_col5{\n",
       "            background-color:  #86a9fc;\n",
       "            color:  #000000;\n",
       "        }#T_c0a37_row4_col1{\n",
       "            background-color:  #ead4c8;\n",
       "            color:  #000000;\n",
       "        }#T_c0a37_row4_col2{\n",
       "            background-color:  #4a63d3;\n",
       "            color:  #f1f1f1;\n",
       "        }#T_c0a37_row4_col5{\n",
       "            background-color:  #abc8fd;\n",
       "            color:  #000000;\n",
       "        }#T_c0a37_row5_col0{\n",
       "            background-color:  #bad0f8;\n",
       "            color:  #000000;\n",
       "        }#T_c0a37_row5_col1{\n",
       "            background-color:  #cbd8ee;\n",
       "            color:  #000000;\n",
       "        }#T_c0a37_row5_col2{\n",
       "            background-color:  #ead5c9;\n",
       "            color:  #000000;\n",
       "        }#T_c0a37_row5_col3{\n",
       "            background-color:  #e3d9d3;\n",
       "            color:  #000000;\n",
       "        }#T_c0a37_row5_col4{\n",
       "            background-color:  #f0cdbb;\n",
       "            color:  #000000;\n",
       "        }</style><table id=\"T_c0a37_\" ><thead>    <tr>        <th class=\"blank level0\" ></th>        <th class=\"col_heading level0 col0\" >island</th>        <th class=\"col_heading level0 col1\" >culmen_length_mm</th>        <th class=\"col_heading level0 col2\" >culmen_depth_mm</th>        <th class=\"col_heading level0 col3\" >flipper_length_mm</th>        <th class=\"col_heading level0 col4\" >body_mass_g</th>        <th class=\"col_heading level0 col5\" >sex</th>    </tr></thead><tbody>\n",
       "                <tr>\n",
       "                        <th id=\"T_c0a37_level0_row0\" class=\"row_heading level0 row0\" >island</th>\n",
       "                        <td id=\"T_c0a37_row0_col0\" class=\"data row0 col0\" >1.000000</td>\n",
       "                        <td id=\"T_c0a37_row0_col1\" class=\"data row0 col1\" >-0.232893</td>\n",
       "                        <td id=\"T_c0a37_row0_col2\" class=\"data row0 col2\" >0.604818</td>\n",
       "                        <td id=\"T_c0a37_row0_col3\" class=\"data row0 col3\" >-0.591494</td>\n",
       "                        <td id=\"T_c0a37_row0_col4\" class=\"data row0 col4\" >-0.590801</td>\n",
       "                        <td id=\"T_c0a37_row0_col5\" class=\"data row0 col5\" >0.015079</td>\n",
       "            </tr>\n",
       "            <tr>\n",
       "                        <th id=\"T_c0a37_level0_row1\" class=\"row_heading level0 row1\" >culmen_length_mm</th>\n",
       "                        <td id=\"T_c0a37_row1_col0\" class=\"data row1 col0\" >-0.232893</td>\n",
       "                        <td id=\"T_c0a37_row1_col1\" class=\"data row1 col1\" >1.000000</td>\n",
       "                        <td id=\"T_c0a37_row1_col2\" class=\"data row1 col2\" >-0.043831</td>\n",
       "                        <td id=\"T_c0a37_row1_col3\" class=\"data row1 col3\" >0.532688</td>\n",
       "                        <td id=\"T_c0a37_row1_col4\" class=\"data row1 col4\" >0.453989</td>\n",
       "                        <td id=\"T_c0a37_row1_col5\" class=\"data row1 col5\" >0.306045</td>\n",
       "            </tr>\n",
       "            <tr>\n",
       "                        <th id=\"T_c0a37_level0_row2\" class=\"row_heading level0 row2\" >culmen_depth_mm</th>\n",
       "                        <td id=\"T_c0a37_row2_col0\" class=\"data row2 col0\" >0.604818</td>\n",
       "                        <td id=\"T_c0a37_row2_col1\" class=\"data row2 col1\" >-0.043831</td>\n",
       "                        <td id=\"T_c0a37_row2_col2\" class=\"data row2 col2\" >1.000000</td>\n",
       "                        <td id=\"T_c0a37_row2_col3\" class=\"data row2 col3\" >-0.548486</td>\n",
       "                        <td id=\"T_c0a37_row2_col4\" class=\"data row2 col4\" >-0.466421</td>\n",
       "                        <td id=\"T_c0a37_row2_col5\" class=\"data row2 col5\" >0.310028</td>\n",
       "            </tr>\n",
       "            <tr>\n",
       "                        <th id=\"T_c0a37_level0_row3\" class=\"row_heading level0 row3\" >flipper_length_mm</th>\n",
       "                        <td id=\"T_c0a37_row3_col0\" class=\"data row3 col0\" >-0.591494</td>\n",
       "                        <td id=\"T_c0a37_row3_col1\" class=\"data row3 col1\" >0.532688</td>\n",
       "                        <td id=\"T_c0a37_row3_col2\" class=\"data row3 col2\" >-0.548486</td>\n",
       "                        <td id=\"T_c0a37_row3_col3\" class=\"data row3 col3\" >1.000000</td>\n",
       "                        <td id=\"T_c0a37_row3_col4\" class=\"data row3 col4\" >0.864367</td>\n",
       "                        <td id=\"T_c0a37_row3_col5\" class=\"data row3 col5\" >0.244257</td>\n",
       "            </tr>\n",
       "            <tr>\n",
       "                        <th id=\"T_c0a37_level0_row4\" class=\"row_heading level0 row4\" >body_mass_g</th>\n",
       "                        <td id=\"T_c0a37_row4_col0\" class=\"data row4 col0\" >-0.590801</td>\n",
       "                        <td id=\"T_c0a37_row4_col1\" class=\"data row4 col1\" >0.453989</td>\n",
       "                        <td id=\"T_c0a37_row4_col2\" class=\"data row4 col2\" >-0.466421</td>\n",
       "                        <td id=\"T_c0a37_row4_col3\" class=\"data row4 col3\" >0.864367</td>\n",
       "                        <td id=\"T_c0a37_row4_col4\" class=\"data row4 col4\" >1.000000</td>\n",
       "                        <td id=\"T_c0a37_row4_col5\" class=\"data row4 col5\" >0.346458</td>\n",
       "            </tr>\n",
       "            <tr>\n",
       "                        <th id=\"T_c0a37_level0_row5\" class=\"row_heading level0 row5\" >sex</th>\n",
       "                        <td id=\"T_c0a37_row5_col0\" class=\"data row5 col0\" >0.015079</td>\n",
       "                        <td id=\"T_c0a37_row5_col1\" class=\"data row5 col1\" >0.306045</td>\n",
       "                        <td id=\"T_c0a37_row5_col2\" class=\"data row5 col2\" >0.310028</td>\n",
       "                        <td id=\"T_c0a37_row5_col3\" class=\"data row5 col3\" >0.244257</td>\n",
       "                        <td id=\"T_c0a37_row5_col4\" class=\"data row5 col4\" >0.346458</td>\n",
       "                        <td id=\"T_c0a37_row5_col5\" class=\"data row5 col5\" >1.000000</td>\n",
       "            </tr>\n",
       "    </tbody></table>"
      ],
      "text/plain": [
       "<pandas.io.formats.style.Styler at 0x285f29bcf10>"
      ]
     },
     "execution_count": 8,
     "metadata": {},
     "output_type": "execute_result"
    }
   ],
   "source": [
    "from sklearn.preprocessing import StandardScaler\n",
    "\n",
    "X = StandardScaler().fit_transform(X) \n",
    "\n",
    "df = pd.DataFrame(X, columns = ['island','culmen_length_mm','culmen_depth_mm', 'flipper_length_mm', 'body_mass_g', 'sex'])\n",
    "corr = df.corr()\n",
    "corr.style.background_gradient(cmap='coolwarm')"
   ]
  },
  {
   "cell_type": "code",
   "execution_count": 9,
   "id": "f6a226ce-07cb-4884-980f-d72f15932d60",
   "metadata": {},
   "outputs": [],
   "source": [
    "from sklearn.model_selection import train_test_split\n",
    "X_train, X_test, y_train, y_test = train_test_split(X, y, test_size=0.20)"
   ]
  },
  {
   "cell_type": "code",
   "execution_count": 10,
   "id": "cf9d4f7d-fb5b-46a9-a5d2-ceb49cea0252",
   "metadata": {},
   "outputs": [
    {
     "data": {
      "text/plain": [
       "KNeighborsClassifier(n_neighbors=1)"
      ]
     },
     "execution_count": 10,
     "metadata": {},
     "output_type": "execute_result"
    }
   ],
   "source": [
    "# n_neighbors=1: macro avg       0.92      0.92      0.92\n",
    "# n_neighbors=2: macro avg       0.87      0.87      0.87\n",
    "# n_neighbors=3: macro avg       0.89      0.88      0.87\n",
    "# n_neighbors=4: macro avg       0.84      0.84      0.8\n",
    "# n_neighbors=5: macro avg       0.78      0.80      0.78\n",
    "\n",
    "from sklearn.neighbors import KNeighborsClassifier\n",
    "classifier = KNeighborsClassifier(n_neighbors=1)\n",
    "classifier.fit(X_train, y_train)"
   ]
  },
  {
   "cell_type": "code",
   "execution_count": 11,
   "id": "ee5964fa-c245-4775-992a-71b92c7c9569",
   "metadata": {},
   "outputs": [],
   "source": [
    "y_pred = classifier.predict(X_test)"
   ]
  },
  {
   "cell_type": "code",
   "execution_count": 12,
   "id": "0c4e46a7-0aee-4170-b913-3f2a42013cca",
   "metadata": {},
   "outputs": [
    {
     "name": "stdout",
     "output_type": "stream",
     "text": [
      "[[34  0  0]\n",
      " [ 0 30  0]\n",
      " [ 0  0 27]]\n",
      "              precision    recall  f1-score   support\n",
      "\n",
      "         0.0       1.00      1.00      1.00        34\n",
      "         1.0       1.00      1.00      1.00        30\n",
      "         2.0       1.00      1.00      1.00        27\n",
      "\n",
      "    accuracy                           1.00        91\n",
      "   macro avg       1.00      1.00      1.00        91\n",
      "weighted avg       1.00      1.00      1.00        91\n",
      "\n"
     ]
    }
   ],
   "source": [
    "from sklearn.metrics import classification_report, confusion_matrix\n",
    "print(confusion_matrix(y_test, y_pred))\n",
    "print(classification_report(y_test, y_pred))"
   ]
  }
 ],
 "metadata": {
  "kernelspec": {
   "display_name": "Python 3 (ipykernel)",
   "language": "python",
   "name": "python3"
  },
  "language_info": {
   "codemirror_mode": {
    "name": "ipython",
    "version": 3
   },
   "file_extension": ".py",
   "mimetype": "text/x-python",
   "name": "python",
   "nbconvert_exporter": "python",
   "pygments_lexer": "ipython3",
   "version": "3.9.1"
  }
 },
 "nbformat": 4,
 "nbformat_minor": 5
}

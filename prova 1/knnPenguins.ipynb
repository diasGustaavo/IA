{
 "cells": [
  {
   "cell_type": "code",
   "execution_count": 1,
   "id": "1c629e33-4434-4906-b849-c0cf0a76362f",
   "metadata": {},
   "outputs": [],
   "source": [
    "# baseado em https://stackabuse.com/k-nearest-neighbors-algorithm-in-python-and-scikit-learn/\n",
    "# https://www.codigofluente.com.br/aula-06-scikit-learn-vizinhos-mais-proximos-knn/\n",
    "# https://colab.research.google.com/github/littlecolumns/ds4j-notebooks/blob/master/classification/notebooks/Correcting%20for%20imbalanced%20datasets.ipynb#scrollTo=jq9376MGvTa7"
   ]
  },
  {
   "cell_type": "code",
   "execution_count": 2,
   "id": "61ff99e3-f076-4b04-8c4f-1964453ae7d8",
   "metadata": {},
   "outputs": [],
   "source": [
    "import pandas as pd\n",
    "import matplotlib.pyplot as plt\n",
    "import numpy as np\n",
    "from sklearn import cluster, neighbors, svm, metrics, preprocessing\n",
    "import math\n",
    "np.set_printoptions(suppress=True)"
   ]
  },
  {
   "cell_type": "code",
   "execution_count": 3,
   "id": "42a6faa2-7841-41aa-9dec-4406b81bf581",
   "metadata": {
    "scrolled": true,
    "tags": []
   },
   "outputs": [],
   "source": [
    "df = pd.read_csv('penguins_size.csv', encoding = \"ISO-8859-1\")"
   ]
  },
  {
   "cell_type": "code",
   "execution_count": 4,
   "id": "09d94f9d-1fc3-48e1-a0c1-11b83da23f0b",
   "metadata": {},
   "outputs": [],
   "source": [
    "# Import label encoder\n",
    "from sklearn import preprocessing\n",
    " \n",
    "# label_encoder object knows how to understand word labels.\n",
    "label_encoder = preprocessing.LabelEncoder()\n",
    " \n",
    "# Encode labels in column 'species'.\n",
    "df['species']= label_encoder.fit_transform(df['species'])\n",
    "df['island']= label_encoder.fit_transform(df['island'])\n",
    "df['sex']= label_encoder.fit_transform(df['sex'])"
   ]
  },
  {
   "cell_type": "code",
   "execution_count": 5,
   "id": "3de4995b-20bb-41fc-b96b-57d00768431e",
   "metadata": {},
   "outputs": [],
   "source": [
    "# df = df.iloc[:, 1:].values\n",
    "df = df[~np.isnan(df).any(axis=1)]\n",
    "df = df.to_numpy()"
   ]
  },
  {
   "cell_type": "code",
   "execution_count": 6,
   "id": "fae0cba0-77e6-4674-b383-40af511f8251",
   "metadata": {},
   "outputs": [],
   "source": [
    "y = df[:, :1]\n",
    "X = df[:, 1:]"
   ]
  },
  {
   "cell_type": "code",
   "execution_count": 7,
   "id": "c58b216c-dea1-4413-9496-2b44e60eec45",
   "metadata": {},
   "outputs": [],
   "source": [
    "# db oversampled:        macro avg       0.92      0.92      0.92\n",
    "# db undersampled:\t\t macro avg       0.62      0.63      0.6\n",
    "\n",
    "from imblearn.over_sampling import RandomOverSampler\n",
    "\n",
    "OverResampler = RandomOverSampler()\n",
    "\n",
    "X, y = OverResampler.fit_resample(X, y)"
   ]
  },
  {
   "cell_type": "code",
   "execution_count": 8,
   "id": "f6a226ce-07cb-4884-980f-d72f15932d60",
   "metadata": {},
   "outputs": [],
   "source": [
    "from sklearn.model_selection import train_test_split\n",
    "X_train, X_test, y_train, y_test = train_test_split(X, y, test_size=0.20)"
   ]
  },
  {
   "cell_type": "code",
   "execution_count": 9,
   "id": "cf9d4f7d-fb5b-46a9-a5d2-ceb49cea0252",
   "metadata": {},
   "outputs": [
    {
     "data": {
      "text/plain": [
       "KNeighborsClassifier(n_neighbors=1)"
      ]
     },
     "execution_count": 9,
     "metadata": {},
     "output_type": "execute_result"
    }
   ],
   "source": [
    "# n_neighbors=1: macro avg       0.92      0.92      0.92\n",
    "# n_neighbors=2: macro avg       0.87      0.87      0.87\n",
    "# n_neighbors=3: macro avg       0.89      0.88      0.87\n",
    "# n_neighbors=4: macro avg       0.84      0.84      0.8\n",
    "# n_neighbors=5: macro avg       0.78      0.80      0.78\n",
    "\n",
    "from sklearn.neighbors import KNeighborsClassifier\n",
    "classifier = KNeighborsClassifier(n_neighbors=1)\n",
    "classifier.fit(X_train, y_train)"
   ]
  },
  {
   "cell_type": "code",
   "execution_count": 10,
   "id": "ee5964fa-c245-4775-992a-71b92c7c9569",
   "metadata": {},
   "outputs": [],
   "source": [
    "y_pred = classifier.predict(X_test)"
   ]
  },
  {
   "cell_type": "code",
   "execution_count": 11,
   "id": "0c4e46a7-0aee-4170-b913-3f2a42013cca",
   "metadata": {},
   "outputs": [
    {
     "name": "stdout",
     "output_type": "stream",
     "text": [
      "[[34  3  3]\n",
      " [ 1 21  0]\n",
      " [ 1  1 27]]\n",
      "              precision    recall  f1-score   support\n",
      "\n",
      "         0.0       0.94      0.85      0.89        40\n",
      "         1.0       0.84      0.95      0.89        22\n",
      "         2.0       0.90      0.93      0.92        29\n",
      "\n",
      "    accuracy                           0.90        91\n",
      "   macro avg       0.89      0.91      0.90        91\n",
      "weighted avg       0.91      0.90      0.90        91\n",
      "\n"
     ]
    }
   ],
   "source": [
    "from sklearn.metrics import classification_report, confusion_matrix\n",
    "print(confusion_matrix(y_test, y_pred))\n",
    "print(classification_report(y_test, y_pred))"
   ]
  }
 ],
 "metadata": {
  "kernelspec": {
   "display_name": "Python 3 (ipykernel)",
   "language": "python",
   "name": "python3"
  },
  "language_info": {
   "codemirror_mode": {
    "name": "ipython",
    "version": 3
   },
   "file_extension": ".py",
   "mimetype": "text/x-python",
   "name": "python",
   "nbconvert_exporter": "python",
   "pygments_lexer": "ipython3",
   "version": "3.9.7"
  }
 },
 "nbformat": 4,
 "nbformat_minor": 5
}

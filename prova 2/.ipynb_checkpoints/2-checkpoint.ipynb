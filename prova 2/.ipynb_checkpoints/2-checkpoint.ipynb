{
 "cells": [
  {
   "cell_type": "markdown",
   "id": "d9cdae05-2c52-4797-8e88-3f611322f186",
   "metadata": {},
   "source": [
    "Importando módulos iniciais"
   ]
  },
  {
   "cell_type": "code",
   "execution_count": 1,
   "id": "61ff99e3-f076-4b04-8c4f-1964453ae7d8",
   "metadata": {
    "tags": []
   },
   "outputs": [],
   "source": [
    "import pandas as pd\n",
    "import numpy as np\n",
    "from sklearn import neighbors, metrics, preprocessing\n",
    "np.set_printoptions(suppress=True)"
   ]
  },
  {
   "cell_type": "markdown",
   "id": "89d2eb55-64be-494b-bd43-5b9bdb34f368",
   "metadata": {},
   "source": [
    "Abrindo o arquivo insurance.csv como dataframe chamado originalDF"
   ]
  },
  {
   "cell_type": "code",
   "execution_count": 2,
   "id": "42a6faa2-7841-41aa-9dec-4406b81bf581",
   "metadata": {
    "scrolled": true,
    "tags": []
   },
   "outputs": [],
   "source": [
    "originalDF = pd.read_csv('insurance.csv', encoding = \"ISO-8859-1\")"
   ]
  },
  {
   "cell_type": "markdown",
   "id": "33741746-a6a5-46a3-ac2e-18af2102756a",
   "metadata": {},
   "source": [
    "Codificando os campos que não eram compostos por números, e limpando nulos e duplicados, resultando em um novo dataframe encodedDF"
   ]
  },
  {
   "cell_type": "code",
   "execution_count": 3,
   "id": "09d94f9d-1fc3-48e1-a0c1-11b83da23f0b",
   "metadata": {},
   "outputs": [
    {
     "data": {
      "text/html": [
       "<div>\n",
       "<style scoped>\n",
       "    .dataframe tbody tr th:only-of-type {\n",
       "        vertical-align: middle;\n",
       "    }\n",
       "\n",
       "    .dataframe tbody tr th {\n",
       "        vertical-align: top;\n",
       "    }\n",
       "\n",
       "    .dataframe thead th {\n",
       "        text-align: right;\n",
       "    }\n",
       "</style>\n",
       "<table border=\"1\" class=\"dataframe\">\n",
       "  <thead>\n",
       "    <tr style=\"text-align: right;\">\n",
       "      <th></th>\n",
       "      <th>age</th>\n",
       "      <th>sex</th>\n",
       "      <th>bmi</th>\n",
       "      <th>children</th>\n",
       "      <th>smoker</th>\n",
       "      <th>region</th>\n",
       "      <th>charges</th>\n",
       "    </tr>\n",
       "  </thead>\n",
       "  <tbody>\n",
       "    <tr>\n",
       "      <th>0</th>\n",
       "      <td>19</td>\n",
       "      <td>0</td>\n",
       "      <td>27.900</td>\n",
       "      <td>0</td>\n",
       "      <td>1</td>\n",
       "      <td>3</td>\n",
       "      <td>16884.92400</td>\n",
       "    </tr>\n",
       "    <tr>\n",
       "      <th>1</th>\n",
       "      <td>18</td>\n",
       "      <td>1</td>\n",
       "      <td>33.770</td>\n",
       "      <td>1</td>\n",
       "      <td>0</td>\n",
       "      <td>2</td>\n",
       "      <td>1725.55230</td>\n",
       "    </tr>\n",
       "    <tr>\n",
       "      <th>2</th>\n",
       "      <td>28</td>\n",
       "      <td>1</td>\n",
       "      <td>33.000</td>\n",
       "      <td>3</td>\n",
       "      <td>0</td>\n",
       "      <td>2</td>\n",
       "      <td>4449.46200</td>\n",
       "    </tr>\n",
       "    <tr>\n",
       "      <th>3</th>\n",
       "      <td>33</td>\n",
       "      <td>1</td>\n",
       "      <td>22.705</td>\n",
       "      <td>0</td>\n",
       "      <td>0</td>\n",
       "      <td>1</td>\n",
       "      <td>21984.47061</td>\n",
       "    </tr>\n",
       "    <tr>\n",
       "      <th>4</th>\n",
       "      <td>32</td>\n",
       "      <td>1</td>\n",
       "      <td>28.880</td>\n",
       "      <td>0</td>\n",
       "      <td>0</td>\n",
       "      <td>1</td>\n",
       "      <td>3866.85520</td>\n",
       "    </tr>\n",
       "    <tr>\n",
       "      <th>...</th>\n",
       "      <td>...</td>\n",
       "      <td>...</td>\n",
       "      <td>...</td>\n",
       "      <td>...</td>\n",
       "      <td>...</td>\n",
       "      <td>...</td>\n",
       "      <td>...</td>\n",
       "    </tr>\n",
       "    <tr>\n",
       "      <th>1333</th>\n",
       "      <td>50</td>\n",
       "      <td>1</td>\n",
       "      <td>30.970</td>\n",
       "      <td>3</td>\n",
       "      <td>0</td>\n",
       "      <td>1</td>\n",
       "      <td>10600.54830</td>\n",
       "    </tr>\n",
       "    <tr>\n",
       "      <th>1334</th>\n",
       "      <td>18</td>\n",
       "      <td>0</td>\n",
       "      <td>31.920</td>\n",
       "      <td>0</td>\n",
       "      <td>0</td>\n",
       "      <td>0</td>\n",
       "      <td>2205.98080</td>\n",
       "    </tr>\n",
       "    <tr>\n",
       "      <th>1335</th>\n",
       "      <td>18</td>\n",
       "      <td>0</td>\n",
       "      <td>36.850</td>\n",
       "      <td>0</td>\n",
       "      <td>0</td>\n",
       "      <td>2</td>\n",
       "      <td>1629.83350</td>\n",
       "    </tr>\n",
       "    <tr>\n",
       "      <th>1336</th>\n",
       "      <td>21</td>\n",
       "      <td>0</td>\n",
       "      <td>25.800</td>\n",
       "      <td>0</td>\n",
       "      <td>0</td>\n",
       "      <td>3</td>\n",
       "      <td>2007.94500</td>\n",
       "    </tr>\n",
       "    <tr>\n",
       "      <th>1337</th>\n",
       "      <td>61</td>\n",
       "      <td>0</td>\n",
       "      <td>29.070</td>\n",
       "      <td>0</td>\n",
       "      <td>1</td>\n",
       "      <td>1</td>\n",
       "      <td>29141.36030</td>\n",
       "    </tr>\n",
       "  </tbody>\n",
       "</table>\n",
       "<p>1338 rows × 7 columns</p>\n",
       "</div>"
      ],
      "text/plain": [
       "      age  sex     bmi  children  smoker  region      charges\n",
       "0      19    0  27.900         0       1       3  16884.92400\n",
       "1      18    1  33.770         1       0       2   1725.55230\n",
       "2      28    1  33.000         3       0       2   4449.46200\n",
       "3      33    1  22.705         0       0       1  21984.47061\n",
       "4      32    1  28.880         0       0       1   3866.85520\n",
       "...   ...  ...     ...       ...     ...     ...          ...\n",
       "1333   50    1  30.970         3       0       1  10600.54830\n",
       "1334   18    0  31.920         0       0       0   2205.98080\n",
       "1335   18    0  36.850         0       0       2   1629.83350\n",
       "1336   21    0  25.800         0       0       3   2007.94500\n",
       "1337   61    0  29.070         0       1       1  29141.36030\n",
       "\n",
       "[1338 rows x 7 columns]"
      ]
     },
     "execution_count": 3,
     "metadata": {},
     "output_type": "execute_result"
    }
   ],
   "source": [
    "label_encoder = preprocessing.LabelEncoder()\n",
    "\n",
    "encodedDF = originalDF.copy()\n",
    "encodedDF['region']= label_encoder.fit_transform(encodedDF['region'])\n",
    "encodedDF['sex']= label_encoder.fit_transform(encodedDF['sex'])\n",
    "encodedDF['smoker']= label_encoder.fit_transform(encodedDF['smoker'])\n",
    "\n",
    "encodedDF = encodedDF[~np.isnan(encodedDF).any(axis=1)]\n",
    "encodedDF.dropna()\n",
    "encodedDF.drop_duplicates()\n",
    "\n",
    "encodedDF.reset_index(drop=True, inplace=True)\n",
    "encodedDF"
   ]
  },
  {
   "cell_type": "markdown",
   "id": "39fb47d6-18df-4e31-adcf-f4987c78288b",
   "metadata": {},
   "source": [
    "Normalizando as colunas necessários"
   ]
  },
  {
   "cell_type": "code",
   "execution_count": 4,
   "id": "b483c8a3-87ac-4c7e-a14e-999881d53db0",
   "metadata": {},
   "outputs": [
    {
     "data": {
      "text/html": [
       "<div>\n",
       "<style scoped>\n",
       "    .dataframe tbody tr th:only-of-type {\n",
       "        vertical-align: middle;\n",
       "    }\n",
       "\n",
       "    .dataframe tbody tr th {\n",
       "        vertical-align: top;\n",
       "    }\n",
       "\n",
       "    .dataframe thead th {\n",
       "        text-align: right;\n",
       "    }\n",
       "</style>\n",
       "<table border=\"1\" class=\"dataframe\">\n",
       "  <thead>\n",
       "    <tr style=\"text-align: right;\">\n",
       "      <th></th>\n",
       "      <th>age</th>\n",
       "      <th>sex</th>\n",
       "      <th>bmi</th>\n",
       "      <th>children</th>\n",
       "      <th>smoker</th>\n",
       "      <th>region</th>\n",
       "      <th>charges</th>\n",
       "    </tr>\n",
       "  </thead>\n",
       "  <tbody>\n",
       "    <tr>\n",
       "      <th>0</th>\n",
       "      <td>19</td>\n",
       "      <td>0</td>\n",
       "      <td>-0.453320</td>\n",
       "      <td>0</td>\n",
       "      <td>1</td>\n",
       "      <td>3</td>\n",
       "      <td>0.298584</td>\n",
       "    </tr>\n",
       "    <tr>\n",
       "      <th>1</th>\n",
       "      <td>18</td>\n",
       "      <td>1</td>\n",
       "      <td>0.509621</td>\n",
       "      <td>1</td>\n",
       "      <td>0</td>\n",
       "      <td>2</td>\n",
       "      <td>-0.953689</td>\n",
       "    </tr>\n",
       "    <tr>\n",
       "      <th>2</th>\n",
       "      <td>28</td>\n",
       "      <td>1</td>\n",
       "      <td>0.383307</td>\n",
       "      <td>3</td>\n",
       "      <td>0</td>\n",
       "      <td>2</td>\n",
       "      <td>-0.728675</td>\n",
       "    </tr>\n",
       "    <tr>\n",
       "      <th>3</th>\n",
       "      <td>33</td>\n",
       "      <td>1</td>\n",
       "      <td>-1.305531</td>\n",
       "      <td>0</td>\n",
       "      <td>0</td>\n",
       "      <td>1</td>\n",
       "      <td>0.719843</td>\n",
       "    </tr>\n",
       "    <tr>\n",
       "      <th>4</th>\n",
       "      <td>32</td>\n",
       "      <td>1</td>\n",
       "      <td>-0.292556</td>\n",
       "      <td>0</td>\n",
       "      <td>0</td>\n",
       "      <td>1</td>\n",
       "      <td>-0.776802</td>\n",
       "    </tr>\n",
       "    <tr>\n",
       "      <th>...</th>\n",
       "      <td>...</td>\n",
       "      <td>...</td>\n",
       "      <td>...</td>\n",
       "      <td>...</td>\n",
       "      <td>...</td>\n",
       "      <td>...</td>\n",
       "      <td>...</td>\n",
       "    </tr>\n",
       "    <tr>\n",
       "      <th>1333</th>\n",
       "      <td>50</td>\n",
       "      <td>1</td>\n",
       "      <td>0.050297</td>\n",
       "      <td>3</td>\n",
       "      <td>0</td>\n",
       "      <td>1</td>\n",
       "      <td>-0.220551</td>\n",
       "    </tr>\n",
       "    <tr>\n",
       "      <th>1334</th>\n",
       "      <td>18</td>\n",
       "      <td>0</td>\n",
       "      <td>0.206139</td>\n",
       "      <td>0</td>\n",
       "      <td>0</td>\n",
       "      <td>0</td>\n",
       "      <td>-0.914002</td>\n",
       "    </tr>\n",
       "    <tr>\n",
       "      <th>1335</th>\n",
       "      <td>18</td>\n",
       "      <td>0</td>\n",
       "      <td>1.014878</td>\n",
       "      <td>0</td>\n",
       "      <td>0</td>\n",
       "      <td>2</td>\n",
       "      <td>-0.961596</td>\n",
       "    </tr>\n",
       "    <tr>\n",
       "      <th>1336</th>\n",
       "      <td>21</td>\n",
       "      <td>0</td>\n",
       "      <td>-0.797813</td>\n",
       "      <td>0</td>\n",
       "      <td>0</td>\n",
       "      <td>3</td>\n",
       "      <td>-0.930362</td>\n",
       "    </tr>\n",
       "    <tr>\n",
       "      <th>1337</th>\n",
       "      <td>61</td>\n",
       "      <td>0</td>\n",
       "      <td>-0.261388</td>\n",
       "      <td>0</td>\n",
       "      <td>1</td>\n",
       "      <td>1</td>\n",
       "      <td>1.311053</td>\n",
       "    </tr>\n",
       "  </tbody>\n",
       "</table>\n",
       "<p>1338 rows × 7 columns</p>\n",
       "</div>"
      ],
      "text/plain": [
       "      age  sex       bmi  children  smoker  region   charges\n",
       "0      19    0 -0.453320         0       1       3  0.298584\n",
       "1      18    1  0.509621         1       0       2 -0.953689\n",
       "2      28    1  0.383307         3       0       2 -0.728675\n",
       "3      33    1 -1.305531         0       0       1  0.719843\n",
       "4      32    1 -0.292556         0       0       1 -0.776802\n",
       "...   ...  ...       ...       ...     ...     ...       ...\n",
       "1333   50    1  0.050297         3       0       1 -0.220551\n",
       "1334   18    0  0.206139         0       0       0 -0.914002\n",
       "1335   18    0  1.014878         0       0       2 -0.961596\n",
       "1336   21    0 -0.797813         0       0       3 -0.930362\n",
       "1337   61    0 -0.261388         0       1       1  1.311053\n",
       "\n",
       "[1338 rows x 7 columns]"
      ]
     },
     "execution_count": 4,
     "metadata": {},
     "output_type": "execute_result"
    }
   ],
   "source": [
    "from sklearn.preprocessing import StandardScaler\n",
    "\n",
    "scaledArr = StandardScaler().fit_transform(encodedDF.loc[:, ['bmi', 'charges']].values)\n",
    "encodedDF[['bmi', 'charges']] = pd.DataFrame(data = scaledArr, columns = ['bmi', 'charges'])\n",
    "encodedDF"
   ]
  },
  {
   "cell_type": "markdown",
   "id": "e79467ca-6a17-44e6-a9cc-057655d1e2d9",
   "metadata": {},
   "source": [
    "Verificando as covariâncias de cada variável"
   ]
  },
  {
   "cell_type": "code",
   "execution_count": 5,
   "id": "e6fb17bd-83b3-4318-b3ea-e340d7028384",
   "metadata": {},
   "outputs": [
    {
     "data": {
      "text/html": [
       "<style  type=\"text/css\" >\n",
       "#T_c72e1_row0_col0,#T_c72e1_row1_col1,#T_c72e1_row2_col2,#T_c72e1_row3_col3,#T_c72e1_row4_col4,#T_c72e1_row5_col5,#T_c72e1_row6_col6{\n",
       "            background-color:  #b40426;\n",
       "            color:  #f1f1f1;\n",
       "        }#T_c72e1_row0_col1,#T_c72e1_row0_col4,#T_c72e1_row4_col0,#T_c72e1_row4_col2,#T_c72e1_row4_col3,#T_c72e1_row5_col6,#T_c72e1_row6_col5{\n",
       "            background-color:  #3b4cc0;\n",
       "            color:  #f1f1f1;\n",
       "        }#T_c72e1_row0_col2{\n",
       "            background-color:  #5b7ae5;\n",
       "            color:  #000000;\n",
       "        }#T_c72e1_row0_col3,#T_c72e1_row3_col4{\n",
       "            background-color:  #445acc;\n",
       "            color:  #f1f1f1;\n",
       "        }#T_c72e1_row0_col5,#T_c72e1_row1_col3,#T_c72e1_row1_col5,#T_c72e1_row3_col2,#T_c72e1_row5_col3{\n",
       "            background-color:  #3d50c3;\n",
       "            color:  #f1f1f1;\n",
       "        }#T_c72e1_row0_col6{\n",
       "            background-color:  #9fbfff;\n",
       "            color:  #000000;\n",
       "        }#T_c72e1_row1_col0,#T_c72e1_row2_col3,#T_c72e1_row4_col5{\n",
       "            background-color:  #3c4ec2;\n",
       "            color:  #f1f1f1;\n",
       "        }#T_c72e1_row1_col2{\n",
       "            background-color:  #465ecf;\n",
       "            color:  #f1f1f1;\n",
       "        }#T_c72e1_row1_col4{\n",
       "            background-color:  #5977e3;\n",
       "            color:  #000000;\n",
       "        }#T_c72e1_row1_col6,#T_c72e1_row2_col1,#T_c72e1_row3_col0{\n",
       "            background-color:  #4e68d8;\n",
       "            color:  #000000;\n",
       "        }#T_c72e1_row2_col0{\n",
       "            background-color:  #6384eb;\n",
       "            color:  #000000;\n",
       "        }#T_c72e1_row2_col4{\n",
       "            background-color:  #4358cb;\n",
       "            color:  #f1f1f1;\n",
       "        }#T_c72e1_row2_col5{\n",
       "            background-color:  #6e90f2;\n",
       "            color:  #000000;\n",
       "        }#T_c72e1_row2_col6{\n",
       "            background-color:  #7da0f9;\n",
       "            color:  #000000;\n",
       "        }#T_c72e1_row3_col1{\n",
       "            background-color:  #455cce;\n",
       "            color:  #f1f1f1;\n",
       "        }#T_c72e1_row3_col5,#T_c72e1_row5_col4{\n",
       "            background-color:  #4055c8;\n",
       "            color:  #f1f1f1;\n",
       "        }#T_c72e1_row3_col6{\n",
       "            background-color:  #506bda;\n",
       "            color:  #000000;\n",
       "        }#T_c72e1_row4_col1{\n",
       "            background-color:  #5875e1;\n",
       "            color:  #000000;\n",
       "        }#T_c72e1_row4_col6{\n",
       "            background-color:  #f08a6c;\n",
       "            color:  #000000;\n",
       "        }#T_c72e1_row5_col0,#T_c72e1_row5_col1{\n",
       "            background-color:  #4257c9;\n",
       "            color:  #f1f1f1;\n",
       "        }#T_c72e1_row5_col2{\n",
       "            background-color:  #6b8df0;\n",
       "            color:  #000000;\n",
       "        }#T_c72e1_row6_col0{\n",
       "            background-color:  #a3c2fe;\n",
       "            color:  #000000;\n",
       "        }#T_c72e1_row6_col1{\n",
       "            background-color:  #516ddb;\n",
       "            color:  #000000;\n",
       "        }#T_c72e1_row6_col2{\n",
       "            background-color:  #7a9df8;\n",
       "            color:  #000000;\n",
       "        }#T_c72e1_row6_col3{\n",
       "            background-color:  #4c66d6;\n",
       "            color:  #000000;\n",
       "        }#T_c72e1_row6_col4{\n",
       "            background-color:  #ef886b;\n",
       "            color:  #000000;\n",
       "        }</style><table id=\"T_c72e1_\" ><thead>    <tr>        <th class=\"blank level0\" ></th>        <th class=\"col_heading level0 col0\" >age</th>        <th class=\"col_heading level0 col1\" >sex</th>        <th class=\"col_heading level0 col2\" >bmi</th>        <th class=\"col_heading level0 col3\" >children</th>        <th class=\"col_heading level0 col4\" >smoker</th>        <th class=\"col_heading level0 col5\" >region</th>        <th class=\"col_heading level0 col6\" >charges</th>    </tr></thead><tbody>\n",
       "                <tr>\n",
       "                        <th id=\"T_c72e1_level0_row0\" class=\"row_heading level0 row0\" >age</th>\n",
       "                        <td id=\"T_c72e1_row0_col0\" class=\"data row0 col0\" >1.000000</td>\n",
       "                        <td id=\"T_c72e1_row0_col1\" class=\"data row0 col1\" >-0.020856</td>\n",
       "                        <td id=\"T_c72e1_row0_col2\" class=\"data row0 col2\" >0.109272</td>\n",
       "                        <td id=\"T_c72e1_row0_col3\" class=\"data row0 col3\" >0.042469</td>\n",
       "                        <td id=\"T_c72e1_row0_col4\" class=\"data row0 col4\" >-0.025019</td>\n",
       "                        <td id=\"T_c72e1_row0_col5\" class=\"data row0 col5\" >0.002127</td>\n",
       "                        <td id=\"T_c72e1_row0_col6\" class=\"data row0 col6\" >0.299008</td>\n",
       "            </tr>\n",
       "            <tr>\n",
       "                        <th id=\"T_c72e1_level0_row1\" class=\"row_heading level0 row1\" >sex</th>\n",
       "                        <td id=\"T_c72e1_row1_col0\" class=\"data row1 col0\" >-0.020856</td>\n",
       "                        <td id=\"T_c72e1_row1_col1\" class=\"data row1 col1\" >1.000000</td>\n",
       "                        <td id=\"T_c72e1_row1_col2\" class=\"data row1 col2\" >0.046371</td>\n",
       "                        <td id=\"T_c72e1_row1_col3\" class=\"data row1 col3\" >0.017163</td>\n",
       "                        <td id=\"T_c72e1_row1_col4\" class=\"data row1 col4\" >0.076185</td>\n",
       "                        <td id=\"T_c72e1_row1_col5\" class=\"data row1 col5\" >0.004588</td>\n",
       "                        <td id=\"T_c72e1_row1_col6\" class=\"data row1 col6\" >0.057292</td>\n",
       "            </tr>\n",
       "            <tr>\n",
       "                        <th id=\"T_c72e1_level0_row2\" class=\"row_heading level0 row2\" >bmi</th>\n",
       "                        <td id=\"T_c72e1_row2_col0\" class=\"data row2 col0\" >0.109272</td>\n",
       "                        <td id=\"T_c72e1_row2_col1\" class=\"data row2 col1\" >0.046371</td>\n",
       "                        <td id=\"T_c72e1_row2_col2\" class=\"data row2 col2\" >1.000000</td>\n",
       "                        <td id=\"T_c72e1_row2_col3\" class=\"data row2 col3\" >0.012759</td>\n",
       "                        <td id=\"T_c72e1_row2_col4\" class=\"data row2 col4\" >0.003750</td>\n",
       "                        <td id=\"T_c72e1_row2_col5\" class=\"data row2 col5\" >0.157566</td>\n",
       "                        <td id=\"T_c72e1_row2_col6\" class=\"data row2 col6\" >0.198341</td>\n",
       "            </tr>\n",
       "            <tr>\n",
       "                        <th id=\"T_c72e1_level0_row3\" class=\"row_heading level0 row3\" >children</th>\n",
       "                        <td id=\"T_c72e1_row3_col0\" class=\"data row3 col0\" >0.042469</td>\n",
       "                        <td id=\"T_c72e1_row3_col1\" class=\"data row3 col1\" >0.017163</td>\n",
       "                        <td id=\"T_c72e1_row3_col2\" class=\"data row3 col2\" >0.012759</td>\n",
       "                        <td id=\"T_c72e1_row3_col3\" class=\"data row3 col3\" >1.000000</td>\n",
       "                        <td id=\"T_c72e1_row3_col4\" class=\"data row3 col4\" >0.007673</td>\n",
       "                        <td id=\"T_c72e1_row3_col5\" class=\"data row3 col5\" >0.016569</td>\n",
       "                        <td id=\"T_c72e1_row3_col6\" class=\"data row3 col6\" >0.067998</td>\n",
       "            </tr>\n",
       "            <tr>\n",
       "                        <th id=\"T_c72e1_level0_row4\" class=\"row_heading level0 row4\" >smoker</th>\n",
       "                        <td id=\"T_c72e1_row4_col0\" class=\"data row4 col0\" >-0.025019</td>\n",
       "                        <td id=\"T_c72e1_row4_col1\" class=\"data row4 col1\" >0.076185</td>\n",
       "                        <td id=\"T_c72e1_row4_col2\" class=\"data row4 col2\" >0.003750</td>\n",
       "                        <td id=\"T_c72e1_row4_col3\" class=\"data row4 col3\" >0.007673</td>\n",
       "                        <td id=\"T_c72e1_row4_col4\" class=\"data row4 col4\" >1.000000</td>\n",
       "                        <td id=\"T_c72e1_row4_col5\" class=\"data row4 col5\" >-0.002181</td>\n",
       "                        <td id=\"T_c72e1_row4_col6\" class=\"data row4 col6\" >0.787251</td>\n",
       "            </tr>\n",
       "            <tr>\n",
       "                        <th id=\"T_c72e1_level0_row5\" class=\"row_heading level0 row5\" >region</th>\n",
       "                        <td id=\"T_c72e1_row5_col0\" class=\"data row5 col0\" >0.002127</td>\n",
       "                        <td id=\"T_c72e1_row5_col1\" class=\"data row5 col1\" >0.004588</td>\n",
       "                        <td id=\"T_c72e1_row5_col2\" class=\"data row5 col2\" >0.157566</td>\n",
       "                        <td id=\"T_c72e1_row5_col3\" class=\"data row5 col3\" >0.016569</td>\n",
       "                        <td id=\"T_c72e1_row5_col4\" class=\"data row5 col4\" >-0.002181</td>\n",
       "                        <td id=\"T_c72e1_row5_col5\" class=\"data row5 col5\" >1.000000</td>\n",
       "                        <td id=\"T_c72e1_row5_col6\" class=\"data row5 col6\" >-0.006208</td>\n",
       "            </tr>\n",
       "            <tr>\n",
       "                        <th id=\"T_c72e1_level0_row6\" class=\"row_heading level0 row6\" >charges</th>\n",
       "                        <td id=\"T_c72e1_row6_col0\" class=\"data row6 col0\" >0.299008</td>\n",
       "                        <td id=\"T_c72e1_row6_col1\" class=\"data row6 col1\" >0.057292</td>\n",
       "                        <td id=\"T_c72e1_row6_col2\" class=\"data row6 col2\" >0.198341</td>\n",
       "                        <td id=\"T_c72e1_row6_col3\" class=\"data row6 col3\" >0.067998</td>\n",
       "                        <td id=\"T_c72e1_row6_col4\" class=\"data row6 col4\" >0.787251</td>\n",
       "                        <td id=\"T_c72e1_row6_col5\" class=\"data row6 col5\" >-0.006208</td>\n",
       "                        <td id=\"T_c72e1_row6_col6\" class=\"data row6 col6\" >1.000000</td>\n",
       "            </tr>\n",
       "    </tbody></table>"
      ],
      "text/plain": [
       "<pandas.io.formats.style.Styler at 0x2d6dd3674c0>"
      ]
     },
     "execution_count": 5,
     "metadata": {},
     "output_type": "execute_result"
    }
   ],
   "source": [
    "corr = encodedDF.corr()\n",
    "corr.style.background_gradient(cmap='coolwarm')"
   ]
  },
  {
   "cell_type": "markdown",
   "id": "bdbb9b51-d72d-4c3f-9b1b-e48b8238edd0",
   "metadata": {},
   "source": [
    "Separando o rótulo dos componentes, sendo y o rótulo"
   ]
  },
  {
   "cell_type": "code",
   "execution_count": 6,
   "id": "bced2a84-1f88-4594-b309-759ca2159f17",
   "metadata": {},
   "outputs": [],
   "source": [
    "y = encodedDF.loc[:, ['charges']].values\n",
    "X = encodedDF.loc[:, ['age','bmi','smoker']].values"
   ]
  },
  {
   "cell_type": "markdown",
   "id": "e2802a3e-2785-40ee-aa4e-9d5a9e3dc3c1",
   "metadata": {},
   "source": [
    "Dividindo o modelo entre train e test:"
   ]
  },
  {
   "cell_type": "code",
   "execution_count": 7,
   "id": "dd6f9d38-1c6a-40c8-964e-8b6bd11c81eb",
   "metadata": {},
   "outputs": [],
   "source": [
    "from sklearn.model_selection import train_test_split\n",
    "X_train, X_test, y_train, y_test = train_test_split(X, y, test_size=0.20)"
   ]
  },
  {
   "cell_type": "markdown",
   "id": "e0e7b847-573c-4454-a860-35ae66c6f29e",
   "metadata": {},
   "source": [
    "Aplicando KNN onde K = 1:"
   ]
  },
  {
   "cell_type": "code",
   "execution_count": 8,
   "id": "5ac9f0e1-537f-4703-9e4e-92924f5e5e62",
   "metadata": {},
   "outputs": [],
   "source": [
    "from sklearn.neighbors import KNeighborsRegressor\n",
    "regressor = KNeighborsRegressor(n_neighbors=1)\n",
    "regressor.fit(X_train, y_train)\n",
    "y_pred = regressor.predict(X_test)"
   ]
  },
  {
   "cell_type": "markdown",
   "id": "b97d1cfb-4b82-454c-bb86-d3eaf53264e9",
   "metadata": {},
   "source": [
    "Obtendo MSE da regressao:"
   ]
  },
  {
   "cell_type": "code",
   "execution_count": 9,
   "id": "ab54c5ce-81ee-4e2f-a44d-c77f5c2cdea0",
   "metadata": {},
   "outputs": [
    {
     "data": {
      "text/plain": [
       "0.4185346844752508"
      ]
     },
     "execution_count": 9,
     "metadata": {},
     "output_type": "execute_result"
    }
   ],
   "source": [
    "from sklearn.metrics import mean_squared_error\n",
    "mean_squared_error(y_test, y_pred)"
   ]
  },
  {
   "cell_type": "markdown",
   "id": "94cc4f17-9831-42d2-9962-0bc1f0ff4974",
   "metadata": {},
   "source": [
    "Aplicando KNN onde K = 2:"
   ]
  },
  {
   "cell_type": "code",
   "execution_count": 10,
   "id": "0058ef79-592f-4197-a4ae-72aa647cbb22",
   "metadata": {},
   "outputs": [],
   "source": [
    "regressor = KNeighborsRegressor(n_neighbors=2)\n",
    "regressor.fit(X_train, y_train)\n",
    "y_pred = regressor.predict(X_test)"
   ]
  },
  {
   "cell_type": "markdown",
   "id": "a092aae6-f313-4e49-a031-0731f1eff021",
   "metadata": {},
   "source": [
    "Obtendo MSE da regressao:"
   ]
  },
  {
   "cell_type": "code",
   "execution_count": 11,
   "id": "87ef9073-e97a-426d-9ea2-fb70cbb429dc",
   "metadata": {},
   "outputs": [
    {
     "data": {
      "text/plain": [
       "0.33200950058170836"
      ]
     },
     "execution_count": 11,
     "metadata": {},
     "output_type": "execute_result"
    }
   ],
   "source": [
    "mean_squared_error(y_test, y_pred)"
   ]
  },
  {
   "cell_type": "markdown",
   "id": "64305d88-342d-439c-878d-ddd1ab6fade4",
   "metadata": {},
   "source": [
    "Aplicando KNN onde K = 3:"
   ]
  },
  {
   "cell_type": "code",
   "execution_count": 12,
   "id": "99cff81e-b183-475a-8207-c4bb89f48009",
   "metadata": {},
   "outputs": [],
   "source": [
    "regressor = KNeighborsRegressor(n_neighbors=3)\n",
    "regressor.fit(X_train, y_train)\n",
    "y_pred = regressor.predict(X_test)"
   ]
  },
  {
   "cell_type": "markdown",
   "id": "68e6bdbb-d0b5-47e1-b722-64d258b609d5",
   "metadata": {},
   "source": [
    "Obtendo MSE da regressao:"
   ]
  },
  {
   "cell_type": "code",
   "execution_count": 13,
   "id": "5b196721-2a05-48be-a33d-1f54f81bf146",
   "metadata": {},
   "outputs": [
    {
     "data": {
      "text/plain": [
       "0.3863050881311439"
      ]
     },
     "execution_count": 13,
     "metadata": {},
     "output_type": "execute_result"
    }
   ],
   "source": [
    "mean_squared_error(y_test, y_pred)"
   ]
  },
  {
   "cell_type": "markdown",
   "id": "b8d8d999-7b5d-4ee7-a4f7-534d58ef2f2b",
   "metadata": {},
   "source": [
    "Aplicando KNN usando como metrica chebyshev onde K = 3:"
   ]
  },
  {
   "cell_type": "code",
   "execution_count": 14,
   "id": "58747e7f-f3f1-4d92-ade6-a88d657abf88",
   "metadata": {},
   "outputs": [],
   "source": [
    "regressor = KNeighborsRegressor(n_neighbors=3, metric='chebyshev')\n",
    "regressor.fit(X_train, y_train)\n",
    "y_pred = regressor.predict(X_test)"
   ]
  },
  {
   "cell_type": "markdown",
   "id": "a57f2299-5179-46fa-a674-1d1483e6b87d",
   "metadata": {},
   "source": [
    "Obtendo MSE da regressao:"
   ]
  },
  {
   "cell_type": "code",
   "execution_count": 15,
   "id": "622a49b2-b56b-41d6-9f71-84ec34b9f69e",
   "metadata": {},
   "outputs": [
    {
     "data": {
      "text/plain": [
       "0.442999140536622"
      ]
     },
     "execution_count": 15,
     "metadata": {},
     "output_type": "execute_result"
    }
   ],
   "source": [
    "mean_squared_error(y_test, y_pred)"
   ]
  },
  {
   "cell_type": "markdown",
   "id": "4528f0f0-6217-4ac4-90d6-2a0c83596f69",
   "metadata": {},
   "source": [
    "Aplicando SVR usando como kernel rbf;"
   ]
  },
  {
   "cell_type": "code",
   "execution_count": 16,
   "id": "c39440fc-d870-4095-b370-afd0955b5727",
   "metadata": {},
   "outputs": [],
   "source": [
    "from sklearn.svm import SVR\n",
    "regressor = SVR(kernel = 'rbf')\n",
    "regressor.fit(X_train, np.ravel(y_train))\n",
    "y_pred = regressor.predict(X_test)"
   ]
  },
  {
   "cell_type": "markdown",
   "id": "9eba8a3d-6da0-448b-9eb1-1645fc1d1a91",
   "metadata": {},
   "source": [
    "Obtendo MSE da regressao:"
   ]
  },
  {
   "cell_type": "code",
   "execution_count": 17,
   "id": "8aa7e79c-d642-4196-a687-fd651837bee3",
   "metadata": {},
   "outputs": [
    {
     "data": {
      "text/plain": [
       "0.903569451857559"
      ]
     },
     "execution_count": 17,
     "metadata": {},
     "output_type": "execute_result"
    }
   ],
   "source": [
    "mean_squared_error(y_test, y_pred)"
   ]
  },
  {
   "cell_type": "markdown",
   "id": "bd784107-5264-4ea3-9400-7b98dc0a9553",
   "metadata": {},
   "source": [
    "Aplicando SVR usando como kernel poly;"
   ]
  },
  {
   "cell_type": "code",
   "execution_count": 18,
   "id": "50a50970-f02e-4bd7-84ed-253572fa86c3",
   "metadata": {},
   "outputs": [],
   "source": [
    "regressor = SVR(kernel = 'poly')\n",
    "regressor.fit(X_train, np.ravel(y_train))\n",
    "y_pred = regressor.predict(X_test)"
   ]
  },
  {
   "cell_type": "markdown",
   "id": "9d15e84d-2187-433f-bbf3-075abe67b9e5",
   "metadata": {},
   "source": [
    "Obtendo MSE da regressao:"
   ]
  },
  {
   "cell_type": "code",
   "execution_count": 19,
   "id": "a8b42b10-9040-4bcc-a10c-3dae9db30144",
   "metadata": {},
   "outputs": [
    {
     "data": {
      "text/plain": [
       "0.6849732239035372"
      ]
     },
     "execution_count": 19,
     "metadata": {},
     "output_type": "execute_result"
    }
   ],
   "source": [
    "mean_squared_error(y_test, y_pred)"
   ]
  },
  {
   "cell_type": "markdown",
   "id": "ae2909eb-95e6-4132-b800-0b4e09223dc9",
   "metadata": {},
   "source": [
    "Aplicando SVR usando como kernel poly de 4 grau;"
   ]
  },
  {
   "cell_type": "code",
   "execution_count": 20,
   "id": "39464c29-2aed-4327-b9ff-d817a53a0516",
   "metadata": {},
   "outputs": [],
   "source": [
    "regressor = SVR(kernel = 'poly', degree = 4)\n",
    "regressor.fit(X_train, np.ravel(y_train))\n",
    "y_pred = regressor.predict(X_test)"
   ]
  },
  {
   "cell_type": "markdown",
   "id": "4288bfeb-9fa8-40d2-899a-dd365e6e88b2",
   "metadata": {},
   "source": [
    "Obtendo MSE da regressao:"
   ]
  },
  {
   "cell_type": "code",
   "execution_count": 21,
   "id": "08bb6027-83e5-4fe7-bd6a-9c30b4a7daa4",
   "metadata": {},
   "outputs": [
    {
     "data": {
      "text/plain": [
       "0.6595270503445951"
      ]
     },
     "execution_count": 21,
     "metadata": {},
     "output_type": "execute_result"
    }
   ],
   "source": [
    "mean_squared_error(y_test, y_pred)"
   ]
  },
  {
   "cell_type": "markdown",
   "id": "42056c80-ce41-4bf1-a1fd-c3139e5affe3",
   "metadata": {},
   "source": [
    "Aplicando SVR usando como kernel linear;"
   ]
  },
  {
   "cell_type": "code",
   "execution_count": 22,
   "id": "0ef2272f-4cd4-4113-9d1d-c89eb10ebf88",
   "metadata": {},
   "outputs": [],
   "source": [
    "regressor = SVR(kernel = 'linear')\n",
    "regressor.fit(X_train, np.ravel(y_train))\n",
    "y_pred = regressor.predict(X_test)"
   ]
  },
  {
   "cell_type": "markdown",
   "id": "9243acd7-293c-4ebd-a7da-9345ccd2096f",
   "metadata": {},
   "source": [
    "Obtendo MSE da regressao:"
   ]
  },
  {
   "cell_type": "code",
   "execution_count": 23,
   "id": "a26fc38d-afac-488f-9299-666fdb4a8cca",
   "metadata": {},
   "outputs": [
    {
     "data": {
      "text/plain": [
       "0.28686125047657207"
      ]
     },
     "execution_count": 23,
     "metadata": {},
     "output_type": "execute_result"
    }
   ],
   "source": [
    "mean_squared_error(y_test, y_pred)"
   ]
  }
 ],
 "metadata": {
  "kernelspec": {
   "display_name": "Python 3 (ipykernel)",
   "language": "python",
   "name": "python3"
  },
  "language_info": {
   "codemirror_mode": {
    "name": "ipython",
    "version": 3
   },
   "file_extension": ".py",
   "mimetype": "text/x-python",
   "name": "python",
   "nbconvert_exporter": "python",
   "pygments_lexer": "ipython3",
   "version": "3.9.1"
  }
 },
 "nbformat": 4,
 "nbformat_minor": 5
}

{
 "cells": [
  {
   "cell_type": "code",
   "execution_count": 12,
   "id": "eb3eb807-e7c7-41b9-9329-8bd84d2516dd",
   "metadata": {},
   "outputs": [
    {
     "data": {
      "text/html": [
       "<div>\n",
       "<style scoped>\n",
       "    .dataframe tbody tr th:only-of-type {\n",
       "        vertical-align: middle;\n",
       "    }\n",
       "\n",
       "    .dataframe tbody tr th {\n",
       "        vertical-align: top;\n",
       "    }\n",
       "\n",
       "    .dataframe thead th {\n",
       "        text-align: right;\n",
       "    }\n",
       "</style>\n",
       "<table border=\"1\" class=\"dataframe\">\n",
       "  <thead>\n",
       "    <tr style=\"text-align: right;\">\n",
       "      <th></th>\n",
       "      <th>identificador</th>\n",
       "      <th>nome</th>\n",
       "      <th>idade</th>\n",
       "      <th>sexo</th>\n",
       "      <th>peso</th>\n",
       "      <th>manchas</th>\n",
       "      <th>temperatura</th>\n",
       "      <th>internacoes</th>\n",
       "      <th>estado</th>\n",
       "      <th>diagnostico</th>\n",
       "    </tr>\n",
       "  </thead>\n",
       "  <tbody>\n",
       "    <tr>\n",
       "      <th>0</th>\n",
       "      <td>4201</td>\n",
       "      <td>Joao</td>\n",
       "      <td>28</td>\n",
       "      <td>M</td>\n",
       "      <td>67</td>\n",
       "      <td>Concentradas</td>\n",
       "      <td>38.0</td>\n",
       "      <td>2</td>\n",
       "      <td>SP</td>\n",
       "      <td>Doente</td>\n",
       "    </tr>\n",
       "    <tr>\n",
       "      <th>1</th>\n",
       "      <td>3217</td>\n",
       "      <td>Maria</td>\n",
       "      <td>18</td>\n",
       "      <td>F</td>\n",
       "      <td>67</td>\n",
       "      <td>Inexistentes</td>\n",
       "      <td>39.5</td>\n",
       "      <td>4</td>\n",
       "      <td>MG</td>\n",
       "      <td>Saudavel</td>\n",
       "    </tr>\n",
       "    <tr>\n",
       "      <th>2</th>\n",
       "      <td>4039</td>\n",
       "      <td>Luiz</td>\n",
       "      <td>49</td>\n",
       "      <td>M</td>\n",
       "      <td>500</td>\n",
       "      <td>Espalhadas</td>\n",
       "      <td>38.0</td>\n",
       "      <td>2</td>\n",
       "      <td>RS</td>\n",
       "      <td>Doente</td>\n",
       "    </tr>\n",
       "    <tr>\n",
       "      <th>3</th>\n",
       "      <td>1920</td>\n",
       "      <td>Jose</td>\n",
       "      <td>18</td>\n",
       "      <td>M</td>\n",
       "      <td>43</td>\n",
       "      <td>Inexistentes</td>\n",
       "      <td>38.5</td>\n",
       "      <td>8</td>\n",
       "      <td>MG</td>\n",
       "      <td>Saudavel</td>\n",
       "    </tr>\n",
       "    <tr>\n",
       "      <th>4</th>\n",
       "      <td>4340</td>\n",
       "      <td>Claudia</td>\n",
       "      <td>21</td>\n",
       "      <td>F</td>\n",
       "      <td>52</td>\n",
       "      <td>Uniformes</td>\n",
       "      <td>38.5</td>\n",
       "      <td>1</td>\n",
       "      <td>PE</td>\n",
       "      <td>Doente</td>\n",
       "    </tr>\n",
       "    <tr>\n",
       "      <th>5</th>\n",
       "      <td>4340</td>\n",
       "      <td>Claudia</td>\n",
       "      <td>21</td>\n",
       "      <td>F</td>\n",
       "      <td>52</td>\n",
       "      <td>Uniformes</td>\n",
       "      <td>38.5</td>\n",
       "      <td>1</td>\n",
       "      <td>PE</td>\n",
       "      <td>Saudavel</td>\n",
       "    </tr>\n",
       "    <tr>\n",
       "      <th>6</th>\n",
       "      <td>2301</td>\n",
       "      <td>Ana</td>\n",
       "      <td>22</td>\n",
       "      <td>F</td>\n",
       "      <td>72</td>\n",
       "      <td>Inexistentes</td>\n",
       "      <td>58.0</td>\n",
       "      <td>3</td>\n",
       "      <td>RJ</td>\n",
       "      <td>Doente</td>\n",
       "    </tr>\n",
       "    <tr>\n",
       "      <th>7</th>\n",
       "      <td>2301</td>\n",
       "      <td>Ana</td>\n",
       "      <td>22</td>\n",
       "      <td>F</td>\n",
       "      <td>72</td>\n",
       "      <td>Inexistentes</td>\n",
       "      <td>58.0</td>\n",
       "      <td>3</td>\n",
       "      <td>RJ</td>\n",
       "      <td>Doente</td>\n",
       "    </tr>\n",
       "    <tr>\n",
       "      <th>8</th>\n",
       "      <td>2301</td>\n",
       "      <td>Ana</td>\n",
       "      <td>22</td>\n",
       "      <td>F</td>\n",
       "      <td>72</td>\n",
       "      <td>Inexistentes</td>\n",
       "      <td>58.0</td>\n",
       "      <td>3</td>\n",
       "      <td>RJ</td>\n",
       "      <td>Doente</td>\n",
       "    </tr>\n",
       "    <tr>\n",
       "      <th>9</th>\n",
       "      <td>1322</td>\n",
       "      <td>Marta</td>\n",
       "      <td>19</td>\n",
       "      <td>F</td>\n",
       "      <td>87</td>\n",
       "      <td>Espalhadas</td>\n",
       "      <td>39.0</td>\n",
       "      <td>6</td>\n",
       "      <td>AM</td>\n",
       "      <td>Saudavel</td>\n",
       "    </tr>\n",
       "    <tr>\n",
       "      <th>10</th>\n",
       "      <td>3027</td>\n",
       "      <td>Paulo</td>\n",
       "      <td>34</td>\n",
       "      <td>M</td>\n",
       "      <td>67</td>\n",
       "      <td>Uniformes</td>\n",
       "      <td>38.4</td>\n",
       "      <td>2</td>\n",
       "      <td>GO</td>\n",
       "      <td>Saudavel</td>\n",
       "    </tr>\n",
       "  </tbody>\n",
       "</table>\n",
       "</div>"
      ],
      "text/plain": [
       "    identificador     nome  idade sexo  peso       manchas  temperatura  \\\n",
       "0            4201     Joao     28    M    67  Concentradas         38.0   \n",
       "1            3217    Maria     18    F    67  Inexistentes         39.5   \n",
       "2            4039     Luiz     49    M   500    Espalhadas         38.0   \n",
       "3            1920     Jose     18    M    43  Inexistentes         38.5   \n",
       "4            4340  Claudia     21    F    52     Uniformes         38.5   \n",
       "5            4340  Claudia     21    F    52     Uniformes         38.5   \n",
       "6            2301      Ana     22    F    72  Inexistentes         58.0   \n",
       "7            2301      Ana     22    F    72  Inexistentes         58.0   \n",
       "8            2301      Ana     22    F    72  Inexistentes         58.0   \n",
       "9            1322    Marta     19    F    87    Espalhadas         39.0   \n",
       "10           3027    Paulo     34    M    67     Uniformes         38.4   \n",
       "\n",
       "    internacoes estado diagnostico  \n",
       "0             2     SP      Doente  \n",
       "1             4     MG    Saudavel  \n",
       "2             2     RS      Doente  \n",
       "3             8     MG    Saudavel  \n",
       "4             1     PE      Doente  \n",
       "5             1     PE    Saudavel  \n",
       "6             3     RJ      Doente  \n",
       "7             3     RJ      Doente  \n",
       "8             3     RJ      Doente  \n",
       "9             6     AM    Saudavel  \n",
       "10            2     GO    Saudavel  "
      ]
     },
     "execution_count": 12,
     "metadata": {},
     "output_type": "execute_result"
    }
   ],
   "source": [
    "import pandas as pd\n",
    "import numpy as np\n",
    "import statistics as st\n",
    "import matplotlib.pyplot as plt\n",
    "import plotly.express as px\n",
    "from sklearn import preprocessing\n",
    "from sklearn.preprocessing import RobustScaler\n",
    "from sklearn.decomposition import PCA\n",
    "\n",
    "df = pd.read_csv('hospital.csv', delimiter=\",\") #abrindo o arquivo\n",
    "df #print da variável df\n",
    "\n",
    "#pode existir problema na ausência de dados com algumas das funções, testar o comando dropna antes delas"
   ]
  },
  {
   "cell_type": "code",
   "execution_count": 4,
   "id": "9f80b50b-09d5-4968-94f3-6d5314c0df8c",
   "metadata": {},
   "outputs": [
    {
     "name": "stderr",
     "output_type": "stream",
     "text": [
      "C:\\Users\\GUSTAV~2\\AppData\\Local\\Temp/ipykernel_6360/1258172375.py:1: FutureWarning: Dropping of nuisance columns in DataFrame reductions (with 'numeric_only=None') is deprecated; in a future version this will raise TypeError.  Select only valid columns before calling the reduction.\n",
      "  df.mean() #cálculo da mediana\n"
     ]
    },
    {
     "data": {
      "text/plain": [
       "identificador    3028.090909\n",
       "idade              24.909091\n",
       "peso              104.636364\n",
       "temperatura        43.854545\n",
       "internacoes         3.181818\n",
       "dtype: float64"
      ]
     },
     "execution_count": 4,
     "metadata": {},
     "output_type": "execute_result"
    }
   ],
   "source": [
    "df.mean() #cálculo da mediana"
   ]
  },
  {
   "cell_type": "code",
   "execution_count": 5,
   "id": "18d22721-07e7-4018-9ed7-dcd6ec2d7120",
   "metadata": {},
   "outputs": [
    {
     "data": {
      "text/plain": [
       "F    0.636364\n",
       "M    0.363636\n",
       "Name: sexo, dtype: float64"
      ]
     },
     "execution_count": 5,
     "metadata": {},
     "output_type": "execute_result"
    }
   ],
   "source": [
    "x = df['sexo'].value_counts() #cálculo das quantidades dos tipos do atributo Sexo\n",
    "x/len(df)  #cáculo das quantidades em relação ao conjunto completo (entre 0 e 1)"
   ]
  },
  {
   "cell_type": "code",
   "execution_count": 7,
   "id": "228df5f0-d1fa-430f-806a-750567dd1e08",
   "metadata": {},
   "outputs": [
    {
     "data": {
      "text/plain": [
       "Text(0, 0.5, 'Peso')"
      ]
     },
     "execution_count": 7,
     "metadata": {},
     "output_type": "execute_result"
    },
    {
     "data": {
      "image/png": "[encoded data removed]",
      "text/plain": [
       "<Figure size 432x288 with 1 Axes>"
      ]
     },
     "metadata": {
      "needs_background": "light"
     },
     "output_type": "display_data"
    }
   ],
   "source": [
    "import matplotlib.pyplot as plt\n",
    "\n",
    "plt.scatter(df.idade, df.peso) #gráfico de correlação\n",
    "plt.xlabel('Idade')\n",
    "plt.ylabel('Peso')"
   ]
  },
  {
   "cell_type": "code",
   "execution_count": 9,
   "id": "d04e2da1-32ff-40f6-bcef-64dea7b8e177",
   "metadata": {},
   "outputs": [
    {
     "data": {
      "text/plain": [
       "0    22\n",
       "dtype: int64"
      ]
     },
     "execution_count": 9,
     "metadata": {},
     "output_type": "execute_result"
    }
   ],
   "source": [
    "df['idade'].mode() #cálculo da moda"
   ]
  },
  {
   "cell_type": "code",
   "execution_count": 10,
   "id": "e12713a3-4e66-42a5-a10e-14825ee52f66",
   "metadata": {},
   "outputs": [
    {
     "data": {
      "text/plain": [
       "38.5"
      ]
     },
     "execution_count": 10,
     "metadata": {},
     "output_type": "execute_result"
    }
   ],
   "source": [
    "df['temperatura'].median()"
   ]
  },
  {
   "cell_type": "code",
   "execution_count": 11,
   "id": "b70e4461-f4ac-4864-bf1d-ab3ba4f1fdf9",
   "metadata": {},
   "outputs": [
    {
     "data": {
      "text/plain": [
       "43.85454545454545"
      ]
     },
     "execution_count": 11,
     "metadata": {},
     "output_type": "execute_result"
    }
   ],
   "source": [
    "df['temperatura'].mean() #cálculo da mediana"
   ]
  },
  {
   "cell_type": "code",
   "execution_count": 13,
   "id": "d9b7f9c6-c712-48ca-b21d-2bc762133b82",
   "metadata": {},
   "outputs": [
    {
     "data": {
      "text/plain": [
       "Text(0, 0.5, 'Valores')"
      ]
     },
     "execution_count": 13,
     "metadata": {},
     "output_type": "execute_result"
    },
    {
     "data": {
      "image/png": "[encoded data removed]",
      "text/plain": [
       "<Figure size 432x288 with 1 Axes>"
      ]
     },
     "metadata": {
      "needs_background": "light"
     },
     "output_type": "display_data"
    }
   ],
   "source": [
    "plt.boxplot(df['temperatura']) #gráfico de boxplot\n",
    "\n",
    "plt.title('Pacientes')\n",
    "plt.xlabel('Temperatura')\n",
    "plt.ylabel('Valores')"
   ]
  },
  {
   "cell_type": "code",
   "execution_count": 14,
   "id": "ec875adc-7a73-4a96-949c-5d9d6514e4b7",
   "metadata": {},
   "outputs": [
    {
     "data": {
      "text/plain": [
       "82.71272727272728"
      ]
     },
     "execution_count": 14,
     "metadata": {},
     "output_type": "execute_result"
    }
   ],
   "source": [
    "df['temperatura'].var() #cálculo da variância"
   ]
  },
  {
   "cell_type": "code",
   "execution_count": 15,
   "id": "6af755ae-b83b-4676-8100-30e48da1f8e9",
   "metadata": {},
   "outputs": [
    {
     "data": {
      "text/plain": [
       "9.09465377420863"
      ]
     },
     "execution_count": 15,
     "metadata": {},
     "output_type": "execute_result"
    }
   ],
   "source": [
    "df['temperatura'].std() #cálculo do desvio padrão"
   ]
  },
  {
   "cell_type": "code",
   "execution_count": 16,
   "id": "d9753a23-f0a9-41a6-a890-aa0e83adbf7f",
   "metadata": {},
   "outputs": [
    {
     "data": {
      "text/html": [
       "<style type=\"text/css\">\n",
       "#T_9b476_row0_col0, #T_9b476_row1_col1, #T_9b476_row2_col2, #T_9b476_row3_col3, #T_9b476_row4_col4 {\n",
       "  background-color: #b40426;\n",
       "  color: #f1f1f1;\n",
       "}\n",
       "#T_9b476_row0_col1 {\n",
       "  background-color: #eed0c0;\n",
       "  color: #000000;\n",
       "}\n",
       "#T_9b476_row0_col2 {\n",
       "  background-color: #bad0f8;\n",
       "  color: #000000;\n",
       "}\n",
       "#T_9b476_row0_col3, #T_9b476_row0_col4, #T_9b476_row3_col2, #T_9b476_row4_col0, #T_9b476_row4_col1, #T_9b476_row4_col2 {\n",
       "  background-color: #3b4cc0;\n",
       "  color: #f1f1f1;\n",
       "}\n",
       "#T_9b476_row1_col0 {\n",
       "  background-color: #f7b89c;\n",
       "  color: #000000;\n",
       "}\n",
       "#T_9b476_row1_col2 {\n",
       "  background-color: #da5a49;\n",
       "  color: #f1f1f1;\n",
       "}\n",
       "#T_9b476_row1_col3 {\n",
       "  background-color: #6b8df0;\n",
       "  color: #f1f1f1;\n",
       "}\n",
       "#T_9b476_row1_col4 {\n",
       "  background-color: #7ea1fa;\n",
       "  color: #f1f1f1;\n",
       "}\n",
       "#T_9b476_row2_col0 {\n",
       "  background-color: #f0cdbb;\n",
       "  color: #000000;\n",
       "}\n",
       "#T_9b476_row2_col1 {\n",
       "  background-color: #d55042;\n",
       "  color: #f1f1f1;\n",
       "}\n",
       "#T_9b476_row2_col3 {\n",
       "  background-color: #779af7;\n",
       "  color: #f1f1f1;\n",
       "}\n",
       "#T_9b476_row2_col4 {\n",
       "  background-color: #abc8fd;\n",
       "  color: #000000;\n",
       "}\n",
       "#T_9b476_row3_col0 {\n",
       "  background-color: #7597f6;\n",
       "  color: #f1f1f1;\n",
       "}\n",
       "#T_9b476_row3_col1 {\n",
       "  background-color: #6180e9;\n",
       "  color: #f1f1f1;\n",
       "}\n",
       "#T_9b476_row3_col4 {\n",
       "  background-color: #c5d6f2;\n",
       "  color: #000000;\n",
       "}\n",
       "#T_9b476_row4_col3 {\n",
       "  background-color: #9abbff;\n",
       "  color: #000000;\n",
       "}\n",
       "</style>\n",
       "<table id=\"T_9b476_\">\n",
       "  <thead>\n",
       "    <tr>\n",
       "      <th class=\"blank level0\" >&nbsp;</th>\n",
       "      <th class=\"col_heading level0 col0\" >identificador</th>\n",
       "      <th class=\"col_heading level0 col1\" >idade</th>\n",
       "      <th class=\"col_heading level0 col2\" >peso</th>\n",
       "      <th class=\"col_heading level0 col3\" >temperatura</th>\n",
       "      <th class=\"col_heading level0 col4\" >internacoes</th>\n",
       "    </tr>\n",
       "  </thead>\n",
       "  <tbody>\n",
       "    <tr>\n",
       "      <th id=\"T_9b476_level0_row0\" class=\"row_heading level0 row0\" >identificador</th>\n",
       "      <td id=\"T_9b476_row0_col0\" class=\"data row0 col0\" >1.000000</td>\n",
       "      <td id=\"T_9b476_row0_col1\" class=\"data row0 col1\" >0.405642</td>\n",
       "      <td id=\"T_9b476_row0_col2\" class=\"data row0 col2\" >0.267879</td>\n",
       "      <td id=\"T_9b476_row0_col3\" class=\"data row0 col3\" >-0.452163</td>\n",
       "      <td id=\"T_9b476_row0_col4\" class=\"data row0 col4\" >-0.777983</td>\n",
       "    </tr>\n",
       "    <tr>\n",
       "      <th id=\"T_9b476_level0_row1\" class=\"row_heading level0 row1\" >idade</th>\n",
       "      <td id=\"T_9b476_row1_col0\" class=\"data row1 col0\" >0.405642</td>\n",
       "      <td id=\"T_9b476_row1_col1\" class=\"data row1 col1\" >1.000000</td>\n",
       "      <td id=\"T_9b476_row1_col2\" class=\"data row1 col2\" >0.864673</td>\n",
       "      <td id=\"T_9b476_row1_col3\" class=\"data row1 col3\" >-0.230814</td>\n",
       "      <td id=\"T_9b476_row1_col4\" class=\"data row1 col4\" >-0.403156</td>\n",
       "    </tr>\n",
       "    <tr>\n",
       "      <th id=\"T_9b476_level0_row2\" class=\"row_heading level0 row2\" >peso</th>\n",
       "      <td id=\"T_9b476_row2_col0\" class=\"data row2 col0\" >0.267879</td>\n",
       "      <td id=\"T_9b476_row2_col1\" class=\"data row2 col1\" >0.864673</td>\n",
       "      <td id=\"T_9b476_row2_col2\" class=\"data row2 col2\" >1.000000</td>\n",
       "      <td id=\"T_9b476_row2_col3\" class=\"data row2 col3\" >-0.177917</td>\n",
       "      <td id=\"T_9b476_row2_col4\" class=\"data row2 col4\" >-0.180678</td>\n",
       "    </tr>\n",
       "    <tr>\n",
       "      <th id=\"T_9b476_level0_row3\" class=\"row_heading level0 row3\" >temperatura</th>\n",
       "      <td id=\"T_9b476_row3_col0\" class=\"data row3 col0\" >-0.452163</td>\n",
       "      <td id=\"T_9b476_row3_col1\" class=\"data row3 col1\" >-0.230814</td>\n",
       "      <td id=\"T_9b476_row3_col2\" class=\"data row3 col2\" >-0.177917</td>\n",
       "      <td id=\"T_9b476_row3_col3\" class=\"data row3 col3\" >1.000000</td>\n",
       "      <td id=\"T_9b476_row3_col4\" class=\"data row3 col4\" >-0.036591</td>\n",
       "    </tr>\n",
       "    <tr>\n",
       "      <th id=\"T_9b476_level0_row4\" class=\"row_heading level0 row4\" >internacoes</th>\n",
       "      <td id=\"T_9b476_row4_col0\" class=\"data row4 col0\" >-0.777983</td>\n",
       "      <td id=\"T_9b476_row4_col1\" class=\"data row4 col1\" >-0.403156</td>\n",
       "      <td id=\"T_9b476_row4_col2\" class=\"data row4 col2\" >-0.180678</td>\n",
       "      <td id=\"T_9b476_row4_col3\" class=\"data row4 col3\" >-0.036591</td>\n",
       "      <td id=\"T_9b476_row4_col4\" class=\"data row4 col4\" >1.000000</td>\n",
       "    </tr>\n",
       "  </tbody>\n",
       "</table>\n"
      ],
      "text/plain": [
       "<pandas.io.formats.style.Styler at 0x161b39fa670>"
      ]
     },
     "execution_count": 16,
     "metadata": {},
     "output_type": "execute_result"
    }
   ],
   "source": [
    "corr = df.corr()\n",
    "corr.style.background_gradient(cmap='coolwarm') #mapa de correlação"
   ]
  },
  {
   "cell_type": "code",
   "execution_count": 18,
   "id": "6d5e4aa4-b312-4f7d-8eba-2ba87f857808",
   "metadata": {},
   "outputs": [
    {
     "data": {
      "application/vnd.plotly.v1+json": {
       "config": {
        "plotlyServerURL": "https://plot.ly"
       },
       "data": [
        {
         "fill": "toself",
         "hovertemplate": "r=%{r}<br>theta=%{theta}<extra></extra>",
         "legendgroup": "",
         "line": {
          "color": "#636efa",
          "dash": "solid"
         },
         "marker": {
          "symbol": "circle"
         },
         "mode": "lines",
         "name": "",
         "r": [
          1,
          5,
          2,
          2,
          3,
          1
         ],
         "showlegend": false,
         "subplot": "polar",
         "theta": [
          "a",
          "b",
          "c",
          "d",
          "e",
          "a"
         ],
         "type": "scatterpolar"
        }
       ],
       "layout": {
        "autosize": true,
        "legend": {
         "tracegroupgap": 0
        },
        "margin": {
         "t": 60
        },
        "polar": {
         "angularaxis": {
          "direction": "clockwise",
          "rotation": 90,
          "type": "category"
         },
         "domain": {
          "x": [
           0,
           1
          ],
          "y": [
           0,
           1
          ]
         },
         "radialaxis": {
          "autorange": true,
          "range": [
           0,
           5
          ],
          "type": "linear"
         }
        },
        "template": {
         "data": {
          "bar": [
           {
            "error_x": {
             "color": "#2a3f5f"
            },
            "error_y": {
             "color": "#2a3f5f"
            },
            "marker": {
             "line": {
              "color": "#E5ECF6",
              "width": 0.5
             },
             "pattern": {
              "fillmode": "overlay",
              "size": 10,
              "solidity": 0.2
             }
            },
            "type": "bar"
           }
          ],
          "barpolar": [
           {
            "marker": {
             "line": {
              "color": "#E5ECF6",
              "width": 0.5
             },
             "pattern": {
              "fillmode": "overlay",
              "size": 10,
              "solidity": 0.2
             }
            },
            "type": "barpolar"
           }
          ],
          "carpet": [
           {
            "aaxis": {
             "endlinecolor": "#2a3f5f",
             "gridcolor": "white",
             "linecolor": "white",
             "minorgridcolor": "white",
             "startlinecolor": "#2a3f5f"
            },
            "baxis": {
             "endlinecolor": "#2a3f5f",
             "gridcolor": "white",
             "linecolor": "white",
             "minorgridcolor": "white",
             "startlinecolor": "#2a3f5f"
            },
            "type": "carpet"
           }
          ],
          "choropleth": [
           {
            "colorbar": {
             "outlinewidth": 0,
             "ticks": ""
            },
            "type": "choropleth"
           }
          ],
          "contour": [
           {
            "colorbar": {
             "outlinewidth": 0,
             "ticks": ""
            },
            "colorscale": [
             [
              0,
              "#0d0887"
             ],
             [
              0.1111111111111111,
              "#46039f"
             ],
             [
              0.2222222222222222,
              "#7201a8"
             ],
             [
              0.3333333333333333,
              "#9c179e"
             ],
             [
              0.4444444444444444,
              "#bd3786"
             ],
             [
              0.5555555555555556,
              "#d8576b"
             ],
             [
              0.6666666666666666,
              "#ed7953"
             ],
             [
              0.7777777777777778,
              "#fb9f3a"
             ],
             [
              0.8888888888888888,
              "#fdca26"
             ],
             [
              1,
              "#f0f921"
             ]
            ],
            "type": "contour"
           }
          ],
          "contourcarpet": [
           {
            "colorbar": {
             "outlinewidth": 0,
             "ticks": ""
            },
            "type": "contourcarpet"
           }
          ],
          "heatmap": [
           {
            "colorbar": {
             "outlinewidth": 0,
             "ticks": ""
            },
            "colorscale": [
             [
              0,
              "#0d0887"
             ],
             [
              0.1111111111111111,
              "#46039f"
             ],
             [
              0.2222222222222222,
              "#7201a8"
             ],
             [
              0.3333333333333333,
              "#9c179e"
             ],
             [
              0.4444444444444444,
              "#bd3786"
             ],
             [
              0.5555555555555556,
              "#d8576b"
             ],
             [
              0.6666666666666666,
              "#ed7953"
             ],
             [
              0.7777777777777778,
              "#fb9f3a"
             ],
             [
              0.8888888888888888,
              "#fdca26"
             ],
             [
              1,
              "#f0f921"
             ]
            ],
            "type": "heatmap"
           }
          ],
          "heatmapgl": [
           {
            "colorbar": {
             "outlinewidth": 0,
             "ticks": ""
            },
            "colorscale": [
             [
              0,
              "#0d0887"
             ],
             [
              0.1111111111111111,
              "#46039f"
             ],
             [
              0.2222222222222222,
              "#7201a8"
             ],
             [
              0.3333333333333333,
              "#9c179e"
             ],
             [
              0.4444444444444444,
              "#bd3786"
             ],
             [
              0.5555555555555556,
              "#d8576b"
             ],
             [
              0.6666666666666666,
              "#ed7953"
             ],
             [
              0.7777777777777778,
              "#fb9f3a"
             ],
             [
              0.8888888888888888,
              "#fdca26"
             ],
             [
              1,
              "#f0f921"
             ]
            ],
            "type": "heatmapgl"
           }
          ],
          "histogram": [
           {
            "marker": {
             "pattern": {
              "fillmode": "overlay",
              "size": 10,
              "solidity": 0.2
             }
            },
            "type": "histogram"
           }
          ],
          "histogram2d": [
           {
            "colorbar": {
             "outlinewidth": 0,
             "ticks": ""
            },
            "colorscale": [
             [
              0,
              "#0d0887"
             ],
             [
              0.1111111111111111,
              "#46039f"
             ],
             [
              0.2222222222222222,
              "#7201a8"
             ],
             [
              0.3333333333333333,
              "#9c179e"
             ],
             [
              0.4444444444444444,
              "#bd3786"
             ],
             [
              0.5555555555555556,
              "#d8576b"
             ],
             [
              0.6666666666666666,
              "#ed7953"
             ],
             [
              0.7777777777777778,
              "#fb9f3a"
             ],
             [
              0.8888888888888888,
              "#fdca26"
             ],
             [
              1,
              "#f0f921"
             ]
            ],
            "type": "histogram2d"
           }
          ],
          "histogram2dcontour": [
           {
            "colorbar": {
             "outlinewidth": 0,
             "ticks": ""
            },
            "colorscale": [
             [
              0,
              "#0d0887"
             ],
             [
              0.1111111111111111,
              "#46039f"
             ],
             [
              0.2222222222222222,
              "#7201a8"
             ],
             [
              0.3333333333333333,
              "#9c179e"
             ],
             [
              0.4444444444444444,
              "#bd3786"
             ],
             [
              0.5555555555555556,
              "#d8576b"
             ],
             [
              0.6666666666666666,
              "#ed7953"
             ],
             [
              0.7777777777777778,
              "#fb9f3a"
             ],
             [
              0.8888888888888888,
              "#fdca26"
             ],
             [
              1,
              "#f0f921"
             ]
            ],
            "type": "histogram2dcontour"
           }
          ],
          "mesh3d": [
           {
            "colorbar": {
             "outlinewidth": 0,
             "ticks": ""
            },
            "type": "mesh3d"
           }
          ],
          "parcoords": [
           {
            "line": {
             "colorbar": {
              "outlinewidth": 0,
              "ticks": ""
             }
            },
            "type": "parcoords"
           }
          ],
          "pie": [
           {
            "automargin": true,
            "type": "pie"
           }
          ],
          "scatter": [
           {
            "marker": {
             "colorbar": {
              "outlinewidth": 0,
              "ticks": ""
             }
            },
            "type": "scatter"
           }
          ],
          "scatter3d": [
           {
            "line": {
             "colorbar": {
              "outlinewidth": 0,
              "ticks": ""
             }
            },
            "marker": {
             "colorbar": {
              "outlinewidth": 0,
              "ticks": ""
             }
            },
            "type": "scatter3d"
           }
          ],
          "scattercarpet": [
           {
            "marker": {
             "colorbar": {
              "outlinewidth": 0,
              "ticks": ""
             }
            },
            "type": "scattercarpet"
           }
          ],
          "scattergeo": [
           {
            "marker": {
             "colorbar": {
              "outlinewidth": 0,
              "ticks": ""
             }
            },
            "type": "scattergeo"
           }
          ],
          "scattergl": [
           {
            "marker": {
             "colorbar": {
              "outlinewidth": 0,
              "ticks": ""
             }
            },
            "type": "scattergl"
           }
          ],
          "scattermapbox": [
           {
            "marker": {
             "colorbar": {
              "outlinewidth": 0,
              "ticks": ""
             }
            },
            "type": "scattermapbox"
           }
          ],
          "scatterpolar": [
           {
            "marker": {
             "colorbar": {
              "outlinewidth": 0,
              "ticks": ""
             }
            },
            "type": "scatterpolar"
           }
          ],
          "scatterpolargl": [
           {
            "marker": {
             "colorbar": {
              "outlinewidth": 0,
              "ticks": ""
             }
            },
            "type": "scatterpolargl"
           }
          ],
          "scatterternary": [
           {
            "marker": {
             "colorbar": {
              "outlinewidth": 0,
              "ticks": ""
             }
            },
            "type": "scatterternary"
           }
          ],
          "surface": [
           {
            "colorbar": {
             "outlinewidth": 0,
             "ticks": ""
            },
            "colorscale": [
             [
              0,
              "#0d0887"
             ],
             [
              0.1111111111111111,
              "#46039f"
             ],
             [
              0.2222222222222222,
              "#7201a8"
             ],
             [
              0.3333333333333333,
              "#9c179e"
             ],
             [
              0.4444444444444444,
              "#bd3786"
             ],
             [
              0.5555555555555556,
              "#d8576b"
             ],
             [
              0.6666666666666666,
              "#ed7953"
             ],
             [
              0.7777777777777778,
              "#fb9f3a"
             ],
             [
              0.8888888888888888,
              "#fdca26"
             ],
             [
              1,
              "#f0f921"
             ]
            ],
            "type": "surface"
           }
          ],
          "table": [
           {
            "cells": {
             "fill": {
              "color": "#EBF0F8"
             },
             "line": {
              "color": "white"
             }
            },
            "header": {
             "fill": {
              "color": "#C8D4E3"
             },
             "line": {
              "color": "white"
             }
            },
            "type": "table"
           }
          ]
         },
         "layout": {
          "annotationdefaults": {
           "arrowcolor": "#2a3f5f",
           "arrowhead": 0,
           "arrowwidth": 1
          },
          "autotypenumbers": "strict",
          "coloraxis": {
           "colorbar": {
            "outlinewidth": 0,
            "ticks": ""
           }
          },
          "colorscale": {
           "diverging": [
            [
             0,
             "#8e0152"
            ],
            [
             0.1,
             "#c51b7d"
            ],
            [
             0.2,
             "#de77ae"
            ],
            [
             0.3,
             "#f1b6da"
            ],
            [
             0.4,
             "#fde0ef"
            ],
            [
             0.5,
             "#f7f7f7"
            ],
            [
             0.6,
             "#e6f5d0"
            ],
            [
             0.7,
             "#b8e186"
            ],
            [
             0.8,
             "#7fbc41"
            ],
            [
             0.9,
             "#4d9221"
            ],
            [
             1,
             "#276419"
            ]
           ],
           "sequential": [
            [
             0,
             "#0d0887"
            ],
            [
             0.1111111111111111,
             "#46039f"
            ],
            [
             0.2222222222222222,
             "#7201a8"
            ],
            [
             0.3333333333333333,
             "#9c179e"
            ],
            [
             0.4444444444444444,
             "#bd3786"
            ],
            [
             0.5555555555555556,
             "#d8576b"
            ],
            [
             0.6666666666666666,
             "#ed7953"
            ],
            [
             0.7777777777777778,
             "#fb9f3a"
            ],
            [
             0.8888888888888888,
             "#fdca26"
            ],
            [
             1,
             "#f0f921"
            ]
           ],
           "sequentialminus": [
            [
             0,
             "#0d0887"
            ],
            [
             0.1111111111111111,
             "#46039f"
            ],
            [
             0.2222222222222222,
             "#7201a8"
            ],
            [
             0.3333333333333333,
             "#9c179e"
            ],
            [
             0.4444444444444444,
             "#bd3786"
            ],
            [
             0.5555555555555556,
             "#d8576b"
            ],
            [
             0.6666666666666666,
             "#ed7953"
            ],
            [
             0.7777777777777778,
             "#fb9f3a"
            ],
            [
             0.8888888888888888,
             "#fdca26"
            ],
            [
             1,
             "#f0f921"
            ]
           ]
          },
          "colorway": [
           "#636efa",
           "#EF553B",
           "#00cc96",
           "#ab63fa",
           "#FFA15A",
           "#19d3f3",
           "#FF6692",
           "#B6E880",
           "#FF97FF",
           "#FECB52"
          ],
          "font": {
           "color": "#2a3f5f"
          },
          "geo": {
           "bgcolor": "white",
           "lakecolor": "white",
           "landcolor": "#E5ECF6",
           "showlakes": true,
           "showland": true,
           "subunitcolor": "white"
          },
          "hoverlabel": {
           "align": "left"
          },
          "hovermode": "closest",
          "mapbox": {
           "style": "light"
          },
          "paper_bgcolor": "white",
          "plot_bgcolor": "#E5ECF6",
          "polar": {
           "angularaxis": {
            "gridcolor": "white",
            "linecolor": "white",
            "ticks": ""
           },
           "bgcolor": "#E5ECF6",
           "radialaxis": {
            "gridcolor": "white",
            "linecolor": "white",
            "ticks": ""
           }
          },
          "scene": {
           "xaxis": {
            "backgroundcolor": "#E5ECF6",
            "gridcolor": "white",
            "gridwidth": 2,
            "linecolor": "white",
            "showbackground": true,
            "ticks": "",
            "zerolinecolor": "white"
           },
           "yaxis": {
            "backgroundcolor": "#E5ECF6",
            "gridcolor": "white",
            "gridwidth": 2,
            "linecolor": "white",
            "showbackground": true,
            "ticks": "",
            "zerolinecolor": "white"
           },
           "zaxis": {
            "backgroundcolor": "#E5ECF6",
            "gridcolor": "white",
            "gridwidth": 2,
            "linecolor": "white",
            "showbackground": true,
            "ticks": "",
            "zerolinecolor": "white"
           }
          },
          "shapedefaults": {
           "line": {
            "color": "#2a3f5f"
           }
          },
          "ternary": {
           "aaxis": {
            "gridcolor": "white",
            "linecolor": "white",
            "ticks": ""
           },
           "baxis": {
            "gridcolor": "white",
            "linecolor": "white",
            "ticks": ""
           },
           "bgcolor": "#E5ECF6",
           "caxis": {
            "gridcolor": "white",
            "linecolor": "white",
            "ticks": ""
           }
          },
          "title": {
           "x": 0.05
          },
          "xaxis": {
           "automargin": true,
           "gridcolor": "white",
           "linecolor": "white",
           "ticks": "",
           "title": {
            "standoff": 15
           },
           "zerolinecolor": "white",
           "zerolinewidth": 2
          },
          "yaxis": {
           "automargin": true,
           "gridcolor": "white",
           "linecolor": "white",
           "ticks": "",
           "title": {
            "standoff": 15
           },
           "zerolinecolor": "white",
           "zerolinewidth": 2
          }
         }
        }
       }
      },
      "image/png": "[encoded data removed]",
      "text/html": [
       "<div>                            <div id=\"099a01e3-f766-4f44-966e-7c708b0f7d03\" class=\"plotly-graph-div\" style=\"height:525px; width:100%;\"></div>            <script type=\"text/javascript\">                require([\"plotly\"], function(Plotly) {                    window.PLOTLYENV=window.PLOTLYENV || {};                                    if (document.getElementById(\"099a01e3-f766-4f44-966e-7c708b0f7d03\")) {                    Plotly.newPlot(                        \"099a01e3-f766-4f44-966e-7c708b0f7d03\",                        [{\"fill\":\"toself\",\"hovertemplate\":\"r=%{r}<br>theta=%{theta}<extra></extra>\",\"legendgroup\":\"\",\"line\":{\"color\":\"#636efa\",\"dash\":\"solid\"},\"marker\":{\"symbol\":\"circle\"},\"mode\":\"lines\",\"name\":\"\",\"r\":[1,5,2,2,3,1],\"showlegend\":false,\"subplot\":\"polar\",\"theta\":[\"a\",\"b\",\"c\",\"d\",\"e\",\"a\"],\"type\":\"scatterpolar\"}],                        {\"legend\":{\"tracegroupgap\":0},\"margin\":{\"t\":60},\"polar\":{\"angularaxis\":{\"direction\":\"clockwise\",\"rotation\":90},\"domain\":{\"x\":[0.0,1.0],\"y\":[0.0,1.0]}},\"template\":{\"data\":{\"bar\":[{\"error_x\":{\"color\":\"#2a3f5f\"},\"error_y\":{\"color\":\"#2a3f5f\"},\"marker\":{\"line\":{\"color\":\"#E5ECF6\",\"width\":0.5},\"pattern\":{\"fillmode\":\"overlay\",\"size\":10,\"solidity\":0.2}},\"type\":\"bar\"}],\"barpolar\":[{\"marker\":{\"line\":{\"color\":\"#E5ECF6\",\"width\":0.5},\"pattern\":{\"fillmode\":\"overlay\",\"size\":10,\"solidity\":0.2}},\"type\":\"barpolar\"}],\"carpet\":[{\"aaxis\":{\"endlinecolor\":\"#2a3f5f\",\"gridcolor\":\"white\",\"linecolor\":\"white\",\"minorgridcolor\":\"white\",\"startlinecolor\":\"#2a3f5f\"},\"baxis\":{\"endlinecolor\":\"#2a3f5f\",\"gridcolor\":\"white\",\"linecolor\":\"white\",\"minorgridcolor\":\"white\",\"startlinecolor\":\"#2a3f5f\"},\"type\":\"carpet\"}],\"choropleth\":[{\"colorbar\":{\"outlinewidth\":0,\"ticks\":\"\"},\"type\":\"choropleth\"}],\"contour\":[{\"colorbar\":{\"outlinewidth\":0,\"ticks\":\"\"},\"colorscale\":[[0.0,\"#0d0887\"],[0.1111111111111111,\"#46039f\"],[0.2222222222222222,\"#7201a8\"],[0.3333333333333333,\"#9c179e\"],[0.4444444444444444,\"#bd3786\"],[0.5555555555555556,\"#d8576b\"],[0.6666666666666666,\"#ed7953\"],[0.7777777777777778,\"#fb9f3a\"],[0.8888888888888888,\"#fdca26\"],[1.0,\"#f0f921\"]],\"type\":\"contour\"}],\"contourcarpet\":[{\"colorbar\":{\"outlinewidth\":0,\"ticks\":\"\"},\"type\":\"contourcarpet\"}],\"heatmap\":[{\"colorbar\":{\"outlinewidth\":0,\"ticks\":\"\"},\"colorscale\":[[0.0,\"#0d0887\"],[0.1111111111111111,\"#46039f\"],[0.2222222222222222,\"#7201a8\"],[0.3333333333333333,\"#9c179e\"],[0.4444444444444444,\"#bd3786\"],[0.5555555555555556,\"#d8576b\"],[0.6666666666666666,\"#ed7953\"],[0.7777777777777778,\"#fb9f3a\"],[0.8888888888888888,\"#fdca26\"],[1.0,\"#f0f921\"]],\"type\":\"heatmap\"}],\"heatmapgl\":[{\"colorbar\":{\"outlinewidth\":0,\"ticks\":\"\"},\"colorscale\":[[0.0,\"#0d0887\"],[0.1111111111111111,\"#46039f\"],[0.2222222222222222,\"#7201a8\"],[0.3333333333333333,\"#9c179e\"],[0.4444444444444444,\"#bd3786\"],[0.5555555555555556,\"#d8576b\"],[0.6666666666666666,\"#ed7953\"],[0.7777777777777778,\"#fb9f3a\"],[0.8888888888888888,\"#fdca26\"],[1.0,\"#f0f921\"]],\"type\":\"heatmapgl\"}],\"histogram\":[{\"marker\":{\"pattern\":{\"fillmode\":\"overlay\",\"size\":10,\"solidity\":0.2}},\"type\":\"histogram\"}],\"histogram2d\":[{\"colorbar\":{\"outlinewidth\":0,\"ticks\":\"\"},\"colorscale\":[[0.0,\"#0d0887\"],[0.1111111111111111,\"#46039f\"],[0.2222222222222222,\"#7201a8\"],[0.3333333333333333,\"#9c179e\"],[0.4444444444444444,\"#bd3786\"],[0.5555555555555556,\"#d8576b\"],[0.6666666666666666,\"#ed7953\"],[0.7777777777777778,\"#fb9f3a\"],[0.8888888888888888,\"#fdca26\"],[1.0,\"#f0f921\"]],\"type\":\"histogram2d\"}],\"histogram2dcontour\":[{\"colorbar\":{\"outlinewidth\":0,\"ticks\":\"\"},\"colorscale\":[[0.0,\"#0d0887\"],[0.1111111111111111,\"#46039f\"],[0.2222222222222222,\"#7201a8\"],[0.3333333333333333,\"#9c179e\"],[0.4444444444444444,\"#bd3786\"],[0.5555555555555556,\"#d8576b\"],[0.6666666666666666,\"#ed7953\"],[0.7777777777777778,\"#fb9f3a\"],[0.8888888888888888,\"#fdca26\"],[1.0,\"#f0f921\"]],\"type\":\"histogram2dcontour\"}],\"mesh3d\":[{\"colorbar\":{\"outlinewidth\":0,\"ticks\":\"\"},\"type\":\"mesh3d\"}],\"parcoords\":[{\"line\":{\"colorbar\":{\"outlinewidth\":0,\"ticks\":\"\"}},\"type\":\"parcoords\"}],\"pie\":[{\"automargin\":true,\"type\":\"pie\"}],\"scatter\":[{\"marker\":{\"colorbar\":{\"outlinewidth\":0,\"ticks\":\"\"}},\"type\":\"scatter\"}],\"scatter3d\":[{\"line\":{\"colorbar\":{\"outlinewidth\":0,\"ticks\":\"\"}},\"marker\":{\"colorbar\":{\"outlinewidth\":0,\"ticks\":\"\"}},\"type\":\"scatter3d\"}],\"scattercarpet\":[{\"marker\":{\"colorbar\":{\"outlinewidth\":0,\"ticks\":\"\"}},\"type\":\"scattercarpet\"}],\"scattergeo\":[{\"marker\":{\"colorbar\":{\"outlinewidth\":0,\"ticks\":\"\"}},\"type\":\"scattergeo\"}],\"scattergl\":[{\"marker\":{\"colorbar\":{\"outlinewidth\":0,\"ticks\":\"\"}},\"type\":\"scattergl\"}],\"scattermapbox\":[{\"marker\":{\"colorbar\":{\"outlinewidth\":0,\"ticks\":\"\"}},\"type\":\"scattermapbox\"}],\"scatterpolar\":[{\"marker\":{\"colorbar\":{\"outlinewidth\":0,\"ticks\":\"\"}},\"type\":\"scatterpolar\"}],\"scatterpolargl\":[{\"marker\":{\"colorbar\":{\"outlinewidth\":0,\"ticks\":\"\"}},\"type\":\"scatterpolargl\"}],\"scatterternary\":[{\"marker\":{\"colorbar\":{\"outlinewidth\":0,\"ticks\":\"\"}},\"type\":\"scatterternary\"}],\"surface\":[{\"colorbar\":{\"outlinewidth\":0,\"ticks\":\"\"},\"colorscale\":[[0.0,\"#0d0887\"],[0.1111111111111111,\"#46039f\"],[0.2222222222222222,\"#7201a8\"],[0.3333333333333333,\"#9c179e\"],[0.4444444444444444,\"#bd3786\"],[0.5555555555555556,\"#d8576b\"],[0.6666666666666666,\"#ed7953\"],[0.7777777777777778,\"#fb9f3a\"],[0.8888888888888888,\"#fdca26\"],[1.0,\"#f0f921\"]],\"type\":\"surface\"}],\"table\":[{\"cells\":{\"fill\":{\"color\":\"#EBF0F8\"},\"line\":{\"color\":\"white\"}},\"header\":{\"fill\":{\"color\":\"#C8D4E3\"},\"line\":{\"color\":\"white\"}},\"type\":\"table\"}]},\"layout\":{\"annotationdefaults\":{\"arrowcolor\":\"#2a3f5f\",\"arrowhead\":0,\"arrowwidth\":1},\"autotypenumbers\":\"strict\",\"coloraxis\":{\"colorbar\":{\"outlinewidth\":0,\"ticks\":\"\"}},\"colorscale\":{\"diverging\":[[0,\"#8e0152\"],[0.1,\"#c51b7d\"],[0.2,\"#de77ae\"],[0.3,\"#f1b6da\"],[0.4,\"#fde0ef\"],[0.5,\"#f7f7f7\"],[0.6,\"#e6f5d0\"],[0.7,\"#b8e186\"],[0.8,\"#7fbc41\"],[0.9,\"#4d9221\"],[1,\"#276419\"]],\"sequential\":[[0.0,\"#0d0887\"],[0.1111111111111111,\"#46039f\"],[0.2222222222222222,\"#7201a8\"],[0.3333333333333333,\"#9c179e\"],[0.4444444444444444,\"#bd3786\"],[0.5555555555555556,\"#d8576b\"],[0.6666666666666666,\"#ed7953\"],[0.7777777777777778,\"#fb9f3a\"],[0.8888888888888888,\"#fdca26\"],[1.0,\"#f0f921\"]],\"sequentialminus\":[[0.0,\"#0d0887\"],[0.1111111111111111,\"#46039f\"],[0.2222222222222222,\"#7201a8\"],[0.3333333333333333,\"#9c179e\"],[0.4444444444444444,\"#bd3786\"],[0.5555555555555556,\"#d8576b\"],[0.6666666666666666,\"#ed7953\"],[0.7777777777777778,\"#fb9f3a\"],[0.8888888888888888,\"#fdca26\"],[1.0,\"#f0f921\"]]},\"colorway\":[\"#636efa\",\"#EF553B\",\"#00cc96\",\"#ab63fa\",\"#FFA15A\",\"#19d3f3\",\"#FF6692\",\"#B6E880\",\"#FF97FF\",\"#FECB52\"],\"font\":{\"color\":\"#2a3f5f\"},\"geo\":{\"bgcolor\":\"white\",\"lakecolor\":\"white\",\"landcolor\":\"#E5ECF6\",\"showlakes\":true,\"showland\":true,\"subunitcolor\":\"white\"},\"hoverlabel\":{\"align\":\"left\"},\"hovermode\":\"closest\",\"mapbox\":{\"style\":\"light\"},\"paper_bgcolor\":\"white\",\"plot_bgcolor\":\"#E5ECF6\",\"polar\":{\"angularaxis\":{\"gridcolor\":\"white\",\"linecolor\":\"white\",\"ticks\":\"\"},\"bgcolor\":\"#E5ECF6\",\"radialaxis\":{\"gridcolor\":\"white\",\"linecolor\":\"white\",\"ticks\":\"\"}},\"scene\":{\"xaxis\":{\"backgroundcolor\":\"#E5ECF6\",\"gridcolor\":\"white\",\"gridwidth\":2,\"linecolor\":\"white\",\"showbackground\":true,\"ticks\":\"\",\"zerolinecolor\":\"white\"},\"yaxis\":{\"backgroundcolor\":\"#E5ECF6\",\"gridcolor\":\"white\",\"gridwidth\":2,\"linecolor\":\"white\",\"showbackground\":true,\"ticks\":\"\",\"zerolinecolor\":\"white\"},\"zaxis\":{\"backgroundcolor\":\"#E5ECF6\",\"gridcolor\":\"white\",\"gridwidth\":2,\"linecolor\":\"white\",\"showbackground\":true,\"ticks\":\"\",\"zerolinecolor\":\"white\"}},\"shapedefaults\":{\"line\":{\"color\":\"#2a3f5f\"}},\"ternary\":{\"aaxis\":{\"gridcolor\":\"white\",\"linecolor\":\"white\",\"ticks\":\"\"},\"baxis\":{\"gridcolor\":\"white\",\"linecolor\":\"white\",\"ticks\":\"\"},\"bgcolor\":\"#E5ECF6\",\"caxis\":{\"gridcolor\":\"white\",\"linecolor\":\"white\",\"ticks\":\"\"}},\"title\":{\"x\":0.05},\"xaxis\":{\"automargin\":true,\"gridcolor\":\"white\",\"linecolor\":\"white\",\"ticks\":\"\",\"title\":{\"standoff\":15},\"zerolinecolor\":\"white\",\"zerolinewidth\":2},\"yaxis\":{\"automargin\":true,\"gridcolor\":\"white\",\"linecolor\":\"white\",\"ticks\":\"\",\"title\":{\"standoff\":15},\"zerolinecolor\":\"white\",\"zerolinewidth\":2}}}},                        {\"responsive\": true}                    ).then(function(){\n",
       "                            \n",
       "var gd = document.getElementById('099a01e3-f766-4f44-966e-7c708b0f7d03');\n",
       "var x = new MutationObserver(function (mutations, observer) {{\n",
       "        var display = window.getComputedStyle(gd).display;\n",
       "        if (!display || display === 'none') {{\n",
       "            console.log([gd, 'removed!']);\n",
       "            Plotly.purge(gd);\n",
       "            observer.disconnect();\n",
       "        }}\n",
       "}});\n",
       "\n",
       "// Listen for the removal of the full notebook cells\n",
       "var notebookContainer = gd.closest('#notebook-container');\n",
       "if (notebookContainer) {{\n",
       "    x.observe(notebookContainer, {childList: true});\n",
       "}}\n",
       "\n",
       "// Listen for the clearing of the current output cell\n",
       "var outputEl = gd.closest('.output');\n",
       "if (outputEl) {{\n",
       "    x.observe(outputEl, {childList: true});\n",
       "}}\n",
       "\n",
       "                        })                };                });            </script>        </div>"
      ]
     },
     "metadata": {},
     "output_type": "display_data"
    }
   ],
   "source": [
    "dg = pd.DataFrame(dict( #gerando dicionário\n",
    "    r=[1,5,2,2,3],\n",
    "    theta=['a','b','c','d','e']))\n",
    "fig = px.line_polar(dg, r = 'r', theta = 'theta', line_close = True) #gráfico do tipo starplot\n",
    "fig.update_traces(fill = 'toself')\n",
    "fig.show()"
   ]
  },
  {
   "cell_type": "code",
   "execution_count": 19,
   "id": "9d3216b9-bb5c-421b-b766-769301659808",
   "metadata": {},
   "outputs": [
    {
     "data": {
      "text/html": [
       "<div>\n",
       "<style scoped>\n",
       "    .dataframe tbody tr th:only-of-type {\n",
       "        vertical-align: middle;\n",
       "    }\n",
       "\n",
       "    .dataframe tbody tr th {\n",
       "        vertical-align: top;\n",
       "    }\n",
       "\n",
       "    .dataframe thead th {\n",
       "        text-align: right;\n",
       "    }\n",
       "</style>\n",
       "<table border=\"1\" class=\"dataframe\">\n",
       "  <thead>\n",
       "    <tr style=\"text-align: right;\">\n",
       "      <th></th>\n",
       "      <th>idade</th>\n",
       "      <th>sexo</th>\n",
       "      <th>peso</th>\n",
       "      <th>manchas</th>\n",
       "      <th>temperatura</th>\n",
       "      <th>internacoes</th>\n",
       "      <th>estado</th>\n",
       "      <th>diagnostico</th>\n",
       "    </tr>\n",
       "  </thead>\n",
       "  <tbody>\n",
       "    <tr>\n",
       "      <th>0</th>\n",
       "      <td>28</td>\n",
       "      <td>M</td>\n",
       "      <td>67</td>\n",
       "      <td>Concentradas</td>\n",
       "      <td>38.0</td>\n",
       "      <td>2</td>\n",
       "      <td>SP</td>\n",
       "      <td>Doente</td>\n",
       "    </tr>\n",
       "    <tr>\n",
       "      <th>1</th>\n",
       "      <td>18</td>\n",
       "      <td>F</td>\n",
       "      <td>67</td>\n",
       "      <td>Inexistentes</td>\n",
       "      <td>39.5</td>\n",
       "      <td>4</td>\n",
       "      <td>MG</td>\n",
       "      <td>Saudavel</td>\n",
       "    </tr>\n",
       "    <tr>\n",
       "      <th>2</th>\n",
       "      <td>49</td>\n",
       "      <td>M</td>\n",
       "      <td>500</td>\n",
       "      <td>Espalhadas</td>\n",
       "      <td>38.0</td>\n",
       "      <td>2</td>\n",
       "      <td>RS</td>\n",
       "      <td>Doente</td>\n",
       "    </tr>\n",
       "    <tr>\n",
       "      <th>3</th>\n",
       "      <td>18</td>\n",
       "      <td>M</td>\n",
       "      <td>43</td>\n",
       "      <td>Inexistentes</td>\n",
       "      <td>38.5</td>\n",
       "      <td>8</td>\n",
       "      <td>MG</td>\n",
       "      <td>Saudavel</td>\n",
       "    </tr>\n",
       "    <tr>\n",
       "      <th>4</th>\n",
       "      <td>21</td>\n",
       "      <td>F</td>\n",
       "      <td>52</td>\n",
       "      <td>Uniformes</td>\n",
       "      <td>38.5</td>\n",
       "      <td>1</td>\n",
       "      <td>PE</td>\n",
       "      <td>Doente</td>\n",
       "    </tr>\n",
       "    <tr>\n",
       "      <th>5</th>\n",
       "      <td>21</td>\n",
       "      <td>F</td>\n",
       "      <td>52</td>\n",
       "      <td>Uniformes</td>\n",
       "      <td>38.5</td>\n",
       "      <td>1</td>\n",
       "      <td>PE</td>\n",
       "      <td>Saudavel</td>\n",
       "    </tr>\n",
       "    <tr>\n",
       "      <th>6</th>\n",
       "      <td>22</td>\n",
       "      <td>F</td>\n",
       "      <td>72</td>\n",
       "      <td>Inexistentes</td>\n",
       "      <td>58.0</td>\n",
       "      <td>3</td>\n",
       "      <td>RJ</td>\n",
       "      <td>Doente</td>\n",
       "    </tr>\n",
       "    <tr>\n",
       "      <th>7</th>\n",
       "      <td>22</td>\n",
       "      <td>F</td>\n",
       "      <td>72</td>\n",
       "      <td>Inexistentes</td>\n",
       "      <td>58.0</td>\n",
       "      <td>3</td>\n",
       "      <td>RJ</td>\n",
       "      <td>Doente</td>\n",
       "    </tr>\n",
       "    <tr>\n",
       "      <th>8</th>\n",
       "      <td>22</td>\n",
       "      <td>F</td>\n",
       "      <td>72</td>\n",
       "      <td>Inexistentes</td>\n",
       "      <td>58.0</td>\n",
       "      <td>3</td>\n",
       "      <td>RJ</td>\n",
       "      <td>Doente</td>\n",
       "    </tr>\n",
       "    <tr>\n",
       "      <th>9</th>\n",
       "      <td>19</td>\n",
       "      <td>F</td>\n",
       "      <td>87</td>\n",
       "      <td>Espalhadas</td>\n",
       "      <td>39.0</td>\n",
       "      <td>6</td>\n",
       "      <td>AM</td>\n",
       "      <td>Saudavel</td>\n",
       "    </tr>\n",
       "    <tr>\n",
       "      <th>10</th>\n",
       "      <td>34</td>\n",
       "      <td>M</td>\n",
       "      <td>67</td>\n",
       "      <td>Uniformes</td>\n",
       "      <td>38.4</td>\n",
       "      <td>2</td>\n",
       "      <td>GO</td>\n",
       "      <td>Saudavel</td>\n",
       "    </tr>\n",
       "  </tbody>\n",
       "</table>\n",
       "</div>"
      ],
      "text/plain": [
       "    idade sexo  peso       manchas  temperatura  internacoes estado  \\\n",
       "0      28    M    67  Concentradas         38.0            2     SP   \n",
       "1      18    F    67  Inexistentes         39.5            4     MG   \n",
       "2      49    M   500    Espalhadas         38.0            2     RS   \n",
       "3      18    M    43  Inexistentes         38.5            8     MG   \n",
       "4      21    F    52     Uniformes         38.5            1     PE   \n",
       "5      21    F    52     Uniformes         38.5            1     PE   \n",
       "6      22    F    72  Inexistentes         58.0            3     RJ   \n",
       "7      22    F    72  Inexistentes         58.0            3     RJ   \n",
       "8      22    F    72  Inexistentes         58.0            3     RJ   \n",
       "9      19    F    87    Espalhadas         39.0            6     AM   \n",
       "10     34    M    67     Uniformes         38.4            2     GO   \n",
       "\n",
       "   diagnostico  \n",
       "0       Doente  \n",
       "1     Saudavel  \n",
       "2       Doente  \n",
       "3     Saudavel  \n",
       "4       Doente  \n",
       "5     Saudavel  \n",
       "6       Doente  \n",
       "7       Doente  \n",
       "8       Doente  \n",
       "9     Saudavel  \n",
       "10    Saudavel  "
      ]
     },
     "execution_count": 19,
     "metadata": {},
     "output_type": "execute_result"
    }
   ],
   "source": [
    "df.drop(columns=['identificador','nome']) #excluir as colunas 'identificador' e 'nome'"
   ]
  },
  {
   "cell_type": "code",
   "execution_count": 20,
   "id": "bb1ac851-780b-48f0-b808-9b4231c72094",
   "metadata": {},
   "outputs": [
    {
     "data": {
      "text/html": [
       "<div>\n",
       "<style scoped>\n",
       "    .dataframe tbody tr th:only-of-type {\n",
       "        vertical-align: middle;\n",
       "    }\n",
       "\n",
       "    .dataframe tbody tr th {\n",
       "        vertical-align: top;\n",
       "    }\n",
       "\n",
       "    .dataframe thead th {\n",
       "        text-align: right;\n",
       "    }\n",
       "</style>\n",
       "<table border=\"1\" class=\"dataframe\">\n",
       "  <thead>\n",
       "    <tr style=\"text-align: right;\">\n",
       "      <th></th>\n",
       "      <th>identificador</th>\n",
       "      <th>nome</th>\n",
       "      <th>idade</th>\n",
       "      <th>sexo</th>\n",
       "      <th>peso</th>\n",
       "      <th>manchas</th>\n",
       "      <th>temperatura</th>\n",
       "      <th>internacoes</th>\n",
       "      <th>estado</th>\n",
       "      <th>diagnostico</th>\n",
       "    </tr>\n",
       "  </thead>\n",
       "  <tbody>\n",
       "    <tr>\n",
       "      <th>7</th>\n",
       "      <td>2301</td>\n",
       "      <td>Ana</td>\n",
       "      <td>22</td>\n",
       "      <td>F</td>\n",
       "      <td>72</td>\n",
       "      <td>Inexistentes</td>\n",
       "      <td>58.0</td>\n",
       "      <td>3</td>\n",
       "      <td>RJ</td>\n",
       "      <td>Doente</td>\n",
       "    </tr>\n",
       "    <tr>\n",
       "      <th>2</th>\n",
       "      <td>4039</td>\n",
       "      <td>Luiz</td>\n",
       "      <td>49</td>\n",
       "      <td>M</td>\n",
       "      <td>500</td>\n",
       "      <td>Espalhadas</td>\n",
       "      <td>38.0</td>\n",
       "      <td>2</td>\n",
       "      <td>RS</td>\n",
       "      <td>Doente</td>\n",
       "    </tr>\n",
       "    <tr>\n",
       "      <th>6</th>\n",
       "      <td>2301</td>\n",
       "      <td>Ana</td>\n",
       "      <td>22</td>\n",
       "      <td>F</td>\n",
       "      <td>72</td>\n",
       "      <td>Inexistentes</td>\n",
       "      <td>58.0</td>\n",
       "      <td>3</td>\n",
       "      <td>RJ</td>\n",
       "      <td>Doente</td>\n",
       "    </tr>\n",
       "    <tr>\n",
       "      <th>4</th>\n",
       "      <td>4340</td>\n",
       "      <td>Claudia</td>\n",
       "      <td>21</td>\n",
       "      <td>F</td>\n",
       "      <td>52</td>\n",
       "      <td>Uniformes</td>\n",
       "      <td>38.5</td>\n",
       "      <td>1</td>\n",
       "      <td>PE</td>\n",
       "      <td>Doente</td>\n",
       "    </tr>\n",
       "  </tbody>\n",
       "</table>\n",
       "</div>"
      ],
      "text/plain": [
       "   identificador     nome  idade sexo  peso       manchas  temperatura  \\\n",
       "7           2301      Ana     22    F    72  Inexistentes         58.0   \n",
       "2           4039     Luiz     49    M   500    Espalhadas         38.0   \n",
       "6           2301      Ana     22    F    72  Inexistentes         58.0   \n",
       "4           4340  Claudia     21    F    52     Uniformes         38.5   \n",
       "\n",
       "   internacoes estado diagnostico  \n",
       "7            3     RJ      Doente  \n",
       "2            2     RS      Doente  \n",
       "6            3     RJ      Doente  \n",
       "4            1     PE      Doente  "
      ]
     },
     "execution_count": 20,
     "metadata": {},
     "output_type": "execute_result"
    }
   ],
   "source": [
    "df.loc[df['diagnostico'] == \"Doente\"].sample(n=4, random_state =2) #gerando uma amostra aleatória com 4 elementos"
   ]
  },
  {
   "cell_type": "code",
   "execution_count": 21,
   "id": "771a4ce0-2482-4802-b6de-959d0798e1c7",
   "metadata": {},
   "outputs": [
    {
     "name": "stdout",
     "output_type": "stream",
     "text": [
      "Valores faltantes: identificador    0\n",
      "nome             0\n",
      "idade            0\n",
      "sexo             0\n",
      "peso             0\n",
      "manchas          0\n",
      "temperatura      0\n",
      "internacoes      0\n",
      "estado           0\n",
      "diagnostico      0\n",
      "dtype: int64\n"
     ]
    }
   ],
   "source": [
    "print('Valores faltantes:', df.isnull().sum()) #quantidade de valores faltantes para todos os atributos"
   ]
  },
  {
   "cell_type": "code",
   "execution_count": 22,
   "id": "512d72b9-540f-46e4-b2e4-da621e4a625a",
   "metadata": {},
   "outputs": [
    {
     "name": "stdout",
     "output_type": "stream",
     "text": [
      "Valores duplicados: 0     False\n",
      "1     False\n",
      "2     False\n",
      "3     False\n",
      "4     False\n",
      "5     False\n",
      "6     False\n",
      "7      True\n",
      "8      True\n",
      "9     False\n",
      "10    False\n",
      "dtype: bool\n"
     ]
    }
   ],
   "source": [
    "print('Valores duplicados:', df.duplicated()) #quantidade de valores duplicados para todos os atributos"
   ]
  },
  {
   "cell_type": "code",
   "execution_count": 23,
   "id": "639cfb26-e19d-4966-9c7d-3b61ce65841e",
   "metadata": {},
   "outputs": [
    {
     "data": {
      "text/html": [
       "<div>\n",
       "<style scoped>\n",
       "    .dataframe tbody tr th:only-of-type {\n",
       "        vertical-align: middle;\n",
       "    }\n",
       "\n",
       "    .dataframe tbody tr th {\n",
       "        vertical-align: top;\n",
       "    }\n",
       "\n",
       "    .dataframe thead th {\n",
       "        text-align: right;\n",
       "    }\n",
       "</style>\n",
       "<table border=\"1\" class=\"dataframe\">\n",
       "  <thead>\n",
       "    <tr style=\"text-align: right;\">\n",
       "      <th></th>\n",
       "      <th>identificador</th>\n",
       "      <th>nome</th>\n",
       "      <th>idade</th>\n",
       "      <th>sexo</th>\n",
       "      <th>peso</th>\n",
       "      <th>manchas</th>\n",
       "      <th>temperatura</th>\n",
       "      <th>internacoes</th>\n",
       "      <th>estado</th>\n",
       "      <th>diagnostico</th>\n",
       "    </tr>\n",
       "  </thead>\n",
       "  <tbody>\n",
       "    <tr>\n",
       "      <th>0</th>\n",
       "      <td>4201</td>\n",
       "      <td>Joao</td>\n",
       "      <td>28</td>\n",
       "      <td>M</td>\n",
       "      <td>67</td>\n",
       "      <td>Concentradas</td>\n",
       "      <td>38.0</td>\n",
       "      <td>2</td>\n",
       "      <td>SP</td>\n",
       "      <td>Doente</td>\n",
       "    </tr>\n",
       "    <tr>\n",
       "      <th>1</th>\n",
       "      <td>3217</td>\n",
       "      <td>Maria</td>\n",
       "      <td>18</td>\n",
       "      <td>F</td>\n",
       "      <td>67</td>\n",
       "      <td>Inexistentes</td>\n",
       "      <td>39.5</td>\n",
       "      <td>4</td>\n",
       "      <td>MG</td>\n",
       "      <td>Saudavel</td>\n",
       "    </tr>\n",
       "    <tr>\n",
       "      <th>2</th>\n",
       "      <td>4039</td>\n",
       "      <td>Luiz</td>\n",
       "      <td>49</td>\n",
       "      <td>M</td>\n",
       "      <td>500</td>\n",
       "      <td>Espalhadas</td>\n",
       "      <td>38.0</td>\n",
       "      <td>2</td>\n",
       "      <td>RS</td>\n",
       "      <td>Doente</td>\n",
       "    </tr>\n",
       "    <tr>\n",
       "      <th>3</th>\n",
       "      <td>1920</td>\n",
       "      <td>Jose</td>\n",
       "      <td>18</td>\n",
       "      <td>M</td>\n",
       "      <td>43</td>\n",
       "      <td>Inexistentes</td>\n",
       "      <td>38.5</td>\n",
       "      <td>8</td>\n",
       "      <td>MG</td>\n",
       "      <td>Saudavel</td>\n",
       "    </tr>\n",
       "    <tr>\n",
       "      <th>4</th>\n",
       "      <td>4340</td>\n",
       "      <td>Claudia</td>\n",
       "      <td>21</td>\n",
       "      <td>F</td>\n",
       "      <td>52</td>\n",
       "      <td>Uniformes</td>\n",
       "      <td>38.5</td>\n",
       "      <td>1</td>\n",
       "      <td>PE</td>\n",
       "      <td>Doente</td>\n",
       "    </tr>\n",
       "    <tr>\n",
       "      <th>5</th>\n",
       "      <td>4340</td>\n",
       "      <td>Claudia</td>\n",
       "      <td>21</td>\n",
       "      <td>F</td>\n",
       "      <td>52</td>\n",
       "      <td>Uniformes</td>\n",
       "      <td>38.5</td>\n",
       "      <td>1</td>\n",
       "      <td>PE</td>\n",
       "      <td>Saudavel</td>\n",
       "    </tr>\n",
       "    <tr>\n",
       "      <th>6</th>\n",
       "      <td>2301</td>\n",
       "      <td>Ana</td>\n",
       "      <td>22</td>\n",
       "      <td>F</td>\n",
       "      <td>72</td>\n",
       "      <td>Inexistentes</td>\n",
       "      <td>58.0</td>\n",
       "      <td>3</td>\n",
       "      <td>RJ</td>\n",
       "      <td>Doente</td>\n",
       "    </tr>\n",
       "    <tr>\n",
       "      <th>7</th>\n",
       "      <td>2301</td>\n",
       "      <td>Ana</td>\n",
       "      <td>22</td>\n",
       "      <td>F</td>\n",
       "      <td>72</td>\n",
       "      <td>Inexistentes</td>\n",
       "      <td>58.0</td>\n",
       "      <td>3</td>\n",
       "      <td>RJ</td>\n",
       "      <td>Doente</td>\n",
       "    </tr>\n",
       "    <tr>\n",
       "      <th>8</th>\n",
       "      <td>2301</td>\n",
       "      <td>Ana</td>\n",
       "      <td>22</td>\n",
       "      <td>F</td>\n",
       "      <td>72</td>\n",
       "      <td>Inexistentes</td>\n",
       "      <td>58.0</td>\n",
       "      <td>3</td>\n",
       "      <td>RJ</td>\n",
       "      <td>Doente</td>\n",
       "    </tr>\n",
       "    <tr>\n",
       "      <th>9</th>\n",
       "      <td>1322</td>\n",
       "      <td>Marta</td>\n",
       "      <td>19</td>\n",
       "      <td>F</td>\n",
       "      <td>87</td>\n",
       "      <td>Espalhadas</td>\n",
       "      <td>39.0</td>\n",
       "      <td>6</td>\n",
       "      <td>AM</td>\n",
       "      <td>Saudavel</td>\n",
       "    </tr>\n",
       "    <tr>\n",
       "      <th>10</th>\n",
       "      <td>3027</td>\n",
       "      <td>Paulo</td>\n",
       "      <td>34</td>\n",
       "      <td>M</td>\n",
       "      <td>67</td>\n",
       "      <td>Uniformes</td>\n",
       "      <td>38.4</td>\n",
       "      <td>2</td>\n",
       "      <td>GO</td>\n",
       "      <td>Saudavel</td>\n",
       "    </tr>\n",
       "  </tbody>\n",
       "</table>\n",
       "</div>"
      ],
      "text/plain": [
       "    identificador     nome  idade sexo  peso       manchas  temperatura  \\\n",
       "0            4201     Joao     28    M    67  Concentradas         38.0   \n",
       "1            3217    Maria     18    F    67  Inexistentes         39.5   \n",
       "2            4039     Luiz     49    M   500    Espalhadas         38.0   \n",
       "3            1920     Jose     18    M    43  Inexistentes         38.5   \n",
       "4            4340  Claudia     21    F    52     Uniformes         38.5   \n",
       "5            4340  Claudia     21    F    52     Uniformes         38.5   \n",
       "6            2301      Ana     22    F    72  Inexistentes         58.0   \n",
       "7            2301      Ana     22    F    72  Inexistentes         58.0   \n",
       "8            2301      Ana     22    F    72  Inexistentes         58.0   \n",
       "9            1322    Marta     19    F    87    Espalhadas         39.0   \n",
       "10           3027    Paulo     34    M    67     Uniformes         38.4   \n",
       "\n",
       "    internacoes estado diagnostico  \n",
       "0             2     SP      Doente  \n",
       "1             4     MG    Saudavel  \n",
       "2             2     RS      Doente  \n",
       "3             8     MG    Saudavel  \n",
       "4             1     PE      Doente  \n",
       "5             1     PE    Saudavel  \n",
       "6             3     RJ      Doente  \n",
       "7             3     RJ      Doente  \n",
       "8             3     RJ      Doente  \n",
       "9             6     AM    Saudavel  \n",
       "10            2     GO    Saudavel  "
      ]
     },
     "execution_count": 23,
     "metadata": {},
     "output_type": "execute_result"
    }
   ],
   "source": [
    "median = df['peso'].median()\n",
    "df['peso'].fillna(median, inplace = True) #subtitui os elementos faltosos pela mediana\n",
    "df"
   ]
  },
  {
   "cell_type": "code",
   "execution_count": 24,
   "id": "f6cc074c-8c81-453f-ba70-35a495ad1b37",
   "metadata": {},
   "outputs": [
    {
     "data": {
      "text/html": [
       "<div>\n",
       "<style scoped>\n",
       "    .dataframe tbody tr th:only-of-type {\n",
       "        vertical-align: middle;\n",
       "    }\n",
       "\n",
       "    .dataframe tbody tr th {\n",
       "        vertical-align: top;\n",
       "    }\n",
       "\n",
       "    .dataframe thead th {\n",
       "        text-align: right;\n",
       "    }\n",
       "</style>\n",
       "<table border=\"1\" class=\"dataframe\">\n",
       "  <thead>\n",
       "    <tr style=\"text-align: right;\">\n",
       "      <th></th>\n",
       "      <th>identificador</th>\n",
       "      <th>nome</th>\n",
       "      <th>idade</th>\n",
       "      <th>sexo</th>\n",
       "      <th>peso</th>\n",
       "      <th>manchas</th>\n",
       "      <th>temperatura</th>\n",
       "      <th>internacoes</th>\n",
       "      <th>estado</th>\n",
       "      <th>diagnostico</th>\n",
       "    </tr>\n",
       "  </thead>\n",
       "  <tbody>\n",
       "    <tr>\n",
       "      <th>0</th>\n",
       "      <td>4201</td>\n",
       "      <td>Joao</td>\n",
       "      <td>28</td>\n",
       "      <td>M</td>\n",
       "      <td>67</td>\n",
       "      <td>Concentradas</td>\n",
       "      <td>38.0</td>\n",
       "      <td>2</td>\n",
       "      <td>SP</td>\n",
       "      <td>Doente</td>\n",
       "    </tr>\n",
       "    <tr>\n",
       "      <th>1</th>\n",
       "      <td>3217</td>\n",
       "      <td>Maria</td>\n",
       "      <td>18</td>\n",
       "      <td>F</td>\n",
       "      <td>67</td>\n",
       "      <td>Inexistentes</td>\n",
       "      <td>39.5</td>\n",
       "      <td>4</td>\n",
       "      <td>MG</td>\n",
       "      <td>Saudavel</td>\n",
       "    </tr>\n",
       "    <tr>\n",
       "      <th>2</th>\n",
       "      <td>4039</td>\n",
       "      <td>Luiz</td>\n",
       "      <td>49</td>\n",
       "      <td>M</td>\n",
       "      <td>500</td>\n",
       "      <td>Espalhadas</td>\n",
       "      <td>38.0</td>\n",
       "      <td>2</td>\n",
       "      <td>RS</td>\n",
       "      <td>Doente</td>\n",
       "    </tr>\n",
       "    <tr>\n",
       "      <th>3</th>\n",
       "      <td>1920</td>\n",
       "      <td>Jose</td>\n",
       "      <td>18</td>\n",
       "      <td>M</td>\n",
       "      <td>43</td>\n",
       "      <td>Inexistentes</td>\n",
       "      <td>38.5</td>\n",
       "      <td>8</td>\n",
       "      <td>MG</td>\n",
       "      <td>Saudavel</td>\n",
       "    </tr>\n",
       "    <tr>\n",
       "      <th>4</th>\n",
       "      <td>4340</td>\n",
       "      <td>Claudia</td>\n",
       "      <td>21</td>\n",
       "      <td>F</td>\n",
       "      <td>52</td>\n",
       "      <td>Uniformes</td>\n",
       "      <td>38.5</td>\n",
       "      <td>1</td>\n",
       "      <td>PE</td>\n",
       "      <td>Doente</td>\n",
       "    </tr>\n",
       "    <tr>\n",
       "      <th>5</th>\n",
       "      <td>4340</td>\n",
       "      <td>Claudia</td>\n",
       "      <td>21</td>\n",
       "      <td>F</td>\n",
       "      <td>52</td>\n",
       "      <td>Uniformes</td>\n",
       "      <td>38.5</td>\n",
       "      <td>1</td>\n",
       "      <td>PE</td>\n",
       "      <td>Saudavel</td>\n",
       "    </tr>\n",
       "    <tr>\n",
       "      <th>6</th>\n",
       "      <td>2301</td>\n",
       "      <td>Ana</td>\n",
       "      <td>22</td>\n",
       "      <td>F</td>\n",
       "      <td>72</td>\n",
       "      <td>Inexistentes</td>\n",
       "      <td>58.0</td>\n",
       "      <td>3</td>\n",
       "      <td>RJ</td>\n",
       "      <td>Doente</td>\n",
       "    </tr>\n",
       "    <tr>\n",
       "      <th>7</th>\n",
       "      <td>2301</td>\n",
       "      <td>Ana</td>\n",
       "      <td>22</td>\n",
       "      <td>F</td>\n",
       "      <td>72</td>\n",
       "      <td>Inexistentes</td>\n",
       "      <td>58.0</td>\n",
       "      <td>3</td>\n",
       "      <td>RJ</td>\n",
       "      <td>Doente</td>\n",
       "    </tr>\n",
       "    <tr>\n",
       "      <th>8</th>\n",
       "      <td>2301</td>\n",
       "      <td>Ana</td>\n",
       "      <td>22</td>\n",
       "      <td>F</td>\n",
       "      <td>72</td>\n",
       "      <td>Inexistentes</td>\n",
       "      <td>58.0</td>\n",
       "      <td>3</td>\n",
       "      <td>RJ</td>\n",
       "      <td>Doente</td>\n",
       "    </tr>\n",
       "    <tr>\n",
       "      <th>9</th>\n",
       "      <td>1322</td>\n",
       "      <td>Marta</td>\n",
       "      <td>19</td>\n",
       "      <td>F</td>\n",
       "      <td>87</td>\n",
       "      <td>Espalhadas</td>\n",
       "      <td>39.0</td>\n",
       "      <td>6</td>\n",
       "      <td>AM</td>\n",
       "      <td>Saudavel</td>\n",
       "    </tr>\n",
       "    <tr>\n",
       "      <th>10</th>\n",
       "      <td>3027</td>\n",
       "      <td>Paulo</td>\n",
       "      <td>34</td>\n",
       "      <td>M</td>\n",
       "      <td>67</td>\n",
       "      <td>Uniformes</td>\n",
       "      <td>38.4</td>\n",
       "      <td>2</td>\n",
       "      <td>GO</td>\n",
       "      <td>Saudavel</td>\n",
       "    </tr>\n",
       "  </tbody>\n",
       "</table>\n",
       "</div>"
      ],
      "text/plain": [
       "    identificador     nome  idade sexo  peso       manchas  temperatura  \\\n",
       "0            4201     Joao     28    M    67  Concentradas         38.0   \n",
       "1            3217    Maria     18    F    67  Inexistentes         39.5   \n",
       "2            4039     Luiz     49    M   500    Espalhadas         38.0   \n",
       "3            1920     Jose     18    M    43  Inexistentes         38.5   \n",
       "4            4340  Claudia     21    F    52     Uniformes         38.5   \n",
       "5            4340  Claudia     21    F    52     Uniformes         38.5   \n",
       "6            2301      Ana     22    F    72  Inexistentes         58.0   \n",
       "7            2301      Ana     22    F    72  Inexistentes         58.0   \n",
       "8            2301      Ana     22    F    72  Inexistentes         58.0   \n",
       "9            1322    Marta     19    F    87    Espalhadas         39.0   \n",
       "10           3027    Paulo     34    M    67     Uniformes         38.4   \n",
       "\n",
       "    internacoes estado diagnostico  \n",
       "0             2     SP      Doente  \n",
       "1             4     MG    Saudavel  \n",
       "2             2     RS      Doente  \n",
       "3             8     MG    Saudavel  \n",
       "4             1     PE      Doente  \n",
       "5             1     PE    Saudavel  \n",
       "6             3     RJ      Doente  \n",
       "7             3     RJ      Doente  \n",
       "8             3     RJ      Doente  \n",
       "9             6     AM    Saudavel  \n",
       "10            2     GO    Saudavel  "
      ]
     },
     "execution_count": 24,
     "metadata": {},
     "output_type": "execute_result"
    }
   ],
   "source": [
    "df = df.dropna(how ='any') #elimina todas as linhas com dados ausentes\n",
    "df"
   ]
  },
  {
   "cell_type": "code",
   "execution_count": 25,
   "id": "14f9a4ca-a673-4ada-952c-9223bca813fd",
   "metadata": {},
   "outputs": [
    {
     "data": {
      "text/html": [
       "<div>\n",
       "<style scoped>\n",
       "    .dataframe tbody tr th:only-of-type {\n",
       "        vertical-align: middle;\n",
       "    }\n",
       "\n",
       "    .dataframe tbody tr th {\n",
       "        vertical-align: top;\n",
       "    }\n",
       "\n",
       "    .dataframe thead th {\n",
       "        text-align: right;\n",
       "    }\n",
       "</style>\n",
       "<table border=\"1\" class=\"dataframe\">\n",
       "  <thead>\n",
       "    <tr style=\"text-align: right;\">\n",
       "      <th></th>\n",
       "      <th>identificador</th>\n",
       "      <th>nome</th>\n",
       "      <th>idade</th>\n",
       "      <th>sexo</th>\n",
       "      <th>peso</th>\n",
       "      <th>manchas</th>\n",
       "      <th>temperatura</th>\n",
       "      <th>internacoes</th>\n",
       "      <th>estado</th>\n",
       "      <th>diagnostico</th>\n",
       "    </tr>\n",
       "  </thead>\n",
       "  <tbody>\n",
       "    <tr>\n",
       "      <th>0</th>\n",
       "      <td>4201</td>\n",
       "      <td>Joao</td>\n",
       "      <td>28</td>\n",
       "      <td>M</td>\n",
       "      <td>67</td>\n",
       "      <td>Concentradas</td>\n",
       "      <td>38.0</td>\n",
       "      <td>2</td>\n",
       "      <td>SP</td>\n",
       "      <td>Doente</td>\n",
       "    </tr>\n",
       "    <tr>\n",
       "      <th>1</th>\n",
       "      <td>3217</td>\n",
       "      <td>Maria</td>\n",
       "      <td>18</td>\n",
       "      <td>F</td>\n",
       "      <td>67</td>\n",
       "      <td>Inexistentes</td>\n",
       "      <td>39.5</td>\n",
       "      <td>4</td>\n",
       "      <td>MG</td>\n",
       "      <td>Saudavel</td>\n",
       "    </tr>\n",
       "    <tr>\n",
       "      <th>2</th>\n",
       "      <td>4039</td>\n",
       "      <td>Luiz</td>\n",
       "      <td>49</td>\n",
       "      <td>M</td>\n",
       "      <td>500</td>\n",
       "      <td>Espalhadas</td>\n",
       "      <td>38.0</td>\n",
       "      <td>2</td>\n",
       "      <td>RS</td>\n",
       "      <td>Doente</td>\n",
       "    </tr>\n",
       "    <tr>\n",
       "      <th>3</th>\n",
       "      <td>1920</td>\n",
       "      <td>Jose</td>\n",
       "      <td>18</td>\n",
       "      <td>M</td>\n",
       "      <td>43</td>\n",
       "      <td>Inexistentes</td>\n",
       "      <td>38.5</td>\n",
       "      <td>8</td>\n",
       "      <td>MG</td>\n",
       "      <td>Saudavel</td>\n",
       "    </tr>\n",
       "    <tr>\n",
       "      <th>4</th>\n",
       "      <td>4340</td>\n",
       "      <td>Claudia</td>\n",
       "      <td>21</td>\n",
       "      <td>F</td>\n",
       "      <td>52</td>\n",
       "      <td>Uniformes</td>\n",
       "      <td>38.5</td>\n",
       "      <td>1</td>\n",
       "      <td>PE</td>\n",
       "      <td>Doente</td>\n",
       "    </tr>\n",
       "    <tr>\n",
       "      <th>5</th>\n",
       "      <td>4340</td>\n",
       "      <td>Claudia</td>\n",
       "      <td>21</td>\n",
       "      <td>F</td>\n",
       "      <td>52</td>\n",
       "      <td>Uniformes</td>\n",
       "      <td>38.5</td>\n",
       "      <td>1</td>\n",
       "      <td>PE</td>\n",
       "      <td>Saudavel</td>\n",
       "    </tr>\n",
       "    <tr>\n",
       "      <th>6</th>\n",
       "      <td>2301</td>\n",
       "      <td>Ana</td>\n",
       "      <td>22</td>\n",
       "      <td>F</td>\n",
       "      <td>72</td>\n",
       "      <td>Inexistentes</td>\n",
       "      <td>58.0</td>\n",
       "      <td>3</td>\n",
       "      <td>RJ</td>\n",
       "      <td>Doente</td>\n",
       "    </tr>\n",
       "    <tr>\n",
       "      <th>9</th>\n",
       "      <td>1322</td>\n",
       "      <td>Marta</td>\n",
       "      <td>19</td>\n",
       "      <td>F</td>\n",
       "      <td>87</td>\n",
       "      <td>Espalhadas</td>\n",
       "      <td>39.0</td>\n",
       "      <td>6</td>\n",
       "      <td>AM</td>\n",
       "      <td>Saudavel</td>\n",
       "    </tr>\n",
       "    <tr>\n",
       "      <th>10</th>\n",
       "      <td>3027</td>\n",
       "      <td>Paulo</td>\n",
       "      <td>34</td>\n",
       "      <td>M</td>\n",
       "      <td>67</td>\n",
       "      <td>Uniformes</td>\n",
       "      <td>38.4</td>\n",
       "      <td>2</td>\n",
       "      <td>GO</td>\n",
       "      <td>Saudavel</td>\n",
       "    </tr>\n",
       "  </tbody>\n",
       "</table>\n",
       "</div>"
      ],
      "text/plain": [
       "    identificador     nome  idade sexo  peso       manchas  temperatura  \\\n",
       "0            4201     Joao     28    M    67  Concentradas         38.0   \n",
       "1            3217    Maria     18    F    67  Inexistentes         39.5   \n",
       "2            4039     Luiz     49    M   500    Espalhadas         38.0   \n",
       "3            1920     Jose     18    M    43  Inexistentes         38.5   \n",
       "4            4340  Claudia     21    F    52     Uniformes         38.5   \n",
       "5            4340  Claudia     21    F    52     Uniformes         38.5   \n",
       "6            2301      Ana     22    F    72  Inexistentes         58.0   \n",
       "9            1322    Marta     19    F    87    Espalhadas         39.0   \n",
       "10           3027    Paulo     34    M    67     Uniformes         38.4   \n",
       "\n",
       "    internacoes estado diagnostico  \n",
       "0             2     SP      Doente  \n",
       "1             4     MG    Saudavel  \n",
       "2             2     RS      Doente  \n",
       "3             8     MG    Saudavel  \n",
       "4             1     PE      Doente  \n",
       "5             1     PE    Saudavel  \n",
       "6             3     RJ      Doente  \n",
       "9             6     AM    Saudavel  \n",
       "10            2     GO    Saudavel  "
      ]
     },
     "execution_count": 25,
     "metadata": {},
     "output_type": "execute_result"
    }
   ],
   "source": [
    "df.drop_duplicates() #elimina todas as linhas com dados duplicados"
   ]
  },
  {
   "cell_type": "code",
   "execution_count": 27,
   "id": "5be8dad9-7d98-4ebc-9aad-94f6eb5debd2",
   "metadata": {},
   "outputs": [
    {
     "name": "stdout",
     "output_type": "stream",
     "text": [
      "    identificador  nome  idade  sexo  peso  manchas  temperatura  internacoes  \\\n",
      "0            4201     2     28     1    67        0         38.0            2   \n",
      "1            3217     5     18     0    67        2         39.5            4   \n",
      "2            4039     4     49     1   500        1         38.0            2   \n",
      "3            1920     3     18     1    43        2         38.5            8   \n",
      "4            4340     1     21     0    52        3         38.5            1   \n",
      "5            4340     1     21     0    52        3         38.5            1   \n",
      "6            2301     0     22     0    72        2         58.0            3   \n",
      "7            2301     0     22     0    72        2         58.0            3   \n",
      "8            2301     0     22     0    72        2         58.0            3   \n",
      "9            1322     6     19     0    87        1         39.0            6   \n",
      "10           3027     7     34     1    67        3         38.4            2   \n",
      "\n",
      "    estado  diagnostico  \n",
      "0        6            0  \n",
      "1        2            1  \n",
      "2        5            0  \n",
      "3        2            1  \n",
      "4        3            0  \n",
      "5        3            1  \n",
      "6        4            0  \n",
      "7        4            0  \n",
      "8        4            0  \n",
      "9        0            1  \n",
      "10       1            1  \n"
     ]
    }
   ],
   "source": [
    "le = preprocessing.LabelEncoder() #transforma atributos qualitativos em quantitativos\n",
    "for column in df.columns:\n",
    "    if df[column].dtypes == 'object':\n",
    "        df[column] = le.fit_transform(df[column])\n",
    "        \n",
    "print(df)"
   ]
  },
  {
   "cell_type": "code",
   "execution_count": 28,
   "id": "7dbd9ef5-887d-43c8-aa97-b37449a75c85",
   "metadata": {},
   "outputs": [
    {
     "name": "stdout",
     "output_type": "stream",
     "text": [
      "[[ 6.45409566e-01  0.00000000e+00  1.20000000e+00  1.00000000e+00\n",
      "   0.00000000e+00 -2.00000000e+00 -4.85436893e-02 -6.66666667e-01\n",
      "   1.50000000e+00  0.00000000e+00]\n",
      " [ 1.04452996e-01  7.50000000e-01 -8.00000000e-01  0.00000000e+00\n",
      "   0.00000000e+00  0.00000000e+00  9.70873786e-02  6.66666667e-01\n",
      "  -5.00000000e-01  1.00000000e+00]\n",
      " [ 5.56349643e-01  5.00000000e-01  5.40000000e+00  1.00000000e+00\n",
      "   3.46400000e+01 -1.00000000e+00 -4.85436893e-02 -6.66666667e-01\n",
      "   1.00000000e+00  0.00000000e+00]\n",
      " [-6.08576141e-01  2.50000000e-01 -8.00000000e-01  1.00000000e+00\n",
      "  -1.92000000e+00  0.00000000e+00  0.00000000e+00  3.33333333e+00\n",
      "  -5.00000000e-01  1.00000000e+00]\n",
      " [ 7.21825179e-01 -2.50000000e-01 -2.00000000e-01  0.00000000e+00\n",
      "  -1.20000000e+00  1.00000000e+00  0.00000000e+00 -1.33333333e+00\n",
      "   0.00000000e+00  0.00000000e+00]\n",
      " [ 7.21825179e-01 -2.50000000e-01 -2.00000000e-01  0.00000000e+00\n",
      "  -1.20000000e+00  1.00000000e+00  0.00000000e+00 -1.33333333e+00\n",
      "   0.00000000e+00  1.00000000e+00]\n",
      " [-3.99120396e-01 -5.00000000e-01  0.00000000e+00  0.00000000e+00\n",
      "   4.00000000e-01  0.00000000e+00  1.89320388e+00  0.00000000e+00\n",
      "   5.00000000e-01  0.00000000e+00]\n",
      " [-3.99120396e-01 -5.00000000e-01  0.00000000e+00  0.00000000e+00\n",
      "   4.00000000e-01  0.00000000e+00  1.89320388e+00  0.00000000e+00\n",
      "   5.00000000e-01  0.00000000e+00]\n",
      " [-3.99120396e-01 -5.00000000e-01  0.00000000e+00  0.00000000e+00\n",
      "   4.00000000e-01  0.00000000e+00  1.89320388e+00  0.00000000e+00\n",
      "   5.00000000e-01  0.00000000e+00]\n",
      " [-9.37328202e-01  1.00000000e+00 -6.00000000e-01  0.00000000e+00\n",
      "   1.60000000e+00 -1.00000000e+00  4.85436893e-02  2.00000000e+00\n",
      "  -1.50000000e+00  1.00000000e+00]\n",
      " [ 0.00000000e+00  1.25000000e+00  2.40000000e+00  1.00000000e+00\n",
      "   0.00000000e+00  1.00000000e+00 -9.70873786e-03 -6.66666667e-01\n",
      "  -1.00000000e+00  1.00000000e+00]]\n"
     ]
    }
   ],
   "source": [
    "rs = RobustScaler() #normalização dos dados e para isso remove a mediana e dimensiona os dados de acordo com o intervalo quantil\n",
    "X = rs.fit_transform(df)\n",
    "\n",
    "print(X)"
   ]
  },
  {
   "cell_type": "code",
   "execution_count": 29,
   "id": "ff1e34d9-01f5-4dfc-90ad-552c79b907c7",
   "metadata": {},
   "outputs": [
    {
     "data": {
      "text/plain": [
       "array([[0.1235992 , 0.1235992 , 0.92238207, 0.07932486, 0.09592774,\n",
       "        0.09592774, 0.13282302, 0.13282302, 0.13282302, 0.16049448,\n",
       "        0.1235992 ]])"
      ]
     },
     "execution_count": 29,
     "metadata": {},
     "output_type": "execute_result"
    }
   ],
   "source": [
    "x_array = np.array(df['peso']) \n",
    "normalized_X = preprocessing.normalize([x_array]) #normaliza os dados do atributo entre 0 e 1\n",
    "\n",
    "normalized_X"
   ]
  },
  {
   "cell_type": "code",
   "execution_count": 30,
   "id": "fb0b9882-cbf5-439c-aa5b-080c4871d16a",
   "metadata": {},
   "outputs": [
    {
     "data": {
      "text/html": [
       "<div>\n",
       "<style scoped>\n",
       "    .dataframe tbody tr th:only-of-type {\n",
       "        vertical-align: middle;\n",
       "    }\n",
       "\n",
       "    .dataframe tbody tr th {\n",
       "        vertical-align: top;\n",
       "    }\n",
       "\n",
       "    .dataframe thead th {\n",
       "        text-align: right;\n",
       "    }\n",
       "</style>\n",
       "<table border=\"1\" class=\"dataframe\">\n",
       "  <thead>\n",
       "    <tr style=\"text-align: right;\">\n",
       "      <th>Medidas</th>\n",
       "      <th>0</th>\n",
       "      <th>1</th>\n",
       "      <th>2</th>\n",
       "      <th>3</th>\n",
       "      <th>4</th>\n",
       "      <th>5</th>\n",
       "      <th>6</th>\n",
       "      <th>7</th>\n",
       "      <th>8</th>\n",
       "      <th>9</th>\n",
       "    </tr>\n",
       "  </thead>\n",
       "  <tbody>\n",
       "    <tr>\n",
       "      <th>x</th>\n",
       "      <td>0.69</td>\n",
       "      <td>-1.31</td>\n",
       "      <td>0.39</td>\n",
       "      <td>0.09</td>\n",
       "      <td>1.29</td>\n",
       "      <td>0.49</td>\n",
       "      <td>0.19</td>\n",
       "      <td>-0.81</td>\n",
       "      <td>-0.31</td>\n",
       "      <td>-0.71</td>\n",
       "    </tr>\n",
       "    <tr>\n",
       "      <th>y</th>\n",
       "      <td>0.49</td>\n",
       "      <td>-1.21</td>\n",
       "      <td>0.99</td>\n",
       "      <td>0.29</td>\n",
       "      <td>1.09</td>\n",
       "      <td>0.79</td>\n",
       "      <td>-0.31</td>\n",
       "      <td>-0.81</td>\n",
       "      <td>-0.31</td>\n",
       "      <td>-1.01</td>\n",
       "    </tr>\n",
       "  </tbody>\n",
       "</table>\n",
       "</div>"
      ],
      "text/plain": [
       "Medidas     0     1     2     3     4     5     6     7     8     9\n",
       "x        0.69 -1.31  0.39  0.09  1.29  0.49  0.19 -0.81 -0.31 -0.71\n",
       "y        0.49 -1.21  0.99  0.29  1.09  0.79 -0.31 -0.81 -0.31 -1.01"
      ]
     },
     "execution_count": 30,
     "metadata": {},
     "output_type": "execute_result"
    }
   ],
   "source": [
    "x = np.array([2.5,0.5,2.2,1.9,3.1,2.3,2.0,1.0,1.5,1.1])\n",
    "y = np.array([2.4,0.7,2.9,2.2,3.0,2.7,1.6,1.1,1.6,0.9])\n",
    "\n",
    "Z = np.c_[x-x.mean(), y - y.mean()] #concatena os vetores agora centralizados\n",
    "df = pd.DataFrame(Z, columns=['x','y'])\n",
    "df.index.name = 'Medidas'\n",
    "df.T #transposta da matriz"
   ]
  },
  {
   "cell_type": "code",
   "execution_count": 31,
   "id": "5161b482-63c7-4464-ae58-9de80ed3427e",
   "metadata": {},
   "outputs": [
    {
     "data": {
      "image/png": "[encoded data removed]",
      "text/plain": [
       "<Figure size 432x288 with 1 Axes>"
      ]
     },
     "metadata": {
      "needs_background": "light"
     },
     "output_type": "display_data"
    }
   ],
   "source": [
    "pca = PCA(n_components = 2, copy = True) #executando o PCA\n",
    "X = pca.fit_transform(Z)\n",
    "\n",
    "fig, ax = plt.subplots()\n",
    "ax.scatter(X[:,0], X[:,1])\n",
    "ax.set_xlim([-2,2])\n",
    "ax.set_ylim([-2,2])\n",
    "ax.axhline(linestyle='dashed') #linha no eixo x\n",
    "ax.axvline(linestyle='dashed') #linha no eixo y\n",
    "_ = ax.set_title(\"PCA\")"
   ]
  }
 ],
 "metadata": {
  "kernelspec": {
   "display_name": "Python 3 (ipykernel)",
   "language": "python",
   "name": "python3"
  },
  "language_info": {
   "codemirror_mode": {
    "name": "ipython",
    "version": 3
   },
   "file_extension": ".py",
   "mimetype": "text/x-python",
   "name": "python",
   "nbconvert_exporter": "python",
   "pygments_lexer": "ipython3",
   "version": "3.9.7"
  }
 },
 "nbformat": 4,
 "nbformat_minor": 5
}
